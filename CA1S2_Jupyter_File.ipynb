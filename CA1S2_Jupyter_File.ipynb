{
 "cells": [
  {
   "cell_type": "markdown",
   "id": "fa906bd1",
   "metadata": {},
   "source": [
    "### PySpark reading a file form a CSV"
   ]
  },
  {
   "cell_type": "code",
   "execution_count": 1,
   "id": "38537e50",
   "metadata": {},
   "outputs": [],
   "source": [
    "# import warnings\n",
    "warnings.filterwarnings(\"ignore\")"
   ]
  },
  {
   "cell_type": "code",
   "execution_count": null,
   "id": "e35c80bc",
   "metadata": {},
   "outputs": [],
   "source": []
  },
  {
   "cell_type": "code",
   "execution_count": null,
   "id": "eb90175a",
   "metadata": {},
   "outputs": [],
   "source": []
  },
  {
   "cell_type": "code",
   "execution_count": 2,
   "id": "98648c75",
   "metadata": {},
   "outputs": [
    {
     "name": "stderr",
     "output_type": "stream",
     "text": [
      "24/03/22 14:07:54 WARN SparkSession: Using an existing Spark session; only runtime SQL configurations will take effect.\n",
      "[Stage 2:>                                                          (0 + 1) / 1]\r"
     ]
    },
    {
     "name": "stdout",
     "output_type": "stream",
     "text": [
      "+----------------------------------------------+-------------------------------------------------+\n",
      "|file                                          |message                                          |\n",
      "+----------------------------------------------+-------------------------------------------------+\n",
      "|allen-p/_sent_mail/1.                         |messageid 187829811075855378110javamailevansthyme|\n",
      "|Date: Mon                                     |14 may 2001 163900 0700 pdt                      |\n",
      "|From: phillip.allen@enron.com                 |                                                 |\n",
      "|To: tim.belden@enron.com                      |                                                 |\n",
      "|Subject:                                      |                                                 |\n",
      "|Mime-Version: 1.0                             |                                                 |\n",
      "|Content-Type: text/plain; charset=us-ascii    |                                                 |\n",
      "|Content-Transfer-Encoding: 7bit               |                                                 |\n",
      "|X-From: Phillip K Allen                       |                                                 |\n",
      "|X-To: Tim Belden <Tim Belden/Enron@EnronXGate>|                                                 |\n",
      "|X-cc:                                         |                                                 |\n",
      "|X-bcc:                                        |                                                 |\n",
      "|X-Folder: \\Phillip_Allen_Jan2002_1\\Allen      |phillip ksent mail                               |\n",
      "|X-Origin: Allen-P                             |                                                 |\n",
      "|X-FileName: pallen (Non-Privileged).pst       |                                                 |\n",
      "|Here is our forecast                          |                                                 |\n",
      "| \"                                            |                                                 |\n",
      "|allen-p/_sent_mail/10.                        |messageid 154649861075855378456javamailevansthyme|\n",
      "|Date: Fri                                     |4 may 2001 135100 0700 pdt                       |\n",
      "|From: phillip.allen@enron.com                 |                                                 |\n",
      "+----------------------------------------------+-------------------------------------------------+\n",
      "only showing top 20 rows\n",
      "\n"
     ]
    },
    {
     "name": "stderr",
     "output_type": "stream",
     "text": [
      "\r",
      "                                                                                \r"
     ]
    }
   ],
   "source": [
    "from pyspark.sql import SparkSession\n",
    "from pyspark.sql.functions import udf\n",
    "from pyspark.sql.types import StringType\n",
    "import re\n",
    "\n",
    "# Initialize Spark Session\n",
    "spark = SparkSession.builder.appName(\"EmailPreprocessing\").getOrCreate()\n",
    "\n",
    "# Load the dataset\n",
    "df = spark.read.csv(\"hdfs:///user1/data_batch_00\", header=True, inferSchema=True)\n",
    "\n",
    "# Handling Missing Values\n",
    "# Fill missing values with an empty string or a specific placeholder if necessary\n",
    "df = df.fillna('')\n",
    "\n",
    "# Text Preprocessing Function\n",
    "def preprocess_text(text):\n",
    "    if text is None:\n",
    "        return ''\n",
    "    # Convert text to lowercase\n",
    "    text = text.lower()\n",
    "    # Remove email headers or unnecessary metadata\n",
    "    text = re.sub(r'^[a-z]+:.*$', '', text) # Remove lines that start with metadata-like patterns\n",
    "    text = re.sub(r'\\s+', ' ', text) # Replace multiple whitespace with single space\n",
    "    # Remove special characters (customize based on the dataset and needs)\n",
    "    text = re.sub(r'[^a-z0-9\\s]', '', text)\n",
    "    return text.strip()\n",
    "\n",
    "# Register UDF for text preprocessing\n",
    "preprocess_text_udf = udf(preprocess_text, StringType())\n",
    "\n",
    "# Apply text preprocessing to the 'message' column\n",
    "df = df.withColumn('message', preprocess_text_udf(df['message']))\n",
    "\n",
    "# Show the cleaned data\n",
    "df.show(truncate=False)\n"
   ]
  },
  {
   "cell_type": "code",
   "execution_count": 3,
   "id": "e9aebe68",
   "metadata": {},
   "outputs": [
    {
     "name": "stderr",
     "output_type": "stream",
     "text": [
      "                                                                                \r"
     ]
    },
    {
     "name": "stdout",
     "output_type": "stream",
     "text": [
      "+-------------------------------------------------+------------------------------------------------------------------------------------------------------------------+\n",
      "|message                                          |features                                                                                                          |\n",
      "+-------------------------------------------------+------------------------------------------------------------------------------------------------------------------+\n",
      "|messageid 187829811075855378110javamailevansthyme|(20,[12,14],[0.24635006473684198,3.4364679300759433])                                                             |\n",
      "|14 may 2001 163900 0700 pdt                      |(20,[0,1,5,12],[6.9287616242614884,6.099049147035107,3.3109247162144797,0.24635006473684198])                     |\n",
      "|                                                 |(20,[12],[0.24635006473684198])                                                                                   |\n",
      "|                                                 |(20,[12],[0.24635006473684198])                                                                                   |\n",
      "|                                                 |(20,[12],[0.24635006473684198])                                                                                   |\n",
      "|                                                 |(20,[12],[0.24635006473684198])                                                                                   |\n",
      "|                                                 |(20,[12],[0.24635006473684198])                                                                                   |\n",
      "|                                                 |(20,[12],[0.24635006473684198])                                                                                   |\n",
      "|                                                 |(20,[12],[0.24635006473684198])                                                                                   |\n",
      "|                                                 |(20,[12],[0.24635006473684198])                                                                                   |\n",
      "|                                                 |(20,[12],[0.24635006473684198])                                                                                   |\n",
      "|                                                 |(20,[12],[0.24635006473684198])                                                                                   |\n",
      "|phillip ksent mail                               |(20,[0,15,19],[3.4643808121307442,3.1720721795912032,3.5088704016684273])                                         |\n",
      "|                                                 |(20,[12],[0.24635006473684198])                                                                                   |\n",
      "|                                                 |(20,[12],[0.24635006473684198])                                                                                   |\n",
      "|                                                 |(20,[12],[0.24635006473684198])                                                                                   |\n",
      "|                                                 |(20,[12],[0.24635006473684198])                                                                                   |\n",
      "|messageid 154649861075855378456javamailevansthyme|(20,[9,12],[3.5455729469520203,0.24635006473684198])                                                              |\n",
      "|4 may 2001 135100 0700 pdt                       |(20,[0,1,5,10,12],[3.4643808121307442,6.099049147035107,3.3109247162144797,3.415392530080526,0.24635006473684198])|\n",
      "|                                                 |(20,[12],[0.24635006473684198])                                                                                   |\n",
      "+-------------------------------------------------+------------------------------------------------------------------------------------------------------------------+\n",
      "only showing top 20 rows\n",
      "\n"
     ]
    }
   ],
   "source": [
    "from pyspark.ml.feature import Tokenizer, StopWordsRemover, HashingTF, IDF\n",
    "from pyspark.ml import Pipeline\n",
    "\n",
    "def apply_tfidf_vectorization(dataframe):\n",
    "    \"\"\"\n",
    "    Applies TF-IDF vectorization to a DataFrame with a 'message' column.\n",
    "    \n",
    "    Parameters:\n",
    "    - dataframe: A PySpark DataFrame with a column named 'message' containing text data.\n",
    "    \n",
    "    Returns:\n",
    "    - A DataFrame with an additional 'features' column containing the TF-IDF vectors.\n",
    "    \"\"\"\n",
    "    # Step 1: Tokenization\n",
    "    tokenizer = Tokenizer(inputCol=\"message\", outputCol=\"words\")\n",
    "    \n",
    "    # Step 2: Remove Stop Words\n",
    "    remover = StopWordsRemover(inputCol=\"words\", outputCol=\"filtered_words\")\n",
    "    \n",
    "    # Step 3: TF (Term Frequency)\n",
    "    hashingTF = HashingTF(inputCol=\"filtered_words\", outputCol=\"raw_features\", numFeatures=20)\n",
    "    \n",
    "    # Step 4: IDF (Inverse Document Frequency)\n",
    "    idf = IDF(inputCol=\"raw_features\", outputCol=\"features\")\n",
    "    \n",
    "    # Define a pipeline that applies all the steps\n",
    "    pipeline = Pipeline(stages=[tokenizer, remover, hashingTF, idf])\n",
    "    \n",
    "    # Fit the pipeline to the data\n",
    "    model = pipeline.fit(dataframe)\n",
    "    \n",
    "    # Transform the data using the pipeline\n",
    "    result = model.transform(dataframe)\n",
    "    \n",
    "    # Return the DataFrame with TF-IDF features\n",
    "    return result\n",
    "\n",
    "# Assuming 'df' is your DataFrame with the 'message' column\n",
    "# Apply the TF-IDF vectorization\n",
    "df_with_features = apply_tfidf_vectorization(df)\n",
    "\n",
    "# Show the resulting DataFrame\n",
    "df_with_features.select('message', 'features').show(truncate=False)\n"
   ]
  },
  {
   "cell_type": "code",
   "execution_count": 4,
   "id": "1c134d6f",
   "metadata": {},
   "outputs": [
    {
     "name": "stderr",
     "output_type": "stream",
     "text": [
      "2024-03-22 14:08:37.275076: I external/local_tsl/tsl/cuda/cudart_stub.cc:31] Could not find cuda drivers on your machine, GPU will not be used.\n",
      "2024-03-22 14:08:37.489980: E external/local_xla/xla/stream_executor/cuda/cuda_dnn.cc:9261] Unable to register cuDNN factory: Attempting to register factory for plugin cuDNN when one has already been registered\n",
      "2024-03-22 14:08:37.490076: E external/local_xla/xla/stream_executor/cuda/cuda_fft.cc:607] Unable to register cuFFT factory: Attempting to register factory for plugin cuFFT when one has already been registered\n",
      "2024-03-22 14:08:37.549881: E external/local_xla/xla/stream_executor/cuda/cuda_blas.cc:1515] Unable to register cuBLAS factory: Attempting to register factory for plugin cuBLAS when one has already been registered\n",
      "2024-03-22 14:08:37.634036: I external/local_tsl/tsl/cuda/cudart_stub.cc:31] Could not find cuda drivers on your machine, GPU will not be used.\n",
      "2024-03-22 14:08:37.635493: I tensorflow/core/platform/cpu_feature_guard.cc:182] This TensorFlow binary is optimized to use available CPU instructions in performance-critical operations.\n",
      "To enable the following instructions: AVX2, in other operations, rebuild TensorFlow with the appropriate compiler flags.\n",
      "2024-03-22 14:08:39.378565: W tensorflow/compiler/tf2tensorrt/utils/py_utils.cc:38] TF-TRT Warning: Could not find TensorRT\n"
     ]
    },
    {
     "name": "stdout",
     "output_type": "stream",
     "text": [
      "Model: \"sequential\"\n",
      "_________________________________________________________________\n",
      " Layer (type)                Output Shape              Param #   \n",
      "=================================================================\n",
      " dense (Dense)               (None, 64)                1344      \n",
      "                                                                 \n",
      " dropout (Dropout)           (None, 64)                0         \n",
      "                                                                 \n",
      " dense_1 (Dense)             (None, 32)                2080      \n",
      "                                                                 \n",
      " dense_2 (Dense)             (None, 1)                 33        \n",
      "                                                                 \n",
      "=================================================================\n",
      "Total params: 3457 (13.50 KB)\n",
      "Trainable params: 3457 (13.50 KB)\n",
      "Non-trainable params: 0 (0.00 Byte)\n",
      "_________________________________________________________________\n"
     ]
    }
   ],
   "source": [
    "from keras.models import Sequential\n",
    "from keras.layers import Dense, Dropout\n",
    "from keras.optimizers import Adam\n",
    "\n",
    "# Assuming your input features dimension is 20 (as seen from the TF-IDF vector size)\n",
    "input_dim = 20  # This should match the size of your TF-IDF vectors\n",
    "\n",
    "model = Sequential()\n",
    "model.add(Dense(64, input_dim=input_dim, activation='relu'))  # First hidden layer\n",
    "model.add(Dropout(0.5))  # Dropout layer to prevent overfitting\n",
    "model.add(Dense(32, activation='relu'))  # Second hidden layer\n",
    "model.add(Dense(1, activation='sigmoid'))  # Output layer\n",
    "\n",
    "# Compile the model\n",
    "model.compile(loss='binary_crossentropy', optimizer=Adam(learning_rate=0.001), metrics=['accuracy'])\n",
    "\n",
    "# Summary of the model\n",
    "model.summary()\n"
   ]
  },
  {
   "cell_type": "code",
   "execution_count": 5,
   "id": "aab1bdfb",
   "metadata": {},
   "outputs": [
    {
     "name": "stderr",
     "output_type": "stream",
     "text": [
      "24/03/22 14:08:42 WARN SparkSession: Using an existing Spark session; only runtime SQL configurations will take effect.\n",
      "                                                                                \r"
     ]
    }
   ],
   "source": [
    "from pyspark.sql import SparkSession\n",
    "\n",
    "# Initialize Spark Session (if not already initialized)\n",
    "spark = SparkSession.builder.appName(\"YourAppName\").getOrCreate()\n",
    "\n",
    "# Load your dataset into a Spark DataFrame\n",
    "spark_df = spark.read.csv(\"hdfs:///user1/data_batch_00\", header=True, inferSchema=True)\n"
   ]
  },
  {
   "cell_type": "code",
   "execution_count": 6,
   "id": "8c706b67",
   "metadata": {},
   "outputs": [],
   "source": [
    "# print(pandas_df.columns)"
   ]
  },
  {
   "cell_type": "code",
   "execution_count": 7,
   "id": "b85151aa",
   "metadata": {},
   "outputs": [
    {
     "name": "stderr",
     "output_type": "stream",
     "text": [
      "                                                                                \r"
     ]
    }
   ],
   "source": [
    "# Convert Spark DataFrame to pandas DataFrame\n",
    "pandas_df = spark_df.toPandas()\n",
    "\n",
    "# Assuming 'feature_columns' are the names of your feature columns and 'label_column' is the name of your label column\n",
    "features = pandas_df[['file']].values\n",
    "labels = pandas_df['message'].values\n"
   ]
  },
  {
   "cell_type": "code",
   "execution_count": 8,
   "id": "3dcd59be",
   "metadata": {},
   "outputs": [],
   "source": [
    "# Extracting multiple feature columns\n",
    "features = pandas_df[['file']].values\n",
    "\n",
    "# Extracting the label column\n",
    "labels = pandas_df['message'].values\n"
   ]
  },
  {
   "cell_type": "code",
   "execution_count": 9,
   "id": "8acbc723",
   "metadata": {},
   "outputs": [
    {
     "name": "stderr",
     "output_type": "stream",
     "text": [
      "                                                                                \r"
     ]
    }
   ],
   "source": [
    "# Convert Spark DataFrame to pandas DataFrame\n",
    "pandas_df = spark_df.toPandas()\n",
    "\n",
    "# Assuming 'feature_columns' are the names of your feature columns and 'label_column' is the name of your label column\n",
    "features = pandas_df[['file']].values\n",
    "labels = pandas_df['message'].values\n"
   ]
  },
  {
   "cell_type": "code",
   "execution_count": null,
   "id": "16904470",
   "metadata": {},
   "outputs": [],
   "source": [
    "# ANN Model"
   ]
  },
  {
   "cell_type": "code",
   "execution_count": 10,
   "id": "5e5c2fb9",
   "metadata": {},
   "outputs": [
    {
     "name": "stdout",
     "output_type": "stream",
     "text": [
      "Epoch 1/10\n",
      "25/25 [==============================] - 2s 18ms/step - loss: 0.7095 - accuracy: 0.5138 - val_loss: 0.6927 - val_accuracy: 0.5250\n",
      "Epoch 2/10\n",
      "25/25 [==============================] - 0s 4ms/step - loss: 0.7030 - accuracy: 0.5163 - val_loss: 0.6925 - val_accuracy: 0.5150\n",
      "Epoch 3/10\n",
      "25/25 [==============================] - 0s 6ms/step - loss: 0.6938 - accuracy: 0.5387 - val_loss: 0.6929 - val_accuracy: 0.5050\n",
      "Epoch 4/10\n",
      "25/25 [==============================] - 0s 7ms/step - loss: 0.6989 - accuracy: 0.4988 - val_loss: 0.6928 - val_accuracy: 0.5200\n",
      "Epoch 5/10\n",
      "25/25 [==============================] - 0s 8ms/step - loss: 0.6951 - accuracy: 0.5050 - val_loss: 0.6939 - val_accuracy: 0.5200\n",
      "Epoch 6/10\n",
      "25/25 [==============================] - 0s 10ms/step - loss: 0.6875 - accuracy: 0.5288 - val_loss: 0.6983 - val_accuracy: 0.4800\n",
      "Epoch 7/10\n",
      "25/25 [==============================] - 0s 5ms/step - loss: 0.6883 - accuracy: 0.5375 - val_loss: 0.6921 - val_accuracy: 0.5100\n",
      "Epoch 8/10\n",
      "25/25 [==============================] - 0s 8ms/step - loss: 0.6889 - accuracy: 0.5475 - val_loss: 0.6926 - val_accuracy: 0.5450\n",
      "Epoch 9/10\n",
      "25/25 [==============================] - 0s 6ms/step - loss: 0.6937 - accuracy: 0.5075 - val_loss: 0.6938 - val_accuracy: 0.5350\n",
      "Epoch 10/10\n",
      "25/25 [==============================] - 0s 11ms/step - loss: 0.6869 - accuracy: 0.5688 - val_loss: 0.6922 - val_accuracy: 0.5500\n",
      "Training Complete.\n"
     ]
    }
   ],
   "source": [
    "import numpy as np\n",
    "from sklearn.model_selection import train_test_split\n",
    "from keras.models import Sequential\n",
    "from keras.layers import Dense, Dropout\n",
    "from keras.optimizers import Adam\n",
    "\n",
    "def create_model(input_dim):\n",
    "    \"\"\"Creates and returns a simple neural network model.\"\"\"\n",
    "    model = Sequential([\n",
    "        Dense(64, input_dim=input_dim, activation='relu'),\n",
    "        Dropout(0.5),\n",
    "        Dense(32, activation='relu'),\n",
    "        Dense(1, activation='sigmoid')\n",
    "    ])\n",
    "    model.compile(optimizer=Adam(learning_rate=0.001),\n",
    "                  loss='binary_crossentropy',\n",
    "                  metrics=['accuracy'])\n",
    "    return model\n",
    "\n",
    "def train_model(features, labels, input_dim, epochs=10, batch_size=32, test_size=0.2):\n",
    "    \"\"\"\n",
    "    Trains the neural network model on the given dataset.\n",
    "    \n",
    "    Parameters:\n",
    "    - features: NumPy array or equivalent containing the input features.\n",
    "    - labels: NumPy array or equivalent containing the labels.\n",
    "    - input_dim: The dimensionality of the input features.\n",
    "    - epochs: The number of times to iterate over the entire dataset.\n",
    "    - batch_size: The number of samples per gradient update.\n",
    "    - test_size: The proportion of the dataset to include in the test split.\n",
    "    \n",
    "    Returns:\n",
    "    - model: The trained Keras model.\n",
    "    - history: A history object containing the training history metrics.\n",
    "    \"\"\"\n",
    "    # Split the dataset into training and validation sets\n",
    "    X_train, X_val, y_train, y_val = train_test_split(features, labels, test_size=test_size, random_state=42)\n",
    "    \n",
    "    # Create the model\n",
    "    model = create_model(input_dim)\n",
    "    \n",
    "    # Train the model\n",
    "    history = model.fit(X_train, y_train, epochs=epochs, batch_size=batch_size,\n",
    "                        validation_data=(X_val, y_val), verbose=1)\n",
    "    \n",
    "    print(\"Training Complete.\")\n",
    "    \n",
    "    return model, history\n",
    "\n",
    "# Generating dummy data for demonstration\n",
    "features = np.random.rand(1000, 20)  # 1000 samples, 20 features each\n",
    "labels = np.random.randint(2, size=(1000, ))  # 1000 binary labels\n",
    "\n",
    "# Example usage\n",
    "input_dim = 20  # The dimensionality of your input features\n",
    "model, history = train_model(features, labels, input_dim=input_dim)\n"
   ]
  },
  {
   "cell_type": "code",
   "execution_count": null,
   "id": "0dfe08c2",
   "metadata": {},
   "outputs": [],
   "source": [
    "# CNN Model"
   ]
  },
  {
   "cell_type": "code",
   "execution_count": 1,
   "id": "fad46994",
   "metadata": {},
   "outputs": [
    {
     "name": "stderr",
     "output_type": "stream",
     "text": [
      "2024-03-23 10:06:43.100017: I external/local_tsl/tsl/cuda/cudart_stub.cc:31] Could not find cuda drivers on your machine, GPU will not be used.\n",
      "2024-03-23 10:06:43.303020: E external/local_xla/xla/stream_executor/cuda/cuda_dnn.cc:9261] Unable to register cuDNN factory: Attempting to register factory for plugin cuDNN when one has already been registered\n",
      "2024-03-23 10:06:43.303096: E external/local_xla/xla/stream_executor/cuda/cuda_fft.cc:607] Unable to register cuFFT factory: Attempting to register factory for plugin cuFFT when one has already been registered\n",
      "2024-03-23 10:06:43.340787: E external/local_xla/xla/stream_executor/cuda/cuda_blas.cc:1515] Unable to register cuBLAS factory: Attempting to register factory for plugin cuBLAS when one has already been registered\n",
      "2024-03-23 10:06:43.430672: I external/local_tsl/tsl/cuda/cudart_stub.cc:31] Could not find cuda drivers on your machine, GPU will not be used.\n",
      "2024-03-23 10:06:43.432662: I tensorflow/core/platform/cpu_feature_guard.cc:182] This TensorFlow binary is optimized to use available CPU instructions in performance-critical operations.\n",
      "To enable the following instructions: AVX2, in other operations, rebuild TensorFlow with the appropriate compiler flags.\n",
      "2024-03-23 10:06:44.919211: W tensorflow/compiler/tf2tensorrt/utils/py_utils.cc:38] TF-TRT Warning: Could not find TensorRT\n",
      "/usr/lib/python3/dist-packages/scipy/__init__.py:146: UserWarning: A NumPy version >=1.17.3 and <1.25.0 is required for this version of SciPy (detected version 1.26.4\n",
      "  warnings.warn(f\"A NumPy version >={np_minversion} and <{np_maxversion}\"\n"
     ]
    },
    {
     "name": "stdout",
     "output_type": "stream",
     "text": [
      "Epoch 1/10\n",
      "3/3 [==============================] - 1s 70ms/step - loss: 0.7188 - accuracy: 0.4500 - val_loss: 0.6634 - val_accuracy: 0.5500\n",
      "Epoch 2/10\n",
      "3/3 [==============================] - 0s 23ms/step - loss: 0.6986 - accuracy: 0.5125 - val_loss: 0.7212 - val_accuracy: 0.4000\n",
      "Epoch 3/10\n",
      "3/3 [==============================] - 0s 19ms/step - loss: 0.6817 - accuracy: 0.5500 - val_loss: 0.7477 - val_accuracy: 0.4000\n",
      "Epoch 4/10\n",
      "3/3 [==============================] - 0s 25ms/step - loss: 0.6709 - accuracy: 0.6000 - val_loss: 0.7487 - val_accuracy: 0.4000\n",
      "Epoch 5/10\n",
      "3/3 [==============================] - 0s 29ms/step - loss: 0.6575 - accuracy: 0.6125 - val_loss: 0.7359 - val_accuracy: 0.4000\n",
      "Epoch 6/10\n",
      "3/3 [==============================] - 0s 26ms/step - loss: 0.6535 - accuracy: 0.5875 - val_loss: 0.7138 - val_accuracy: 0.4000\n",
      "Epoch 7/10\n",
      "3/3 [==============================] - 0s 29ms/step - loss: 0.6553 - accuracy: 0.5875 - val_loss: 0.6966 - val_accuracy: 0.4000\n",
      "Epoch 8/10\n",
      "3/3 [==============================] - 0s 41ms/step - loss: 0.6375 - accuracy: 0.6125 - val_loss: 0.6845 - val_accuracy: 0.4000\n",
      "Epoch 9/10\n",
      "3/3 [==============================] - 0s 22ms/step - loss: 0.6441 - accuracy: 0.6250 - val_loss: 0.6893 - val_accuracy: 0.4000\n",
      "Epoch 10/10\n",
      "3/3 [==============================] - 0s 28ms/step - loss: 0.6500 - accuracy: 0.5875 - val_loss: 0.7005 - val_accuracy: 0.4000\n",
      "Final Training Loss: 0.6500\n",
      "Final Training Accuracy: 0.5875\n",
      "Final Validation Loss: 0.7005\n",
      "Final Validation Accuracy: 0.4000\n",
      "Training Complete.\n"
     ]
    }
   ],
   "source": [
    "from keras.models import Sequential\n",
    "from keras.layers import Conv1D, MaxPooling1D, Flatten, Dense, Dropout\n",
    "from keras.optimizers import Adam\n",
    "from sklearn.model_selection import train_test_split\n",
    "import numpy as np\n",
    "\n",
    "def create_cnn_model(input_length, input_dim):\n",
    "    \"\"\"Creates and returns a simple 1D CNN model.\"\"\"\n",
    "    model = Sequential([\n",
    "        Conv1D(filters=32, kernel_size=3, activation='relu', input_shape=(input_length, input_dim)),\n",
    "        MaxPooling1D(pool_size=2),\n",
    "        Flatten(),\n",
    "        Dense(64, activation='relu'),\n",
    "        Dropout(0.5),\n",
    "        Dense(1, activation='sigmoid')\n",
    "    ])\n",
    "    model.compile(optimizer=Adam(learning_rate=0.001),\n",
    "                  loss='binary_crossentropy',\n",
    "                  metrics=['accuracy'])\n",
    "    return model\n",
    "\n",
    "def train_cnn_model_with_dummy_data(input_length=12, input_dim=20, epochs=10, batch_size=32, test_size=0.2, samples=100):\n",
    "    \"\"\"\n",
    "    Generates dummy data and trains the CNN model on it.\n",
    "    \n",
    "    Parameters are set to create a dataset with a default shape and then train on it.\n",
    "    \"\"\"\n",
    "    # Generating dummy data\n",
    "    features = np.random.rand(samples, input_length, input_dim)\n",
    "    labels = np.random.randint(2, size=(samples,))\n",
    "\n",
    "    # Split the dataset into training and validation sets\n",
    "    X_train, X_val, y_train, y_val = train_test_split(features, labels, test_size=test_size, random_state=42)\n",
    "    \n",
    "    # Create the model\n",
    "    model = create_cnn_model(input_length, input_dim)\n",
    "    \n",
    "    # Train the model\n",
    "    history = model.fit(X_train, y_train, epochs=epochs, batch_size=batch_size,\n",
    "                        validation_data=(X_val, y_val), verbose=1)\n",
    "    \n",
    "    # Print the final epoch's metrics for training and validation\n",
    "    print(f\"Final Training Loss: {history.history['loss'][-1]:.4f}\")\n",
    "    print(f\"Final Training Accuracy: {history.history['accuracy'][-1]:.4f}\")\n",
    "    print(f\"Final Validation Loss: {history.history['val_loss'][-1]:.4f}\")\n",
    "    print(f\"Final Validation Accuracy: {history.history['val_accuracy'][-1]:.4f}\")\n",
    "    \n",
    "    print(\"Training Complete.\")\n",
    "\n",
    "# Call the function with default parameters\n",
    "train_cnn_model_with_dummy_data()\n"
   ]
  },
  {
   "cell_type": "code",
   "execution_count": 1,
   "id": "16cc28ee",
   "metadata": {},
   "outputs": [
    {
     "name": "stderr",
     "output_type": "stream",
     "text": [
      "2024-03-24 07:40:43.986109: I external/local_tsl/tsl/cuda/cudart_stub.cc:31] Could not find cuda drivers on your machine, GPU will not be used.\n",
      "2024-03-24 07:40:44.247598: E external/local_xla/xla/stream_executor/cuda/cuda_dnn.cc:9261] Unable to register cuDNN factory: Attempting to register factory for plugin cuDNN when one has already been registered\n",
      "2024-03-24 07:40:44.247681: E external/local_xla/xla/stream_executor/cuda/cuda_fft.cc:607] Unable to register cuFFT factory: Attempting to register factory for plugin cuFFT when one has already been registered\n",
      "2024-03-24 07:40:44.289906: E external/local_xla/xla/stream_executor/cuda/cuda_blas.cc:1515] Unable to register cuBLAS factory: Attempting to register factory for plugin cuBLAS when one has already been registered\n",
      "2024-03-24 07:40:44.366759: I external/local_tsl/tsl/cuda/cudart_stub.cc:31] Could not find cuda drivers on your machine, GPU will not be used.\n",
      "2024-03-24 07:40:44.368422: I tensorflow/core/platform/cpu_feature_guard.cc:182] This TensorFlow binary is optimized to use available CPU instructions in performance-critical operations.\n",
      "To enable the following instructions: AVX2, in other operations, rebuild TensorFlow with the appropriate compiler flags.\n",
      "2024-03-24 07:40:45.725763: W tensorflow/compiler/tf2tensorrt/utils/py_utils.cc:38] TF-TRT Warning: Could not find TensorRT\n",
      "/usr/lib/python3/dist-packages/scipy/__init__.py:146: UserWarning: A NumPy version >=1.17.3 and <1.25.0 is required for this version of SciPy (detected version 1.26.4\n",
      "  warnings.warn(f\"A NumPy version >={np_minversion} and <{np_maxversion}\"\n"
     ]
    },
    {
     "name": "stdout",
     "output_type": "stream",
     "text": [
      "4/4 [==============================] - 0s 6ms/step\n",
      "Suspicious emails: 63, Normal emails: 37\n",
      "    Probability_Suspicious  Is_Suspicious\n",
      "0                 0.475448              0\n",
      "1                 0.503855              1\n",
      "2                 0.525945              1\n",
      "3                 0.574068              1\n",
      "4                 0.561832              1\n",
      "..                     ...            ...\n",
      "95                0.469147              0\n",
      "96                0.547939              1\n",
      "97                0.523842              1\n",
      "98                0.501127              1\n",
      "99                0.429777              0\n",
      "\n",
      "[100 rows x 2 columns]\n"
     ]
    }
   ],
   "source": [
    "import numpy as np\n",
    "import pandas as pd\n",
    "from keras.models import Sequential\n",
    "from keras.layers import Conv1D, MaxPooling1D, Flatten, Dense, Dropout\n",
    "from keras.optimizers import Adam\n",
    "\n",
    "# Define a simple CNN model structure as a placeholder\n",
    "def create_placeholder_cnn_model(input_length, input_dim):\n",
    "    model = Sequential([\n",
    "        Conv1D(filters=32, kernel_size=3, activation='relu', input_shape=(input_length, input_dim)),\n",
    "        MaxPooling1D(pool_size=2),\n",
    "        Flatten(),\n",
    "        Dense(64, activation='relu'),\n",
    "        Dropout(0.5),\n",
    "        Dense(1, activation='sigmoid')\n",
    "    ])\n",
    "    model.compile(optimizer=Adam(learning_rate=0.001), loss='binary_crossentropy', metrics=['accuracy'])\n",
    "    return model\n",
    "\n",
    "# Assuming the input features are of length 10 and each feature has a dimensionality of 20\n",
    "input_length = 10\n",
    "input_dim = 20\n",
    "\n",
    "# Creating a placeholder model (Replace this with your actual trained model)\n",
    "trained_model = create_placeholder_cnn_model(input_length, input_dim)\n",
    "\n",
    "# Generating dummy new_features as a placeholder (Replace this with your actual new email features)\n",
    "new_features = np.random.rand(100, input_length, input_dim)  # Example with 100 new emails\n",
    "\n",
    "def classify_and_analyze_emails(new_features, model, threshold=0.5):\n",
    "    predictions_proba = model.predict(new_features)\n",
    "    predictions = (predictions_proba >= threshold).astype(int)\n",
    "    analysis_df = pd.DataFrame({\n",
    "        'Probability_Suspicious': predictions_proba.flatten(),\n",
    "        'Is_Suspicious': predictions.flatten()\n",
    "    })\n",
    "    counts = analysis_df['Is_Suspicious'].value_counts().to_dict()\n",
    "    print(f\"Suspicious emails: {counts.get(1, 0)}, Normal emails: {counts.get(0, 0)}\")\n",
    "    return analysis_df\n",
    "\n",
    "# Classify and analyze the placeholder new_features\n",
    "analysis_df = classify_and_analyze_emails(new_features, trained_model)\n",
    "print(analysis_df.head(400))\n"
   ]
  },
  {
   "cell_type": "code",
   "execution_count": 13,
   "id": "3db96922",
   "metadata": {},
   "outputs": [
    {
     "name": "stdout",
     "output_type": "stream",
     "text": [
      "Defaulting to user installation because normal site-packages is not writeable\n",
      "Requirement already satisfied: matplotlib in /usr/lib/python3/dist-packages (3.5.1)\n",
      "Requirement already satisfied: seaborn in /home/hduser/.local/lib/python3.10/site-packages (0.13.2)\n",
      "Requirement already satisfied: numpy!=1.24.0,>=1.20 in /home/hduser/.local/lib/python3.10/site-packages (from seaborn) (1.26.4)\n",
      "Requirement already satisfied: pandas>=1.2 in /home/hduser/.local/lib/python3.10/site-packages (from seaborn) (2.2.1)\n",
      "Requirement already satisfied: python-dateutil>=2.8.2 in /home/hduser/.local/lib/python3.10/site-packages (from pandas>=1.2->seaborn) (2.9.0.post0)\n",
      "Requirement already satisfied: pytz>=2020.1 in /usr/lib/python3/dist-packages (from pandas>=1.2->seaborn) (2022.1)\n",
      "Requirement already satisfied: tzdata>=2022.7 in /home/hduser/.local/lib/python3.10/site-packages (from pandas>=1.2->seaborn) (2024.1)\n",
      "Requirement already satisfied: six>=1.5 in /usr/lib/python3/dist-packages (from python-dateutil>=2.8.2->pandas>=1.2->seaborn) (1.16.0)\n",
      "Note: you may need to restart the kernel to use updated packages.\n"
     ]
    }
   ],
   "source": [
    "pip install matplotlib seaborn\n"
   ]
  },
  {
   "cell_type": "code",
   "execution_count": 23,
   "id": "05c587ed",
   "metadata": {},
   "outputs": [
    {
     "name": "stdout",
     "output_type": "stream",
     "text": [
      "   Probability_Suspicious  Is_Suspicious\n",
      "0                0.463556              0\n",
      "1                0.341104              0\n",
      "2                0.462256              0\n",
      "3                0.431458              0\n",
      "4                0.355365              0\n"
     ]
    }
   ],
   "source": [
    "import numpy as np\n",
    "import pandas as pd\n",
    "import matplotlib.pyplot as plt\n",
    "import seaborn as sns\n",
    "\n",
    "def classify_and_analyze_emails_with_visualization(new_features, model, threshold=0.5):\n",
    "    \"\"\"\n",
    "    Classifies new emails as suspicious or normal, analyzes the results, and provides a visualization.\n",
    "\n",
    "    Parameters:\n",
    "    - new_features: NumPy array containing the input features of new emails, shaped as (samples, input_length, input_dim).\n",
    "    - model: The trained Keras model.\n",
    "    - threshold: Threshold for classifying an email as suspicious. Defaults to 0.5.\n",
    "\n",
    "    Returns:\n",
    "    - A DataFrame with the predictions and analysis.\n",
    "    \"\"\"\n",
    "    predictions_proba = model.predict(new_features)\n",
    "    predictions = (predictions_proba >= threshold).astype(int)\n",
    "    analysis_df = pd.DataFrame({\n",
    "        'Probability_Suspicious': predictions_proba.flatten(),\n",
    "        'Is_Suspicious': predictions.flatten()\n",
    "    })\n",
    "    \n",
    "    # Plotting\n",
    "    plt.figure(figsize=(10, 6))\n",
    "    sns.histplot(data=analysis_df, x='Probability_Suspicious', hue='Is_Suspicious', kde=True, element='step', palette='bright')\n",
    "    plt.title('Distribution of Predicted Probabilities')\n",
    "    plt.xlabel('Probability of Being Suspicious')\n",
    "    plt.ylabel('Count')\n",
    "    plt.axvline(x=threshold, color='red', linestyle='--', label='Classification Threshold')\n",
    "    plt.legend(title='Is Suspicious', labels=['No', 'Yes'])\n",
    "    plt.show()\n",
    "    \n",
    "    # Analysis\n",
    "    counts = analysis_df['Is_Suspicious'].value_counts().to_dict()\n",
    "    print(f\"Suspicious emails: {counts.get(1, 0)}, Normal emails: {counts.get(0, 0)}\")\n",
    "    \n",
    "    return analysis_df\n",
    "\n",
    "# Example usage (Uncomment and fill with actual data):\n",
    "# Assuming `new_features` is your prepared features for the new data\n",
    "# and `trained_model` is your trained 1D CNN model\n",
    "\n",
    "# Replace the placeholders with your actual data and model\n",
    "# new_features = np.array(...)  # Your new features here\n",
    "# trained_model = ...  # Your trained model here\n",
    "\n",
    "# Uncomment the following lines once `new_features` and `trained_model` are defined\n",
    "# analysis_df = classify_and_analyze_emails_with_visualization(new_features, trained_model)\n",
    "print(analysis_df.head())\n"
   ]
  },
  {
   "cell_type": "code",
   "execution_count": 26,
   "id": "60e3f3ab",
   "metadata": {},
   "outputs": [
    {
     "data": {
      "image/png": "[encoded data removed]",
      "text/plain": [
       "<Figure size 720x432 with 1 Axes>"
      ]
     },
     "metadata": {
      "needs_background": "light"
     },
     "output_type": "display_data"
    }
   ],
   "source": [
    "import matplotlib.pyplot as plt\n",
    "import pandas as pd\n",
    "import numpy as np\n",
    "\n",
    "# Assuming the analysis_df DataFrame is already created with the correct structure\n",
    "analysis_df = pd.DataFrame({\n",
    "    'Probability_Suspicious': np.random.rand(100),  # Random probabilities for demonstration\n",
    "    'Is_Suspicious': np.random.randint(2, size=100)  # Random binary labels for demonstration\n",
    "})\n",
    "\n",
    "def plot_classification_results(analysis_df, threshold=0.5):\n",
    "    # Filtering data based on classification\n",
    "    suspicious = analysis_df[analysis_df['Is_Suspicious'] == 1]['Probability_Suspicious']\n",
    "    normal = analysis_df[analysis_df['Is_Suspicious'] == 0]['Probability_Suspicious']\n",
    "    \n",
    "    # Plotting\n",
    "    plt.figure(figsize=(10, 6))\n",
    "    plt.hist(suspicious, alpha=0.5, label='Suspicious', bins=20, color='red')\n",
    "    plt.hist(normal, alpha=0.5, label='Normal', bins=20, color='blue')\n",
    "    plt.axvline(x=threshold, color='green', linestyle='--', label='Threshold')\n",
    "    plt.title('Classification of Emails')\n",
    "    plt.xlabel('Probability of Being Suspicious')\n",
    "    plt.ylabel('Count')\n",
    "    plt.legend()\n",
    "    plt.show()\n",
    "\n",
    "plot_classification_results(analysis_df)\n"
   ]
  },
  {
   "cell_type": "code",
   "execution_count": 27,
   "id": "f6c85e58",
   "metadata": {},
   "outputs": [
    {
     "data": {
      "image/png": "[encoded data removed]",
      "text/plain": [
       "<Figure size 864x504 with 1 Axes>"
      ]
     },
     "metadata": {
      "needs_background": "light"
     },
     "output_type": "display_data"
    }
   ],
   "source": [
    "import matplotlib.pyplot as plt\n",
    "import seaborn as sns\n",
    "import pandas as pd\n",
    "import numpy as np\n",
    "\n",
    "# Sample DataFrame creation for demonstration\n",
    "# In a real scenario, this should be replaced with the analysis_df you have after classification\n",
    "analysis_df = pd.DataFrame({\n",
    "    'Probability_Suspicious': np.random.rand(100),  # Sample probabilities\n",
    "    'Is_Suspicious': np.random.randint(2, size=100)  # Sample binary classification\n",
    "})\n",
    "\n",
    "def improved_visualization(analysis_df, threshold=0.5):\n",
    "    plt.figure(figsize=(12, 7))\n",
    "    \n",
    "    # KDE plots for each classification\n",
    "    sns.kdeplot(data=analysis_df[analysis_df['Is_Suspicious'] == 1]['Probability_Suspicious'], \n",
    "                shade=True, color=\"r\", label=\"Suspicious\", alpha=0.5, linewidth=0)\n",
    "    sns.kdeplot(data=analysis_df[analysis_df['Is_Suspicious'] == 0]['Probability_Suspicious'], \n",
    "                shade=True, color=\"b\", label=\"Normal\", alpha=0.5, linewidth=0)\n",
    "    \n",
    "    # Scatter plot to mark the threshold\n",
    "    plt.scatter([threshold], [0], color='green', s=100, label='Threshold', edgecolor='black', zorder=5)\n",
    "    \n",
    "    # Enhancing the plot\n",
    "    plt.title('Probability Distribution of Email Classification', fontsize=16)\n",
    "    plt.xlabel('Probability of Being Suspicious', fontsize=14)\n",
    "    plt.ylabel('Density', fontsize=14)\n",
    "    plt.legend()\n",
    "    plt.grid(axis='y', linestyle='--', alpha=0.7)\n",
    "    \n",
    "    plt.show()\n",
    "\n",
    "improved_visualization(analysis_df)\n"
   ]
  },
  {
   "cell_type": "code",
   "execution_count": null,
   "id": "27537815",
   "metadata": {},
   "outputs": [],
   "source": []
  },
  {
   "cell_type": "code",
   "execution_count": null,
   "id": "ca0cd13f",
   "metadata": {},
   "outputs": [],
   "source": []
  },
  {
   "cell_type": "code",
   "execution_count": null,
   "id": "2cf15d19",
   "metadata": {},
   "outputs": [],
   "source": []
  },
  {
   "cell_type": "code",
   "execution_count": null,
   "id": "61840155",
   "metadata": {},
   "outputs": [],
   "source": []
  },
  {
   "cell_type": "code",
   "execution_count": null,
   "id": "c883f48e",
   "metadata": {},
   "outputs": [],
   "source": []
  },
  {
   "cell_type": "code",
   "execution_count": null,
   "id": "3cca9e3d",
   "metadata": {},
   "outputs": [],
   "source": []
  },
  {
   "cell_type": "code",
   "execution_count": null,
   "id": "1c556154",
   "metadata": {},
   "outputs": [],
   "source": []
  },
  {
   "cell_type": "code",
   "execution_count": null,
   "id": "8dee429b",
   "metadata": {},
   "outputs": [],
   "source": []
  },
  {
   "cell_type": "code",
   "execution_count": null,
   "id": "530ec28c",
   "metadata": {},
   "outputs": [],
   "source": []
  },
  {
   "cell_type": "code",
   "execution_count": null,
   "id": "0a4e4887",
   "metadata": {},
   "outputs": [],
   "source": []
  },
  {
   "cell_type": "code",
   "execution_count": null,
   "id": "7bcc4e84",
   "metadata": {},
   "outputs": [],
   "source": []
  },
  {
   "cell_type": "code",
   "execution_count": 15,
   "id": "6e125133",
   "metadata": {},
   "outputs": [
    {
     "name": "stderr",
     "output_type": "stream",
     "text": [
      "                                                                                \r"
     ]
    }
   ],
   "source": [
    "features_df = spark_df.select(\"file\").toPandas().values\n",
    "labels_df = spark_df.select(\"message\").toPandas().values.flatten()  # Assuming a single label column\n",
    "\n",
    "# Now features_df and labels_df are NumPy arrays\n"
   ]
  },
  {
   "cell_type": "code",
   "execution_count": 16,
   "id": "e9fc5a6f",
   "metadata": {},
   "outputs": [
    {
     "name": "stdout",
     "output_type": "stream",
     "text": [
      "Epoch 1/10\n",
      "25/25 [==============================] - 1s 12ms/step - loss: 0.7056 - accuracy: 0.4812 - val_loss: 0.6985 - val_accuracy: 0.4950\n",
      "Epoch 2/10\n",
      "25/25 [==============================] - 0s 12ms/step - loss: 0.6975 - accuracy: 0.5213 - val_loss: 0.6975 - val_accuracy: 0.4600\n",
      "Epoch 3/10\n",
      "25/25 [==============================] - 0s 7ms/step - loss: 0.6897 - accuracy: 0.5450 - val_loss: 0.6954 - val_accuracy: 0.4850\n",
      "Epoch 4/10\n",
      "25/25 [==============================] - 0s 10ms/step - loss: 0.6955 - accuracy: 0.5163 - val_loss: 0.6957 - val_accuracy: 0.4600\n",
      "Epoch 5/10\n",
      "25/25 [==============================] - 0s 8ms/step - loss: 0.6929 - accuracy: 0.5213 - val_loss: 0.6937 - val_accuracy: 0.4600\n",
      "Epoch 6/10\n",
      "25/25 [==============================] - 0s 7ms/step - loss: 0.6920 - accuracy: 0.5362 - val_loss: 0.6929 - val_accuracy: 0.5150\n",
      "Epoch 7/10\n",
      "25/25 [==============================] - 0s 11ms/step - loss: 0.6927 - accuracy: 0.5188 - val_loss: 0.6953 - val_accuracy: 0.4900\n",
      "Epoch 8/10\n",
      "25/25 [==============================] - 0s 10ms/step - loss: 0.6889 - accuracy: 0.5412 - val_loss: 0.6940 - val_accuracy: 0.5000\n",
      "Epoch 9/10\n",
      "25/25 [==============================] - 0s 10ms/step - loss: 0.6930 - accuracy: 0.5088 - val_loss: 0.6944 - val_accuracy: 0.5100\n",
      "Epoch 10/10\n",
      "25/25 [==============================] - 0s 12ms/step - loss: 0.6883 - accuracy: 0.5250 - val_loss: 0.6940 - val_accuracy: 0.5050\n",
      "Training Complete.\n",
      "{'loss': [0.7055807709693909, 0.6974702477455139, 0.6896501779556274, 0.6954753994941711, 0.6928606629371643, 0.692007303237915, 0.692738950252533, 0.6889258623123169, 0.6930417418479919, 0.6883141398429871], 'accuracy': [0.48124998807907104, 0.5212500095367432, 0.5450000166893005, 0.5162500143051147, 0.5212500095367432, 0.5362499952316284, 0.518750011920929, 0.5412499904632568, 0.5087500214576721, 0.5249999761581421], 'val_loss': [0.6985348463058472, 0.6974681615829468, 0.6953553557395935, 0.6957443356513977, 0.6936834454536438, 0.692882239818573, 0.6952833533287048, 0.6940171718597412, 0.6943747997283936, 0.6940113306045532], 'val_accuracy': [0.4950000047683716, 0.46000000834465027, 0.48500001430511475, 0.46000000834465027, 0.46000000834465027, 0.5149999856948853, 0.49000000953674316, 0.5, 0.5099999904632568, 0.5049999952316284]}\n"
     ]
    }
   ],
   "source": [
    "# Assume 'features' and 'labels' are your dataset's features and labels, respectively, as NumPy arrays\n",
    "input_dim = 20  # The dimensionality of your input features\n",
    "epochs = 10\n",
    "batch_size = 32\n",
    "\n",
    "# Call the train_model function\n",
    "model, history = train_model(features, labels, input_dim=input_dim, epochs=epochs, batch_size=batch_size)\n",
    "\n",
    "# After training, you can print the history of loss and accuracy\n",
    "print(history.history)\n"
   ]
  },
  {
   "cell_type": "code",
   "execution_count": 17,
   "id": "235ce0d1",
   "metadata": {},
   "outputs": [],
   "source": [
    "import numpy as np\n",
    "from sklearn.model_selection import train_test_split\n",
    "from keras.models import Sequential\n",
    "from keras.layers import Dense, Dropout\n",
    "from keras.optimizers import Adam\n",
    "\n",
    "def create_model(input_dim):\n",
    "    \"\"\"Creates and returns a simple neural network model.\"\"\"\n",
    "    model = Sequential([\n",
    "        Dense(64, input_dim=input_dim, activation='relu'),\n",
    "        Dropout(0.5),\n",
    "        Dense(32, activation='relu'),\n",
    "        Dense(1, activation='sigmoid')\n",
    "    ])\n",
    "    model.compile(optimizer=Adam(learning_rate=0.001),\n",
    "                  loss='binary_crossentropy',\n",
    "                  metrics=['accuracy'])\n",
    "    return model\n",
    "\n",
    "def train_model(features, labels, input_dim, epochs=10, batch_size=32, test_size=0.2):\n",
    "    \"\"\"\n",
    "    Trains the neural network model on the given dataset.\n",
    "    \n",
    "    Parameters:\n",
    "    - features: NumPy array or equivalent containing the input features.\n",
    "    - labels: NumPy array or equivalent containing the labels.\n",
    "    - input_dim: The dimensionality of the input features.\n",
    "    - epochs: The number of times to iterate over the entire dataset.\n",
    "    - batch_size: The number of samples per gradient update.\n",
    "    - test_size: The proportion of the dataset to include in the test split.\n",
    "    \n",
    "    Returns:\n",
    "    - model: The trained Keras model.\n",
    "    - history: A history object containing the training history metrics.\n",
    "    \"\"\"\n",
    "    # Split the dataset into training and validation sets\n",
    "    X_train, X_val, y_train, y_val = train_test_split(features, labels, test_size=test_size, random_state=42)\n",
    "    \n",
    "    # Create the model\n",
    "    model = create_model(input_dim)\n",
    "    \n",
    "    # Train the model\n",
    "    history = model.fit(X_train, y_train, epochs=epochs, batch_size=batch_size,\n",
    "                        validation_data=(X_val, y_val), verbose=1)\n",
    "    \n",
    "    return model, history\n",
    "\n",
    "# Example usage (assuming you've converted your Spark DataFrame to NumPy arrays `features` and `labels`):\n",
    "# input_dim = 20  # The dimensionality of your input features, adjust as necessary\n",
    "# model, history = train_model(features, labels, input_dim=input_dim)\n"
   ]
  },
  {
   "cell_type": "code",
   "execution_count": 18,
   "id": "ccb91e37",
   "metadata": {},
   "outputs": [],
   "source": [
    "def visualize_fraud_predictions(model, tokenizer, max_sequence_length, email_texts):\n",
    "    \"\"\"\n",
    "    Preprocess a list of email texts, predict the probability of each being suspicious,\n",
    "    and print each email with its fraud likelihood.\n",
    "\n",
    "    Parameters:\n",
    "    - model: The trained Keras model for predicting email suspiciousness.\n",
    "    - tokenizer: The Tokenizer instance fitted on the training data.\n",
    "    - max_sequence_length: The maximum length of sequences after padding.\n",
    "    - email_texts: List of raw email text content.\n",
    "\n",
    "    This function doesn't return anything but prints each email with its fraud prediction.\n",
    "    \"\"\"\n",
    "    # Preprocess each email\n",
    "    preprocessed_emails = [preprocess_email(email, tokenizer, max_sequence_length) for email in email_texts]\n",
    "    \n",
    "    # Predict the probability of fraud for each preprocessed email\n",
    "    predictions = [model.predict(email) for email in preprocessed_emails]\n",
    "    \n",
    "    # Flatten the list of predictions\n",
    "    predictions = [pred[0][0] for pred in predictions]\n",
    "\n",
    "    # Print each email with its corresponding fraud likelihood\n",
    "    for email, probability in zip(email_texts, predictions):\n",
    "        print(\"Email Content:\\n\", email)\n",
    "        print(\"Fraud Likelihood: {:.2%}\".format(probability))\n",
    "        print(\"-\" * 100)\n",
    "\n",
    "# Example usage\n",
    "email_texts = [\"Example email content 1\", \"Example email content 2\"]\n",
    "# You'll need to define `model`, `tokenizer`, and `max_sequence_length` based on your trained model and preprocessing steps\n",
    "# visualize_fraud_predictions(model, tokenizer, max_sequence_length, email_texts)\n"
   ]
  },
  {
   "cell_type": "code",
   "execution_count": null,
   "id": "cc9d9b7b",
   "metadata": {},
   "outputs": [],
   "source": []
  },
  {
   "cell_type": "code",
   "execution_count": null,
   "id": "8d14c69a",
   "metadata": {},
   "outputs": [],
   "source": []
  },
  {
   "cell_type": "code",
   "execution_count": null,
   "id": "71b4e6ad",
   "metadata": {},
   "outputs": [],
   "source": []
  },
  {
   "cell_type": "code",
   "execution_count": null,
   "id": "271a97e7",
   "metadata": {},
   "outputs": [],
   "source": []
  },
  {
   "cell_type": "code",
   "execution_count": null,
   "id": "271052ee",
   "metadata": {},
   "outputs": [],
   "source": []
  },
  {
   "cell_type": "code",
   "execution_count": null,
   "id": "d1cc621f",
   "metadata": {},
   "outputs": [],
   "source": []
  },
  {
   "cell_type": "code",
   "execution_count": null,
   "id": "7b0f0f41",
   "metadata": {},
   "outputs": [],
   "source": []
  },
  {
   "cell_type": "code",
   "execution_count": null,
   "id": "25113eee",
   "metadata": {},
   "outputs": [],
   "source": []
  },
  {
   "cell_type": "code",
   "execution_count": null,
   "id": "620fbef7",
   "metadata": {},
   "outputs": [],
   "source": []
  },
  {
   "cell_type": "code",
   "execution_count": null,
   "id": "d103d579",
   "metadata": {},
   "outputs": [],
   "source": []
  },
  {
   "cell_type": "code",
   "execution_count": null,
   "id": "4235eaf9",
   "metadata": {},
   "outputs": [],
   "source": []
  },
  {
   "cell_type": "code",
   "execution_count": null,
   "id": "8c0ad362",
   "metadata": {},
   "outputs": [],
   "source": []
  },
  {
   "cell_type": "code",
   "execution_count": null,
   "id": "945bfe8d",
   "metadata": {},
   "outputs": [],
   "source": []
  },
  {
   "cell_type": "code",
   "execution_count": null,
   "id": "f777994d",
   "metadata": {},
   "outputs": [],
   "source": []
  },
  {
   "cell_type": "code",
   "execution_count": null,
   "id": "908568e5",
   "metadata": {},
   "outputs": [],
   "source": []
  },
  {
   "cell_type": "code",
   "execution_count": null,
   "id": "1b257c01",
   "metadata": {},
   "outputs": [],
   "source": []
  },
  {
   "cell_type": "code",
   "execution_count": null,
   "id": "bb00e0c3",
   "metadata": {},
   "outputs": [],
   "source": []
  },
  {
   "cell_type": "code",
   "execution_count": null,
   "id": "8340f623",
   "metadata": {},
   "outputs": [],
   "source": []
  },
  {
   "cell_type": "code",
   "execution_count": null,
   "id": "169ea006",
   "metadata": {},
   "outputs": [],
   "source": []
  },
  {
   "cell_type": "code",
   "execution_count": null,
   "id": "4dd82c7e",
   "metadata": {},
   "outputs": [],
   "source": []
  },
  {
   "cell_type": "code",
   "execution_count": null,
   "id": "7657867f",
   "metadata": {},
   "outputs": [],
   "source": []
  },
  {
   "cell_type": "code",
   "execution_count": null,
   "id": "c2e22b93",
   "metadata": {},
   "outputs": [],
   "source": []
  },
  {
   "cell_type": "code",
   "execution_count": null,
   "id": "209b9575",
   "metadata": {},
   "outputs": [],
   "source": []
  },
  {
   "cell_type": "code",
   "execution_count": null,
   "id": "e520aa6a",
   "metadata": {},
   "outputs": [],
   "source": []
  },
  {
   "cell_type": "code",
   "execution_count": null,
   "id": "44715485",
   "metadata": {},
   "outputs": [],
   "source": []
  },
  {
   "cell_type": "code",
   "execution_count": null,
   "id": "3bc480fa",
   "metadata": {},
   "outputs": [],
   "source": []
  },
  {
   "cell_type": "code",
   "execution_count": null,
   "id": "0c7cd162",
   "metadata": {},
   "outputs": [],
   "source": []
  },
  {
   "cell_type": "code",
   "execution_count": null,
   "id": "3602c71b",
   "metadata": {},
   "outputs": [],
   "source": []
  },
  {
   "cell_type": "code",
   "execution_count": null,
   "id": "af050b0d",
   "metadata": {},
   "outputs": [],
   "source": []
  },
  {
   "cell_type": "code",
   "execution_count": null,
   "id": "cc6a5665",
   "metadata": {},
   "outputs": [],
   "source": []
  },
  {
   "cell_type": "code",
   "execution_count": null,
   "id": "652849e5",
   "metadata": {},
   "outputs": [],
   "source": []
  },
  {
   "cell_type": "code",
   "execution_count": null,
   "id": "c357eadb",
   "metadata": {},
   "outputs": [],
   "source": []
  },
  {
   "cell_type": "code",
   "execution_count": null,
   "id": "b455da30",
   "metadata": {},
   "outputs": [],
   "source": []
  },
  {
   "cell_type": "code",
   "execution_count": null,
   "id": "67a6244e",
   "metadata": {},
   "outputs": [],
   "source": []
  },
  {
   "cell_type": "code",
   "execution_count": null,
   "id": "4dffaa9f",
   "metadata": {},
   "outputs": [],
   "source": []
  },
  {
   "cell_type": "code",
   "execution_count": null,
   "id": "bda0b418",
   "metadata": {},
   "outputs": [],
   "source": []
  },
  {
   "cell_type": "code",
   "execution_count": null,
   "id": "2b3e61cc",
   "metadata": {},
   "outputs": [],
   "source": []
  },
  {
   "cell_type": "code",
   "execution_count": null,
   "id": "8a150d88",
   "metadata": {},
   "outputs": [],
   "source": []
  },
  {
   "cell_type": "code",
   "execution_count": null,
   "id": "f75883be",
   "metadata": {},
   "outputs": [],
   "source": []
  },
  {
   "cell_type": "code",
   "execution_count": null,
   "id": "25c7f9d2",
   "metadata": {},
   "outputs": [],
   "source": []
  },
  {
   "cell_type": "code",
   "execution_count": null,
   "id": "61c22250",
   "metadata": {},
   "outputs": [],
   "source": []
  },
  {
   "cell_type": "code",
   "execution_count": null,
   "id": "90bdb5e6",
   "metadata": {},
   "outputs": [],
   "source": []
  },
  {
   "cell_type": "markdown",
   "id": "d271cb90",
   "metadata": {},
   "source": []
  },
  {
   "cell_type": "markdown",
   "id": "75ee82cb",
   "metadata": {},
   "source": [
    "## Step 4: Designing the Neural Network which come  Before moving on to training a neural network model, we'll need to prepare your dataset further, including splitting it into training and test sets, and potentially normalizing the feature vectors "
   ]
  },
  {
   "cell_type": "code",
   "execution_count": null,
   "id": "49e4a80f",
   "metadata": {},
   "outputs": [],
   "source": []
  },
  {
   "cell_type": "code",
   "execution_count": null,
   "id": "c42b57f6",
   "metadata": {},
   "outputs": [],
   "source": []
  },
  {
   "cell_type": "code",
   "execution_count": null,
   "id": "6889c251",
   "metadata": {},
   "outputs": [],
   "source": []
  },
  {
   "cell_type": "code",
   "execution_count": null,
   "id": "726f7801",
   "metadata": {},
   "outputs": [],
   "source": []
  },
  {
   "cell_type": "code",
   "execution_count": null,
   "id": "49c89901",
   "metadata": {},
   "outputs": [],
   "source": []
  },
  {
   "cell_type": "code",
   "execution_count": null,
   "id": "34a811d5",
   "metadata": {},
   "outputs": [],
   "source": []
  },
  {
   "cell_type": "code",
   "execution_count": null,
   "id": "5067525e",
   "metadata": {},
   "outputs": [],
   "source": []
  },
  {
   "cell_type": "code",
   "execution_count": null,
   "id": "a8f43be5",
   "metadata": {},
   "outputs": [],
   "source": []
  },
  {
   "cell_type": "code",
   "execution_count": null,
   "id": "adf0e3f3",
   "metadata": {},
   "outputs": [],
   "source": []
  },
  {
   "cell_type": "code",
   "execution_count": null,
   "id": "b8e439d5",
   "metadata": {},
   "outputs": [],
   "source": []
  },
  {
   "cell_type": "code",
   "execution_count": null,
   "id": "b60fba37",
   "metadata": {},
   "outputs": [],
   "source": []
  },
  {
   "cell_type": "code",
   "execution_count": null,
   "id": "b478039e",
   "metadata": {},
   "outputs": [],
   "source": []
  },
  {
   "cell_type": "code",
   "execution_count": null,
   "id": "9287c937",
   "metadata": {},
   "outputs": [],
   "source": []
  },
  {
   "cell_type": "code",
   "execution_count": null,
   "id": "135d7995",
   "metadata": {},
   "outputs": [],
   "source": []
  },
  {
   "cell_type": "code",
   "execution_count": null,
   "id": "02add97e",
   "metadata": {},
   "outputs": [],
   "source": []
  },
  {
   "cell_type": "code",
   "execution_count": 19,
   "id": "947087a0",
   "metadata": {},
   "outputs": [],
   "source": [
    "# Split the CSV into 4 parts with a prefix 'data_chunk_'\n",
    "# The -n l/4 option splits the file into 4 equal parts, by lines\n",
    "#This will create files named data_chunk_00, data_chunk_01,\n",
    "\n",
    "###   split -n l/10 -d your_large_file.csv data_chunk_\n"
   ]
  },
  {
   "cell_type": "code",
   "execution_count": null,
   "id": "953c2366",
   "metadata": {},
   "outputs": [],
   "source": []
  },
  {
   "cell_type": "code",
   "execution_count": null,
   "id": "ed2126dc",
   "metadata": {},
   "outputs": [],
   "source": []
  },
  {
   "cell_type": "code",
   "execution_count": null,
   "id": "da825b0a",
   "metadata": {},
   "outputs": [],
   "source": []
  },
  {
   "cell_type": "code",
   "execution_count": null,
   "id": "5e1dd7d1",
   "metadata": {},
   "outputs": [],
   "source": []
  },
  {
   "cell_type": "code",
   "execution_count": null,
   "id": "701e1d80",
   "metadata": {},
   "outputs": [],
   "source": []
  },
  {
   "cell_type": "code",
   "execution_count": null,
   "id": "de264bc5",
   "metadata": {},
   "outputs": [],
   "source": []
  },
  {
   "cell_type": "code",
   "execution_count": null,
   "id": "6e201322",
   "metadata": {},
   "outputs": [],
   "source": []
  },
  {
   "cell_type": "code",
   "execution_count": null,
   "id": "b57ef6dc",
   "metadata": {},
   "outputs": [],
   "source": []
  },
  {
   "cell_type": "code",
   "execution_count": null,
   "id": "e051ccee",
   "metadata": {},
   "outputs": [],
   "source": []
  },
  {
   "cell_type": "code",
   "execution_count": null,
   "id": "786dc24b",
   "metadata": {},
   "outputs": [],
   "source": []
  },
  {
   "cell_type": "code",
   "execution_count": null,
   "id": "5cd65014",
   "metadata": {},
   "outputs": [],
   "source": []
  },
  {
   "cell_type": "code",
   "execution_count": null,
   "id": "5ebb1417",
   "metadata": {},
   "outputs": [],
   "source": []
  },
  {
   "cell_type": "code",
   "execution_count": null,
   "id": "4dacf2de",
   "metadata": {},
   "outputs": [],
   "source": []
  },
  {
   "cell_type": "code",
   "execution_count": null,
   "id": "18aa222a",
   "metadata": {
    "scrolled": true
   },
   "outputs": [],
   "source": []
  },
  {
   "cell_type": "code",
   "execution_count": null,
   "id": "a3bdea37",
   "metadata": {},
   "outputs": [],
   "source": []
  },
  {
   "cell_type": "code",
   "execution_count": null,
   "id": "b80f5cb9",
   "metadata": {},
   "outputs": [],
   "source": []
  },
  {
   "cell_type": "code",
   "execution_count": null,
   "id": "1f8aed9f",
   "metadata": {},
   "outputs": [],
   "source": []
  },
  {
   "cell_type": "code",
   "execution_count": null,
   "id": "c0f74a88",
   "metadata": {},
   "outputs": [],
   "source": []
  },
  {
   "cell_type": "code",
   "execution_count": null,
   "id": "f786ff41",
   "metadata": {},
   "outputs": [],
   "source": []
  },
  {
   "cell_type": "code",
   "execution_count": null,
   "id": "6dcdc174",
   "metadata": {},
   "outputs": [],
   "source": []
  },
  {
   "cell_type": "code",
   "execution_count": null,
   "id": "827bce61",
   "metadata": {},
   "outputs": [],
   "source": []
  },
  {
   "cell_type": "code",
   "execution_count": null,
   "id": "73cdda03",
   "metadata": {},
   "outputs": [],
   "source": []
  },
  {
   "cell_type": "code",
   "execution_count": null,
   "id": "72a53c6b",
   "metadata": {},
   "outputs": [],
   "source": []
  },
  {
   "cell_type": "code",
   "execution_count": null,
   "id": "35ffcdae",
   "metadata": {},
   "outputs": [],
   "source": []
  },
  {
   "cell_type": "code",
   "execution_count": null,
   "id": "795585fd",
   "metadata": {},
   "outputs": [],
   "source": []
  },
  {
   "cell_type": "code",
   "execution_count": null,
   "id": "ad373248",
   "metadata": {},
   "outputs": [],
   "source": []
  },
  {
   "cell_type": "code",
   "execution_count": null,
   "id": "49f3c67e",
   "metadata": {},
   "outputs": [],
   "source": []
  },
  {
   "cell_type": "code",
   "execution_count": null,
   "id": "d9493ba6",
   "metadata": {},
   "outputs": [],
   "source": []
  },
  {
   "cell_type": "code",
   "execution_count": null,
   "id": "37106002",
   "metadata": {},
   "outputs": [],
   "source": []
  },
  {
   "cell_type": "code",
   "execution_count": null,
   "id": "06abbcd8",
   "metadata": {},
   "outputs": [],
   "source": []
  },
  {
   "cell_type": "code",
   "execution_count": null,
   "id": "4a59fc3e",
   "metadata": {},
   "outputs": [],
   "source": []
  },
  {
   "cell_type": "code",
   "execution_count": null,
   "id": "54143c00",
   "metadata": {},
   "outputs": [],
   "source": []
  },
  {
   "cell_type": "code",
   "execution_count": null,
   "id": "a9812fcc",
   "metadata": {},
   "outputs": [],
   "source": []
  },
  {
   "cell_type": "code",
   "execution_count": null,
   "id": "5edd12ea",
   "metadata": {},
   "outputs": [],
   "source": []
  },
  {
   "cell_type": "code",
   "execution_count": null,
   "id": "268dc0f1",
   "metadata": {},
   "outputs": [],
   "source": []
  },
  {
   "cell_type": "code",
   "execution_count": null,
   "id": "c92f1b9d",
   "metadata": {},
   "outputs": [],
   "source": []
  },
  {
   "cell_type": "code",
   "execution_count": null,
   "id": "f004be08",
   "metadata": {},
   "outputs": [],
   "source": []
  },
  {
   "cell_type": "code",
   "execution_count": null,
   "id": "50146c3f",
   "metadata": {},
   "outputs": [],
   "source": []
  },
  {
   "cell_type": "code",
   "execution_count": null,
   "id": "89251399",
   "metadata": {},
   "outputs": [],
   "source": []
  },
  {
   "cell_type": "code",
   "execution_count": null,
   "id": "ea1b25a9",
   "metadata": {},
   "outputs": [],
   "source": []
  },
  {
   "cell_type": "code",
   "execution_count": null,
   "id": "08912385",
   "metadata": {},
   "outputs": [],
   "source": []
  },
  {
   "cell_type": "code",
   "execution_count": null,
   "id": "ce5ff6f0",
   "metadata": {},
   "outputs": [],
   "source": []
  },
  {
   "cell_type": "code",
   "execution_count": null,
   "id": "9d70f48d",
   "metadata": {},
   "outputs": [],
   "source": []
  },
  {
   "cell_type": "code",
   "execution_count": null,
   "id": "3fca8ad1",
   "metadata": {},
   "outputs": [],
   "source": []
  },
  {
   "cell_type": "code",
   "execution_count": null,
   "id": "a9930f43",
   "metadata": {},
   "outputs": [],
   "source": []
  },
  {
   "cell_type": "code",
   "execution_count": null,
   "id": "64b26313",
   "metadata": {},
   "outputs": [],
   "source": []
  },
  {
   "cell_type": "code",
   "execution_count": null,
   "id": "a1f58620",
   "metadata": {},
   "outputs": [],
   "source": []
  },
  {
   "cell_type": "code",
   "execution_count": null,
   "id": "7cb1dc81",
   "metadata": {},
   "outputs": [],
   "source": []
  },
  {
   "cell_type": "code",
   "execution_count": null,
   "id": "ba8629c7",
   "metadata": {},
   "outputs": [],
   "source": []
  },
  {
   "cell_type": "code",
   "execution_count": null,
   "id": "3d75c970",
   "metadata": {},
   "outputs": [],
   "source": []
  },
  {
   "cell_type": "code",
   "execution_count": null,
   "id": "cd17e8e6",
   "metadata": {},
   "outputs": [],
   "source": []
  },
  {
   "cell_type": "code",
   "execution_count": null,
   "id": "ac66ebcb",
   "metadata": {},
   "outputs": [],
   "source": []
  },
  {
   "cell_type": "code",
   "execution_count": null,
   "id": "fe1bf4a5",
   "metadata": {},
   "outputs": [],
   "source": []
  },
  {
   "cell_type": "code",
   "execution_count": null,
   "id": "736c3109",
   "metadata": {},
   "outputs": [],
   "source": []
  },
  {
   "cell_type": "code",
   "execution_count": null,
   "id": "815d90f6",
   "metadata": {},
   "outputs": [],
   "source": []
  },
  {
   "cell_type": "code",
   "execution_count": null,
   "id": "738b61bc",
   "metadata": {},
   "outputs": [],
   "source": []
  },
  {
   "cell_type": "code",
   "execution_count": null,
   "id": "ee443af4",
   "metadata": {},
   "outputs": [],
   "source": []
  },
  {
   "cell_type": "code",
   "execution_count": null,
   "id": "32528d59",
   "metadata": {},
   "outputs": [],
   "source": []
  },
  {
   "cell_type": "code",
   "execution_count": null,
   "id": "26331c9a",
   "metadata": {},
   "outputs": [],
   "source": []
  },
  {
   "cell_type": "code",
   "execution_count": null,
   "id": "96545a9d",
   "metadata": {},
   "outputs": [],
   "source": []
  },
  {
   "cell_type": "code",
   "execution_count": null,
   "id": "d5949c1c",
   "metadata": {},
   "outputs": [],
   "source": []
  },
  {
   "cell_type": "code",
   "execution_count": null,
   "id": "0b0dfa04",
   "metadata": {},
   "outputs": [],
   "source": []
  },
  {
   "cell_type": "code",
   "execution_count": null,
   "id": "0efa3927",
   "metadata": {},
   "outputs": [],
   "source": []
  },
  {
   "cell_type": "code",
   "execution_count": null,
   "id": "4ad2b174",
   "metadata": {},
   "outputs": [],
   "source": []
  },
  {
   "cell_type": "code",
   "execution_count": null,
   "id": "ced810d6",
   "metadata": {},
   "outputs": [],
   "source": []
  },
  {
   "cell_type": "code",
   "execution_count": null,
   "id": "854a91b5",
   "metadata": {},
   "outputs": [],
   "source": []
  },
  {
   "cell_type": "code",
   "execution_count": null,
   "id": "21bd28b9",
   "metadata": {},
   "outputs": [],
   "source": []
  },
  {
   "cell_type": "code",
   "execution_count": null,
   "id": "8ab87719",
   "metadata": {},
   "outputs": [],
   "source": []
  },
  {
   "cell_type": "code",
   "execution_count": null,
   "id": "616a04e2",
   "metadata": {},
   "outputs": [],
   "source": []
  },
  {
   "cell_type": "code",
   "execution_count": null,
   "id": "edd0d50e",
   "metadata": {},
   "outputs": [],
   "source": []
  },
  {
   "cell_type": "code",
   "execution_count": null,
   "id": "680b4e65",
   "metadata": {},
   "outputs": [],
   "source": []
  },
  {
   "cell_type": "code",
   "execution_count": null,
   "id": "084b2cd7",
   "metadata": {},
   "outputs": [],
   "source": []
  },
  {
   "cell_type": "code",
   "execution_count": null,
   "id": "02541bcb",
   "metadata": {},
   "outputs": [],
   "source": []
  },
  {
   "cell_type": "code",
   "execution_count": null,
   "id": "6bc2b0c4",
   "metadata": {},
   "outputs": [],
   "source": []
  },
  {
   "cell_type": "code",
   "execution_count": null,
   "id": "eebfe37e",
   "metadata": {},
   "outputs": [],
   "source": []
  },
  {
   "cell_type": "code",
   "execution_count": null,
   "id": "06bbb75f",
   "metadata": {},
   "outputs": [],
   "source": []
  },
  {
   "cell_type": "code",
   "execution_count": null,
   "id": "980d972a",
   "metadata": {},
   "outputs": [],
   "source": []
  },
  {
   "cell_type": "code",
   "execution_count": null,
   "id": "8716c780",
   "metadata": {},
   "outputs": [],
   "source": []
  },
  {
   "cell_type": "code",
   "execution_count": null,
   "id": "7c16c620",
   "metadata": {},
   "outputs": [],
   "source": []
  },
  {
   "cell_type": "code",
   "execution_count": null,
   "id": "3bedf085",
   "metadata": {},
   "outputs": [],
   "source": []
  },
  {
   "cell_type": "code",
   "execution_count": null,
   "id": "8d65146c",
   "metadata": {},
   "outputs": [],
   "source": []
  },
  {
   "cell_type": "code",
   "execution_count": null,
   "id": "3ca78655",
   "metadata": {},
   "outputs": [],
   "source": []
  },
  {
   "cell_type": "code",
   "execution_count": null,
   "id": "b84ad166",
   "metadata": {
    "scrolled": true
   },
   "outputs": [],
   "source": []
  },
  {
   "cell_type": "code",
   "execution_count": null,
   "id": "623e3c69",
   "metadata": {},
   "outputs": [],
   "source": []
  },
  {
   "cell_type": "code",
   "execution_count": null,
   "id": "6f8d886b",
   "metadata": {},
   "outputs": [],
   "source": []
  },
  {
   "cell_type": "code",
   "execution_count": null,
   "id": "44c47354",
   "metadata": {},
   "outputs": [],
   "source": []
  },
  {
   "cell_type": "code",
   "execution_count": null,
   "id": "116f3743",
   "metadata": {},
   "outputs": [],
   "source": []
  },
  {
   "cell_type": "code",
   "execution_count": null,
   "id": "6f669ebf",
   "metadata": {},
   "outputs": [],
   "source": []
  },
  {
   "cell_type": "code",
   "execution_count": null,
   "id": "dac73272",
   "metadata": {},
   "outputs": [],
   "source": []
  },
  {
   "cell_type": "code",
   "execution_count": null,
   "id": "c1d9cb5f",
   "metadata": {},
   "outputs": [],
   "source": []
  },
  {
   "cell_type": "code",
   "execution_count": null,
   "id": "440bf171",
   "metadata": {},
   "outputs": [],
   "source": []
  },
  {
   "cell_type": "code",
   "execution_count": null,
   "id": "0dfe21f1",
   "metadata": {},
   "outputs": [],
   "source": []
  },
  {
   "cell_type": "code",
   "execution_count": 20,
   "id": "9ebf7592",
   "metadata": {},
   "outputs": [
    {
     "name": "stdout",
     "output_type": "stream",
     "text": [
      "Email Content:\n",
      " Example email content 1\n",
      "Fraud Likelihood: 34.73%\n",
      "----------------------------------------------------------------------------------------------------\n",
      "Email Content:\n",
      " Example email content 2\n",
      "Fraud Likelihood: 8.26%\n",
      "----------------------------------------------------------------------------------------------------\n"
     ]
    }
   ],
   "source": [
    "def visualize_fraud_predictions(email_texts, predictions):\n",
    "    \"\"\"\n",
    "    Visualize the emails with their predicted fraud probabilities.\n",
    "\n",
    "    Parameters:\n",
    "    - email_texts: List of email text content.\n",
    "    - predictions: List of predicted probabilities corresponding to the fraud likelihood of each email.\n",
    "\n",
    "    The function doesn't return anything but prints each email with its fraud prediction.\n",
    "    \"\"\"\n",
    "    # Ensure the lists have the same length\n",
    "    if len(email_texts) != len(predictions):\n",
    "        print(\"Error: The length of email_texts and predictions must match.\")\n",
    "        return\n",
    "    \n",
    "    for email, probability in zip(email_texts, predictions):\n",
    "        print(\"Email Content:\\n\", email)\n",
    "        # Assuming the probability is given in a scale from 0 to 1\n",
    "        print(\"Fraud Likelihood: {:.2%}\".format(probability))\n",
    "        print(\"-\" * 100)\n",
    "\n",
    "# Assuming the predictions list matches the number of email_texts provided\n",
    "predicted_probabilities = [0.34725702, 0.08264993]\n",
    "\n",
    "# Example usage with matching lengths for email_texts and predicted_probabilities\n",
    "visualize_fraud_predictions(email_texts, predicted_probabilities)\n"
   ]
  },
  {
   "cell_type": "code",
   "execution_count": null,
   "id": "d69a3b36",
   "metadata": {},
   "outputs": [],
   "source": []
  },
  {
   "cell_type": "code",
   "execution_count": null,
   "id": "633f68a1",
   "metadata": {},
   "outputs": [],
   "source": []
  },
  {
   "cell_type": "code",
   "execution_count": null,
   "id": "2dc7552f",
   "metadata": {},
   "outputs": [],
   "source": []
  },
  {
   "cell_type": "code",
   "execution_count": null,
   "id": "3788bcaa",
   "metadata": {},
   "outputs": [],
   "source": []
  },
  {
   "cell_type": "code",
   "execution_count": 21,
   "id": "543e6de7",
   "metadata": {},
   "outputs": [
    {
     "name": "stdout",
     "output_type": "stream",
     "text": [
      "Email Content: Another suspicious email detected! Please check it out.\n",
      "Fraud Likelihood: 8.26%\n",
      "--------------------------------------------------------------------------------\n",
      "Email Content: Another suspicious email detected! This seems like a scam.\n",
      "Fraud Likelihood: 9.5%\n",
      "--------------------------------------------------------------------------------\n"
     ]
    }
   ],
   "source": [
    "def filter_emails_by_similarity_and_likelihood(emails, similarity_threshold=0.5, likelihood_threshold=8.0):\n",
    "    \"\"\"\n",
    "    Filters emails based on content similarity to a given phrase and a likelihood threshold.\n",
    "    \n",
    "    Parameters:\n",
    "    - emails: List of dictionaries, where each dictionary contains 'content' and 'likelihood' keys.\n",
    "    - similarity_threshold: A threshold for determining content similarity (not used in this simple example).\n",
    "    - likelihood_threshold: The minimum likelihood score for an email to be considered suspicious.\n",
    "    \n",
    "    Returns:\n",
    "    - A list of emails considered suspicious based on the likelihood threshold.\n",
    "    \"\"\"\n",
    "    suspicious_phrase = \"Another suspicious email detected!\"\n",
    "    filtered_emails = [email for email in emails if suspicious_phrase in email['content'] and email['likelihood'] >= likelihood_threshold]\n",
    "    return filtered_emails\n",
    "\n",
    "# Example usage:\n",
    "emails = [\n",
    "    {'content': \"This is a normal email content.\", 'likelihood': 2.0},\n",
    "    {'content': \"Another suspicious email detected! Please check it out.\", 'likelihood': 8.26},\n",
    "    {'content': \"Another suspicious email detected! This seems like a scam.\", 'likelihood': 9.5},\n",
    "    {'content': \"This is another normal conversation.\", 'likelihood': 3.2}\n",
    "]\n",
    "\n",
    "# Filtering emails:\n",
    "suspicious_emails = filter_emails_by_similarity_and_likelihood(emails, likelihood_threshold=8.0)\n",
    "\n",
    "# Displaying the filtered, suspicious emails:\n",
    "for email in suspicious_emails:\n",
    "    print(f\"Email Content: {email['content']}\")\n",
    "    print(f\"Fraud Likelihood: {email['likelihood']}%\")\n",
    "    print(\"-\"*80)\n"
   ]
  },
  {
   "cell_type": "code",
   "execution_count": null,
   "id": "6a94d1e6",
   "metadata": {},
   "outputs": [],
   "source": []
  },
  {
   "cell_type": "code",
   "execution_count": null,
   "id": "742838a8",
   "metadata": {},
   "outputs": [],
   "source": []
  },
  {
   "cell_type": "code",
   "execution_count": null,
   "id": "dd92e1ef",
   "metadata": {},
   "outputs": [],
   "source": []
  },
  {
   "cell_type": "code",
   "execution_count": null,
   "id": "7d73ec5e",
   "metadata": {},
   "outputs": [],
   "source": []
  },
  {
   "cell_type": "code",
   "execution_count": null,
   "id": "55fd9ec3",
   "metadata": {},
   "outputs": [],
   "source": []
  },
  {
   "cell_type": "code",
   "execution_count": null,
   "id": "8f113b14",
   "metadata": {},
   "outputs": [],
   "source": []
  },
  {
   "cell_type": "code",
   "execution_count": null,
   "id": "5aa12248",
   "metadata": {},
   "outputs": [],
   "source": []
  },
  {
   "cell_type": "code",
   "execution_count": null,
   "id": "a74514c6",
   "metadata": {},
   "outputs": [],
   "source": []
  },
  {
   "cell_type": "code",
   "execution_count": null,
   "id": "f2d3967e",
   "metadata": {},
   "outputs": [],
   "source": []
  },
  {
   "cell_type": "code",
   "execution_count": null,
   "id": "f6a04849",
   "metadata": {},
   "outputs": [],
   "source": []
  },
  {
   "cell_type": "code",
   "execution_count": null,
   "id": "7809df2c",
   "metadata": {},
   "outputs": [],
   "source": []
  },
  {
   "cell_type": "code",
   "execution_count": null,
   "id": "3f426539",
   "metadata": {},
   "outputs": [],
   "source": []
  },
  {
   "cell_type": "code",
   "execution_count": null,
   "id": "3629aa20",
   "metadata": {},
   "outputs": [],
   "source": []
  },
  {
   "cell_type": "code",
   "execution_count": null,
   "id": "d496ca8d",
   "metadata": {},
   "outputs": [],
   "source": []
  },
  {
   "cell_type": "code",
   "execution_count": null,
   "id": "19cc31de",
   "metadata": {},
   "outputs": [],
   "source": []
  },
  {
   "cell_type": "code",
   "execution_count": null,
   "id": "26079f17",
   "metadata": {},
   "outputs": [],
   "source": []
  },
  {
   "cell_type": "code",
   "execution_count": null,
   "id": "0f5844a3",
   "metadata": {},
   "outputs": [],
   "source": []
  },
  {
   "cell_type": "code",
   "execution_count": null,
   "id": "44ca387c",
   "metadata": {},
   "outputs": [],
   "source": []
  },
  {
   "cell_type": "code",
   "execution_count": null,
   "id": "dde65d64",
   "metadata": {},
   "outputs": [],
   "source": []
  },
  {
   "cell_type": "code",
   "execution_count": null,
   "id": "169719d4",
   "metadata": {},
   "outputs": [],
   "source": []
  },
  {
   "cell_type": "code",
   "execution_count": null,
   "id": "85238ebf",
   "metadata": {},
   "outputs": [],
   "source": []
  },
  {
   "cell_type": "code",
   "execution_count": null,
   "id": "15df98e7",
   "metadata": {},
   "outputs": [],
   "source": []
  }
 ],
 "metadata": {
  "kernelspec": {
   "display_name": "Python 3 (ipykernel)",
   "language": "python",
   "name": "python3"
  },
  "language_info": {
   "codemirror_mode": {
    "name": "ipython",
    "version": 3
   },
   "file_extension": ".py",
   "mimetype": "text/x-python",
   "name": "python",
   "nbconvert_exporter": "python",
   "pygments_lexer": "ipython3",
   "version": "3.10.12"
  }
 },
 "nbformat": 4,
 "nbformat_minor": 5
}
