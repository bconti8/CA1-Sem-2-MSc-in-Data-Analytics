{
 "cells": [
  {
   "cell_type": "markdown",
   "id": "fa906bd1",
   "metadata": {},
   "source": [
    "### PySpark reading a file form a CSV"
   ]
  },
  {
   "cell_type": "code",
   "execution_count": 1,
   "id": "38537e50",
   "metadata": {},
   "outputs": [],
   "source": [
    "# import warnings\n",
    "warnings.filterwarnings(\"ignore\")"
   ]
  },
  {
   "cell_type": "code",
   "execution_count": 2,
   "id": "b455da30",
   "metadata": {},
   "outputs": [
    {
     "name": "stderr",
     "output_type": "stream",
     "text": [
      "24/03/18 00:26:02 WARN SparkSession: Using an existing Spark session; only runtime SQL configurations will take effect.\n"
     ]
    }
   ],
   "source": [
    "from pyspark.sql import SparkSession\n",
    "\n",
    "spark = SparkSession.builder \\\n",
    "    .appName(\"BigData\") \\\n",
    "    .config(\"spark.driver.memory\", \"8g\") \\\n",
    "    .getOrCreate()\n"
   ]
  },
  {
   "cell_type": "code",
   "execution_count": 3,
   "id": "67a6244e",
   "metadata": {},
   "outputs": [],
   "source": [
    "### Basic - EDA"
   ]
  },
  {
   "cell_type": "code",
   "execution_count": 4,
   "id": "4dffaa9f",
   "metadata": {},
   "outputs": [
    {
     "name": "stdout",
     "output_type": "stream",
     "text": [
      "+--------------------+--------------------+\n",
      "|                file|             message|\n",
      "+--------------------+--------------------+\n",
      "|allen-p/_sent_mai...|Message-ID: <1878...|\n",
      "|           Date: Mon| 14 May 2001 16:3...|\n",
      "|From: phillip.all...|                null|\n",
      "|To: tim.belden@en...|                null|\n",
      "|           Subject: |                null|\n",
      "|   Mime-Version: 1.0|                null|\n",
      "|Content-Type: tex...|                null|\n",
      "|Content-Transfer-...|                null|\n",
      "|X-From: Phillip K...|                null|\n",
      "|X-To: Tim Belden ...|                null|\n",
      "|              X-cc: |                null|\n",
      "|             X-bcc: |                null|\n",
      "|X-Folder: \\Philli...| Phillip K.\\'Sent...|\n",
      "|   X-Origin: Allen-P|                null|\n",
      "|X-FileName: palle...|                null|\n",
      "|Here is our forecast|                null|\n",
      "|                   \"|                null|\n",
      "|allen-p/_sent_mai...|Message-ID: <1546...|\n",
      "|           Date: Fri| 4 May 2001 13:51...|\n",
      "|From: phillip.all...|                null|\n",
      "+--------------------+--------------------+\n",
      "only showing top 20 rows\n",
      "\n"
     ]
    }
   ],
   "source": [
    "df_emails = spark.read.format(\"csv\").option(\"header\", \"true\").load(\"hdfs://localhost:8020/user1/emails.csv\")\n",
    "df_emails.show()\n"
   ]
  },
  {
   "cell_type": "code",
   "execution_count": 5,
   "id": "c14d57b7",
   "metadata": {},
   "outputs": [
    {
     "name": "stderr",
     "output_type": "stream",
     "text": [
      "                                                                                \r"
     ]
    },
    {
     "data": {
      "text/plain": [
       "8307068"
      ]
     },
     "execution_count": 5,
     "metadata": {},
     "output_type": "execute_result"
    }
   ],
   "source": [
    "df_emails.count()\n"
   ]
  },
  {
   "cell_type": "code",
   "execution_count": 6,
   "id": "bf1828a0",
   "metadata": {},
   "outputs": [
    {
     "name": "stderr",
     "output_type": "stream",
     "text": [
      "[Stage 5:============================================>              (3 + 1) / 4]\r"
     ]
    },
    {
     "name": "stdout",
     "output_type": "stream",
     "text": [
      "+----+-------+\n",
      "|file|message|\n",
      "+----+-------+\n",
      "|7215|5798819|\n",
      "+----+-------+\n",
      "\n"
     ]
    },
    {
     "name": "stderr",
     "output_type": "stream",
     "text": [
      "\r",
      "                                                                                \r"
     ]
    }
   ],
   "source": [
    "from pyspark.sql.functions import col, count, when\n",
    "\n",
    "df_emails.select([count(when(col(c).isNull(), c)).alias(c) for c in df_emails.columns]).show()\n"
   ]
  },
  {
   "cell_type": "code",
   "execution_count": 7,
   "id": "bda0b418",
   "metadata": {},
   "outputs": [
    {
     "name": "stderr",
     "output_type": "stream",
     "text": [
      "[Stage 8:============================================>              (3 + 1) / 4]\r"
     ]
    },
    {
     "name": "stdout",
     "output_type": "stream",
     "text": [
      "+-------+--------------------+--------+\n",
      "|summary|                file| message|\n",
      "+-------+--------------------+--------+\n",
      "|  count|             8299853| 2508249|\n",
      "|   mean|                 NaN|Infinity|\n",
      "| stddev|                 NaN|     NaN|\n",
      "|    min|                  \\t|      \\t|\n",
      "|    max|~~~~~~~~~~~~~~~~~...|       ||\n",
      "+-------+--------------------+--------+\n",
      "\n"
     ]
    },
    {
     "name": "stderr",
     "output_type": "stream",
     "text": [
      "\r",
      "                                                                                \r"
     ]
    }
   ],
   "source": [
    "# Describe provides summary statistics of numeric columns in a DataFrame\n",
    "df_emails.describe().show()\n"
   ]
  },
  {
   "cell_type": "code",
   "execution_count": 8,
   "id": "2b3e61cc",
   "metadata": {},
   "outputs": [
    {
     "name": "stdout",
     "output_type": "stream",
     "text": [
      "+--------------------+--------------------+\n",
      "|                file|             message|\n",
      "+--------------------+--------------------+\n",
      "|allen-p/_sent_mai...|Message-ID: <1878...|\n",
      "|           Date: Mon| 14 May 2001 16:3...|\n",
      "|From: phillip.all...|                null|\n",
      "|To: tim.belden@en...|                null|\n",
      "|           Subject: |                null|\n",
      "|   Mime-Version: 1.0|                null|\n",
      "|Content-Type: tex...|                null|\n",
      "|Content-Transfer-...|                null|\n",
      "|X-From: Phillip K...|                null|\n",
      "|X-To: Tim Belden ...|                null|\n",
      "|              X-cc: |                null|\n",
      "|             X-bcc: |                null|\n",
      "|X-Folder: \\Philli...| Phillip K.\\'Sent...|\n",
      "|   X-Origin: Allen-P|                null|\n",
      "|X-FileName: palle...|                null|\n",
      "|Here is our forecast|                null|\n",
      "|                   \"|                null|\n",
      "|allen-p/_sent_mai...|Message-ID: <1546...|\n",
      "|           Date: Fri| 4 May 2001 13:51...|\n",
      "|From: phillip.all...|                null|\n",
      "+--------------------+--------------------+\n",
      "only showing top 20 rows\n",
      "\n"
     ]
    }
   ],
   "source": [
    "# Show the first few rows\n",
    "df_emails.show(n=20)\n"
   ]
  },
  {
   "cell_type": "code",
   "execution_count": 15,
   "id": "8a150d88",
   "metadata": {},
   "outputs": [
    {
     "name": "stdout",
     "output_type": "stream",
     "text": [
      "+-------------+\n",
      "|ExtractedDate|\n",
      "+-------------+\n",
      "|             |\n",
      "|             |\n",
      "|null         |\n",
      "|null         |\n",
      "|null         |\n",
      "+-------------+\n",
      "only showing top 5 rows\n",
      "\n"
     ]
    }
   ],
   "source": [
    "from pyspark.sql.functions import regexp_extract\n",
    "\n",
    "# Example regular expression pattern for a date in the format \"E, dd MMM yyyy HH:mm:ss Z\"\n",
    "# Adjust this pattern to match the actual format found in your 'message' data\n",
    "date_pattern = r'\\bMon, \\d{2} \\w{3} \\d{4} \\d{2}:\\d{2}:\\d{2} -\\d{4} \\(PDT\\)'\n",
    "\n",
    "# Create a new column 'ExtractedDate' by extracting the date string from 'message'\n",
    "df_emails = df_emails.withColumn(\"ExtractedDate\", regexp_extract(\"message\", date_pattern, 0))\n",
    "\n",
    "# Show the result of extraction\n",
    "df_emails.select(\"ExtractedDate\").show(truncate=False, n=5)\n"
   ]
  },
  {
   "cell_type": "code",
   "execution_count": 16,
   "id": "f75883be",
   "metadata": {},
   "outputs": [
    {
     "ename": "SparkUpgradeException",
     "evalue": "[INCONSISTENT_BEHAVIOR_CROSS_VERSION.DATETIME_PATTERN_RECOGNITION] You may get a different result due to the upgrading to Spark >= 3.0:\nFail to recognize 'E, dd MMM yyyy HH:mm:ss Z' pattern in the DateTimeFormatter. 1) You can set \"spark.sql.legacy.timeParserPolicy\" to \"LEGACY\" to restore the behavior before Spark 3.0. 2) You can form a valid datetime pattern with the guide from 'https://spark.apache.org/docs/latest/sql-ref-datetime-pattern.html'.",
     "output_type": "error",
     "traceback": [
      "\u001b[0;31m---------------------------------------------------------------------------\u001b[0m",
      "\u001b[0;31mSparkUpgradeException\u001b[0m                     Traceback (most recent call last)",
      "\u001b[0;32m/tmp/ipykernel_13220/2197461473.py\u001b[0m in \u001b[0;36m<module>\u001b[0;34m\u001b[0m\n\u001b[1;32m      5\u001b[0m \u001b[0;34m\u001b[0m\u001b[0m\n\u001b[1;32m      6\u001b[0m \u001b[0;31m# Show the DataFrame with the new timestamp column\u001b[0m\u001b[0;34m\u001b[0m\u001b[0;34m\u001b[0m\u001b[0m\n\u001b[0;32m----> 7\u001b[0;31m \u001b[0mdf_emails\u001b[0m\u001b[0;34m.\u001b[0m\u001b[0mselect\u001b[0m\u001b[0;34m(\u001b[0m\u001b[0;34m\"DateTimestamp\"\u001b[0m\u001b[0;34m)\u001b[0m\u001b[0;34m.\u001b[0m\u001b[0mshow\u001b[0m\u001b[0;34m(\u001b[0m\u001b[0mtruncate\u001b[0m\u001b[0;34m=\u001b[0m\u001b[0;32mFalse\u001b[0m\u001b[0;34m,\u001b[0m \u001b[0mn\u001b[0m\u001b[0;34m=\u001b[0m\u001b[0;36m5\u001b[0m\u001b[0;34m)\u001b[0m\u001b[0;34m\u001b[0m\u001b[0;34m\u001b[0m\u001b[0m\n\u001b[0m",
      "\u001b[0;32m/usr/local/spark/python/pyspark/sql/dataframe.py\u001b[0m in \u001b[0;36mshow\u001b[0;34m(self, n, truncate, vertical)\u001b[0m\n\u001b[1;32m    910\u001b[0m                 )\n\u001b[1;32m    911\u001b[0m \u001b[0;34m\u001b[0m\u001b[0m\n\u001b[0;32m--> 912\u001b[0;31m             \u001b[0mprint\u001b[0m\u001b[0;34m(\u001b[0m\u001b[0mself\u001b[0m\u001b[0;34m.\u001b[0m\u001b[0m_jdf\u001b[0m\u001b[0;34m.\u001b[0m\u001b[0mshowString\u001b[0m\u001b[0;34m(\u001b[0m\u001b[0mn\u001b[0m\u001b[0;34m,\u001b[0m \u001b[0mint_truncate\u001b[0m\u001b[0;34m,\u001b[0m \u001b[0mvertical\u001b[0m\u001b[0;34m)\u001b[0m\u001b[0;34m)\u001b[0m\u001b[0;34m\u001b[0m\u001b[0;34m\u001b[0m\u001b[0m\n\u001b[0m\u001b[1;32m    913\u001b[0m \u001b[0;34m\u001b[0m\u001b[0m\n\u001b[1;32m    914\u001b[0m     \u001b[0;32mdef\u001b[0m \u001b[0m__repr__\u001b[0m\u001b[0;34m(\u001b[0m\u001b[0mself\u001b[0m\u001b[0;34m)\u001b[0m \u001b[0;34m->\u001b[0m \u001b[0mstr\u001b[0m\u001b[0;34m:\u001b[0m\u001b[0;34m\u001b[0m\u001b[0;34m\u001b[0m\u001b[0m\n",
      "\u001b[0;32m/usr/local/spark/python/lib/py4j-0.10.9.7-src.zip/py4j/java_gateway.py\u001b[0m in \u001b[0;36m__call__\u001b[0;34m(self, *args)\u001b[0m\n\u001b[1;32m   1320\u001b[0m \u001b[0;34m\u001b[0m\u001b[0m\n\u001b[1;32m   1321\u001b[0m         \u001b[0manswer\u001b[0m \u001b[0;34m=\u001b[0m \u001b[0mself\u001b[0m\u001b[0;34m.\u001b[0m\u001b[0mgateway_client\u001b[0m\u001b[0;34m.\u001b[0m\u001b[0msend_command\u001b[0m\u001b[0;34m(\u001b[0m\u001b[0mcommand\u001b[0m\u001b[0;34m)\u001b[0m\u001b[0;34m\u001b[0m\u001b[0;34m\u001b[0m\u001b[0m\n\u001b[0;32m-> 1322\u001b[0;31m         return_value = get_return_value(\n\u001b[0m\u001b[1;32m   1323\u001b[0m             answer, self.gateway_client, self.target_id, self.name)\n\u001b[1;32m   1324\u001b[0m \u001b[0;34m\u001b[0m\u001b[0m\n",
      "\u001b[0;32m/usr/local/spark/python/pyspark/errors/exceptions/captured.py\u001b[0m in \u001b[0;36mdeco\u001b[0;34m(*a, **kw)\u001b[0m\n\u001b[1;32m    173\u001b[0m                 \u001b[0;31m# Hide where the exception came from that shows a non-Pythonic\u001b[0m\u001b[0;34m\u001b[0m\u001b[0;34m\u001b[0m\u001b[0m\n\u001b[1;32m    174\u001b[0m                 \u001b[0;31m# JVM exception message.\u001b[0m\u001b[0;34m\u001b[0m\u001b[0;34m\u001b[0m\u001b[0m\n\u001b[0;32m--> 175\u001b[0;31m                 \u001b[0;32mraise\u001b[0m \u001b[0mconverted\u001b[0m \u001b[0;32mfrom\u001b[0m \u001b[0;32mNone\u001b[0m\u001b[0;34m\u001b[0m\u001b[0;34m\u001b[0m\u001b[0m\n\u001b[0m\u001b[1;32m    176\u001b[0m             \u001b[0;32melse\u001b[0m\u001b[0;34m:\u001b[0m\u001b[0;34m\u001b[0m\u001b[0;34m\u001b[0m\u001b[0m\n\u001b[1;32m    177\u001b[0m                 \u001b[0;32mraise\u001b[0m\u001b[0;34m\u001b[0m\u001b[0;34m\u001b[0m\u001b[0m\n",
      "\u001b[0;31mSparkUpgradeException\u001b[0m: [INCONSISTENT_BEHAVIOR_CROSS_VERSION.DATETIME_PATTERN_RECOGNITION] You may get a different result due to the upgrading to Spark >= 3.0:\nFail to recognize 'E, dd MMM yyyy HH:mm:ss Z' pattern in the DateTimeFormatter. 1) You can set \"spark.sql.legacy.timeParserPolicy\" to \"LEGACY\" to restore the behavior before Spark 3.0. 2) You can form a valid datetime pattern with the guide from 'https://spark.apache.org/docs/latest/sql-ref-datetime-pattern.html'."
     ]
    }
   ],
   "source": [
    "from pyspark.sql.functions import to_timestamp\n",
    "\n",
    "# Convert the extracted date string to a timestamp format (adjust the format string as necessary)\n",
    "df_emails = df_emails.withColumn(\"DateTimestamp\", to_timestamp(\"ExtractedDate\", \"E, dd MMM yyyy HH:mm:ss Z\"))\n",
    "\n",
    "# Show the DataFrame with the new timestamp column\n",
    "df_emails.select(\"DateTimestamp\").show(truncate=False, n=5)\n"
   ]
  },
  {
   "cell_type": "code",
   "execution_count": null,
   "id": "25c7f9d2",
   "metadata": {},
   "outputs": [],
   "source": []
  },
  {
   "cell_type": "code",
   "execution_count": 17,
   "id": "61c22250",
   "metadata": {},
   "outputs": [
    {
     "ename": "SparkUpgradeException",
     "evalue": "[INCONSISTENT_BEHAVIOR_CROSS_VERSION.DATETIME_PATTERN_RECOGNITION] You may get a different result due to the upgrading to Spark >= 3.0:\nFail to recognize 'E, dd MMM yyyy HH:mm:ss Z' pattern in the DateTimeFormatter. 1) You can set \"spark.sql.legacy.timeParserPolicy\" to \"LEGACY\" to restore the behavior before Spark 3.0. 2) You can form a valid datetime pattern with the guide from 'https://spark.apache.org/docs/latest/sql-ref-datetime-pattern.html'.",
     "output_type": "error",
     "traceback": [
      "\u001b[0;31m---------------------------------------------------------------------------\u001b[0m",
      "\u001b[0;31mSparkUpgradeException\u001b[0m                     Traceback (most recent call last)",
      "\u001b[0;32m/tmp/ipykernel_13220/2778323512.py\u001b[0m in \u001b[0;36m<module>\u001b[0;34m\u001b[0m\n\u001b[1;32m      3\u001b[0m \u001b[0;34m\u001b[0m\u001b[0m\n\u001b[1;32m      4\u001b[0m \u001b[0;31m# Display the sorted DataFrame\u001b[0m\u001b[0;34m\u001b[0m\u001b[0;34m\u001b[0m\u001b[0m\n\u001b[0;32m----> 5\u001b[0;31m \u001b[0mdf_emails_sorted\u001b[0m\u001b[0;34m.\u001b[0m\u001b[0mshow\u001b[0m\u001b[0;34m(\u001b[0m\u001b[0mn\u001b[0m\u001b[0;34m=\u001b[0m\u001b[0;36m5\u001b[0m\u001b[0;34m,\u001b[0m \u001b[0mtruncate\u001b[0m\u001b[0;34m=\u001b[0m\u001b[0;32mFalse\u001b[0m\u001b[0;34m)\u001b[0m\u001b[0;34m\u001b[0m\u001b[0;34m\u001b[0m\u001b[0m\n\u001b[0m",
      "\u001b[0;32m/usr/local/spark/python/pyspark/sql/dataframe.py\u001b[0m in \u001b[0;36mshow\u001b[0;34m(self, n, truncate, vertical)\u001b[0m\n\u001b[1;32m    910\u001b[0m                 )\n\u001b[1;32m    911\u001b[0m \u001b[0;34m\u001b[0m\u001b[0m\n\u001b[0;32m--> 912\u001b[0;31m             \u001b[0mprint\u001b[0m\u001b[0;34m(\u001b[0m\u001b[0mself\u001b[0m\u001b[0;34m.\u001b[0m\u001b[0m_jdf\u001b[0m\u001b[0;34m.\u001b[0m\u001b[0mshowString\u001b[0m\u001b[0;34m(\u001b[0m\u001b[0mn\u001b[0m\u001b[0;34m,\u001b[0m \u001b[0mint_truncate\u001b[0m\u001b[0;34m,\u001b[0m \u001b[0mvertical\u001b[0m\u001b[0;34m)\u001b[0m\u001b[0;34m)\u001b[0m\u001b[0;34m\u001b[0m\u001b[0;34m\u001b[0m\u001b[0m\n\u001b[0m\u001b[1;32m    913\u001b[0m \u001b[0;34m\u001b[0m\u001b[0m\n\u001b[1;32m    914\u001b[0m     \u001b[0;32mdef\u001b[0m \u001b[0m__repr__\u001b[0m\u001b[0;34m(\u001b[0m\u001b[0mself\u001b[0m\u001b[0;34m)\u001b[0m \u001b[0;34m->\u001b[0m \u001b[0mstr\u001b[0m\u001b[0;34m:\u001b[0m\u001b[0;34m\u001b[0m\u001b[0;34m\u001b[0m\u001b[0m\n",
      "\u001b[0;32m/usr/local/spark/python/lib/py4j-0.10.9.7-src.zip/py4j/java_gateway.py\u001b[0m in \u001b[0;36m__call__\u001b[0;34m(self, *args)\u001b[0m\n\u001b[1;32m   1320\u001b[0m \u001b[0;34m\u001b[0m\u001b[0m\n\u001b[1;32m   1321\u001b[0m         \u001b[0manswer\u001b[0m \u001b[0;34m=\u001b[0m \u001b[0mself\u001b[0m\u001b[0;34m.\u001b[0m\u001b[0mgateway_client\u001b[0m\u001b[0;34m.\u001b[0m\u001b[0msend_command\u001b[0m\u001b[0;34m(\u001b[0m\u001b[0mcommand\u001b[0m\u001b[0;34m)\u001b[0m\u001b[0;34m\u001b[0m\u001b[0;34m\u001b[0m\u001b[0m\n\u001b[0;32m-> 1322\u001b[0;31m         return_value = get_return_value(\n\u001b[0m\u001b[1;32m   1323\u001b[0m             answer, self.gateway_client, self.target_id, self.name)\n\u001b[1;32m   1324\u001b[0m \u001b[0;34m\u001b[0m\u001b[0m\n",
      "\u001b[0;32m/usr/local/spark/python/pyspark/errors/exceptions/captured.py\u001b[0m in \u001b[0;36mdeco\u001b[0;34m(*a, **kw)\u001b[0m\n\u001b[1;32m    173\u001b[0m                 \u001b[0;31m# Hide where the exception came from that shows a non-Pythonic\u001b[0m\u001b[0;34m\u001b[0m\u001b[0;34m\u001b[0m\u001b[0m\n\u001b[1;32m    174\u001b[0m                 \u001b[0;31m# JVM exception message.\u001b[0m\u001b[0;34m\u001b[0m\u001b[0;34m\u001b[0m\u001b[0m\n\u001b[0;32m--> 175\u001b[0;31m                 \u001b[0;32mraise\u001b[0m \u001b[0mconverted\u001b[0m \u001b[0;32mfrom\u001b[0m \u001b[0;32mNone\u001b[0m\u001b[0;34m\u001b[0m\u001b[0;34m\u001b[0m\u001b[0m\n\u001b[0m\u001b[1;32m    176\u001b[0m             \u001b[0;32melse\u001b[0m\u001b[0;34m:\u001b[0m\u001b[0;34m\u001b[0m\u001b[0;34m\u001b[0m\u001b[0m\n\u001b[1;32m    177\u001b[0m                 \u001b[0;32mraise\u001b[0m\u001b[0;34m\u001b[0m\u001b[0;34m\u001b[0m\u001b[0m\n",
      "\u001b[0;31mSparkUpgradeException\u001b[0m: [INCONSISTENT_BEHAVIOR_CROSS_VERSION.DATETIME_PATTERN_RECOGNITION] You may get a different result due to the upgrading to Spark >= 3.0:\nFail to recognize 'E, dd MMM yyyy HH:mm:ss Z' pattern in the DateTimeFormatter. 1) You can set \"spark.sql.legacy.timeParserPolicy\" to \"LEGACY\" to restore the behavior before Spark 3.0. 2) You can form a valid datetime pattern with the guide from 'https://spark.apache.org/docs/latest/sql-ref-datetime-pattern.html'."
     ]
    }
   ],
   "source": [
    "# Sort the DataFrame by the timestamp column\n",
    "df_emails_sorted = df_emails.orderBy(\"DateTimestamp\", ascending=False)\n",
    "\n",
    "# Display the sorted DataFrame\n",
    "df_emails_sorted.show(n=5, truncate=False)\n"
   ]
  },
  {
   "cell_type": "code",
   "execution_count": null,
   "id": "90bdb5e6",
   "metadata": {},
   "outputs": [],
   "source": []
  },
  {
   "cell_type": "code",
   "execution_count": 10,
   "id": "f004be08",
   "metadata": {},
   "outputs": [
    {
     "name": "stdout",
     "output_type": "stream",
     "text": [
      "root\n",
      " |-- file: string (nullable = true)\n",
      " |-- message: string (nullable = true)\n",
      "\n"
     ]
    }
   ],
   "source": [
    "# Print the schema of the DataFrame\n",
    "df_emails.printSchema()\n"
   ]
  },
  {
   "cell_type": "code",
   "execution_count": 11,
   "id": "50146c3f",
   "metadata": {},
   "outputs": [
    {
     "name": "stdout",
     "output_type": "stream",
     "text": [
      "+-------------------------------------------------------------------------------------------------------------------------------------------------------------------------------------------------------------------------------------------------------------------------------------------------------------------------------------+-----------------------------------------------------------------------------------------------------------------------------------------------------------------------------------------------------------------------------------------------------------------------------------------------------------+\n",
      "|file                                                                                                                                                                                                                                                                                                                                 |message                                                                                                                                                                                                                                                                                                    |\n",
      "+-------------------------------------------------------------------------------------------------------------------------------------------------------------------------------------------------------------------------------------------------------------------------------------------------------------------------------------+-----------------------------------------------------------------------------------------------------------------------------------------------------------------------------------------------------------------------------------------------------------------------------------------------------------+\n",
      "|allen-p/_sent_mail/1.                                                                                                                                                                                                                                                                                                                |Message-ID: <18782981.1075855378110.JavaMail.evans@thyme>                                                                                                                                                                                                                                                  |\n",
      "|Date: Mon                                                                                                                                                                                                                                                                                                                            | 14 May 2001 16:39:00 -0700 (PDT)                                                                                                                                                                                                                                                                          |\n",
      "|From: phillip.allen@enron.com                                                                                                                                                                                                                                                                                                        |null                                                                                                                                                                                                                                                                                                       |\n",
      "|To: tim.belden@enron.com                                                                                                                                                                                                                                                                                                             |null                                                                                                                                                                                                                                                                                                       |\n",
      "|Subject:                                                                                                                                                                                                                                                                                                                             |null                                                                                                                                                                                                                                                                                                       |\n",
      "|Mime-Version: 1.0                                                                                                                                                                                                                                                                                                                    |null                                                                                                                                                                                                                                                                                                       |\n",
      "|Content-Type: text/plain; charset=us-ascii                                                                                                                                                                                                                                                                                           |null                                                                                                                                                                                                                                                                                                       |\n",
      "|Content-Transfer-Encoding: 7bit                                                                                                                                                                                                                                                                                                      |null                                                                                                                                                                                                                                                                                                       |\n",
      "|X-From: Phillip K Allen                                                                                                                                                                                                                                                                                                              |null                                                                                                                                                                                                                                                                                                       |\n",
      "|X-To: Tim Belden <Tim Belden/Enron@EnronXGate>                                                                                                                                                                                                                                                                                       |null                                                                                                                                                                                                                                                                                                       |\n",
      "|X-cc:                                                                                                                                                                                                                                                                                                                                |null                                                                                                                                                                                                                                                                                                       |\n",
      "|X-bcc:                                                                                                                                                                                                                                                                                                                               |null                                                                                                                                                                                                                                                                                                       |\n",
      "|X-Folder: \\Phillip_Allen_Jan2002_1\\Allen                                                                                                                                                                                                                                                                                             | Phillip K.\\'Sent Mail                                                                                                                                                                                                                                                                                     |\n",
      "|X-Origin: Allen-P                                                                                                                                                                                                                                                                                                                    |null                                                                                                                                                                                                                                                                                                       |\n",
      "|X-FileName: pallen (Non-Privileged).pst                                                                                                                                                                                                                                                                                              |null                                                                                                                                                                                                                                                                                                       |\n",
      "|Here is our forecast                                                                                                                                                                                                                                                                                                                 |null                                                                                                                                                                                                                                                                                                       |\n",
      "| \"                                                                                                                                                                                                                                                                                                                                   |null                                                                                                                                                                                                                                                                                                       |\n",
      "|allen-p/_sent_mail/10.                                                                                                                                                                                                                                                                                                               |Message-ID: <15464986.1075855378456.JavaMail.evans@thyme>                                                                                                                                                                                                                                                  |\n",
      "|Date: Fri                                                                                                                                                                                                                                                                                                                            | 4 May 2001 13:51:00 -0700 (PDT)                                                                                                                                                                                                                                                                           |\n",
      "|From: phillip.allen@enron.com                                                                                                                                                                                                                                                                                                        |null                                                                                                                                                                                                                                                                                                       |\n",
      "|To: john.lavorato@enron.com                                                                                                                                                                                                                                                                                                          |null                                                                                                                                                                                                                                                                                                       |\n",
      "|Subject: Re:                                                                                                                                                                                                                                                                                                                         |null                                                                                                                                                                                                                                                                                                       |\n",
      "|Mime-Version: 1.0                                                                                                                                                                                                                                                                                                                    |null                                                                                                                                                                                                                                                                                                       |\n",
      "|Content-Type: text/plain; charset=us-ascii                                                                                                                                                                                                                                                                                           |null                                                                                                                                                                                                                                                                                                       |\n",
      "|Content-Transfer-Encoding: 7bit                                                                                                                                                                                                                                                                                                      |null                                                                                                                                                                                                                                                                                                       |\n",
      "|X-From: Phillip K Allen                                                                                                                                                                                                                                                                                                              |null                                                                                                                                                                                                                                                                                                       |\n",
      "|X-To: John J Lavorato <John J Lavorato/ENRON@enronXgate@ENRON>                                                                                                                                                                                                                                                                       |null                                                                                                                                                                                                                                                                                                       |\n",
      "|X-cc:                                                                                                                                                                                                                                                                                                                                |null                                                                                                                                                                                                                                                                                                       |\n",
      "|X-bcc:                                                                                                                                                                                                                                                                                                                               |null                                                                                                                                                                                                                                                                                                       |\n",
      "|X-Folder: \\Phillip_Allen_Jan2002_1\\Allen                                                                                                                                                                                                                                                                                             | Phillip K.\\'Sent Mail                                                                                                                                                                                                                                                                                     |\n",
      "|X-Origin: Allen-P                                                                                                                                                                                                                                                                                                                    |null                                                                                                                                                                                                                                                                                                       |\n",
      "|X-FileName: pallen (Non-Privileged).pst                                                                                                                                                                                                                                                                                              |null                                                                                                                                                                                                                                                                                                       |\n",
      "|Traveling to have a business meeting takes the fun out of the trip.  Especially if you have to prepare a presentation.  I would suggest holding the business plan meetings here then take a trip without any formal business meetings.  I would even try and get some honest opinions on whether a trip is even desired or necessary.|null                                                                                                                                                                                                                                                                                                       |\n",
      "|As far as the business meetings                                                                                                                                                                                                                                                                                                      | I think it would be more productive to try and stimulate discussions across the different groups about what is working and what is not.  Too often the presenter speaks and the others are quiet just waiting for their turn.   The meetings might be better if held in a round table discussion format.  |\n",
      "|My suggestion for where to go is Austin.  Play golf and rent a ski boat and jet ski's.  Flying somewhere takes too much time.                                                                                                                                                                                                        |null                                                                                                                                                                                                                                                                                                       |\n",
      "|\"                                                                                                                                                                                                                                                                                                                                    |null                                                                                                                                                                                                                                                                                                       |\n",
      "|allen-p/_sent_mail/100.                                                                                                                                                                                                                                                                                                              |Message-ID: <24216240.1075855687451.JavaMail.evans@thyme>                                                                                                                                                                                                                                                  |\n",
      "|Date: Wed                                                                                                                                                                                                                                                                                                                            | 18 Oct 2000 03:00:00 -0700 (PDT)                                                                                                                                                                                                                                                                          |\n",
      "|From: phillip.allen@enron.com                                                                                                                                                                                                                                                                                                        |null                                                                                                                                                                                                                                                                                                       |\n",
      "|To: leah.arsdall@enron.com                                                                                                                                                                                                                                                                                                           |null                                                                                                                                                                                                                                                                                                       |\n",
      "|Subject: Re: test                                                                                                                                                                                                                                                                                                                    |null                                                                                                                                                                                                                                                                                                       |\n",
      "|Mime-Version: 1.0                                                                                                                                                                                                                                                                                                                    |null                                                                                                                                                                                                                                                                                                       |\n",
      "|Content-Type: text/plain; charset=us-ascii                                                                                                                                                                                                                                                                                           |null                                                                                                                                                                                                                                                                                                       |\n",
      "|Content-Transfer-Encoding: 7bit                                                                                                                                                                                                                                                                                                      |null                                                                                                                                                                                                                                                                                                       |\n",
      "|X-From: Phillip K Allen                                                                                                                                                                                                                                                                                                              |null                                                                                                                                                                                                                                                                                                       |\n",
      "|X-To: Leah Van Arsdall                                                                                                                                                                                                                                                                                                               |null                                                                                                                                                                                                                                                                                                       |\n",
      "|X-cc:                                                                                                                                                                                                                                                                                                                                |null                                                                                                                                                                                                                                                                                                       |\n",
      "|X-bcc:                                                                                                                                                                                                                                                                                                                               |null                                                                                                                                                                                                                                                                                                       |\n",
      "|X-Folder: \\Phillip_Allen_Dec2000\\Notes Folders\\'sent mail                                                                                                                                                                                                                                                                            |null                                                                                                                                                                                                                                                                                                       |\n",
      "|X-Origin: Allen-P                                                                                                                                                                                                                                                                                                                    |null                                                                                                                                                                                                                                                                                                       |\n",
      "|X-FileName: pallen.nsf                                                                                                                                                                                                                                                                                                               |null                                                                                                                                                                                                                                                                                                       |\n",
      "|test successful.  way to go!!!\"                                                                                                                                                                                                                                                                                                      |null                                                                                                                                                                                                                                                                                                       |\n",
      "|allen-p/_sent_mail/1000.                                                                                                                                                                                                                                                                                                             |Message-ID: <13505866.1075863688222.JavaMail.evans@thyme>                                                                                                                                                                                                                                                  |\n",
      "|Date: Mon                                                                                                                                                                                                                                                                                                                            | 23 Oct 2000 06:13:00 -0700 (PDT)                                                                                                                                                                                                                                                                          |\n",
      "|From: phillip.allen@enron.com                                                                                                                                                                                                                                                                                                        |null                                                                                                                                                                                                                                                                                                       |\n",
      "|To: randall.gay@enron.com                                                                                                                                                                                                                                                                                                            |null                                                                                                                                                                                                                                                                                                       |\n",
      "|Subject:                                                                                                                                                                                                                                                                                                                             |null                                                                                                                                                                                                                                                                                                       |\n",
      "|Mime-Version: 1.0                                                                                                                                                                                                                                                                                                                    |null                                                                                                                                                                                                                                                                                                       |\n",
      "|Content-Type: text/plain; charset=us-ascii                                                                                                                                                                                                                                                                                           |null                                                                                                                                                                                                                                                                                                       |\n",
      "|Content-Transfer-Encoding: 7bit                                                                                                                                                                                                                                                                                                      |null                                                                                                                                                                                                                                                                                                       |\n",
      "|X-From: Phillip K Allen                                                                                                                                                                                                                                                                                                              |null                                                                                                                                                                                                                                                                                                       |\n",
      "|X-To: Randall L Gay                                                                                                                                                                                                                                                                                                                  |null                                                                                                                                                                                                                                                                                                       |\n",
      "|X-cc:                                                                                                                                                                                                                                                                                                                                |null                                                                                                                                                                                                                                                                                                       |\n",
      "|X-bcc:                                                                                                                                                                                                                                                                                                                               |null                                                                                                                                                                                                                                                                                                       |\n",
      "|X-Folder: \\Phillip_Allen_Dec2000\\Notes Folders\\'sent mail                                                                                                                                                                                                                                                                            |null                                                                                                                                                                                                                                                                                                       |\n",
      "|X-Origin: Allen-P                                                                                                                                                                                                                                                                                                                    |null                                                                                                                                                                                                                                                                                                       |\n",
      "|X-FileName: pallen.nsf                                                                                                                                                                                                                                                                                                               |null                                                                                                                                                                                                                                                                                                       |\n",
      "|Randy                                                                                                                                                                                                                                                                                                                                |null                                                                                                                                                                                                                                                                                                       |\n",
      "| Can you send me a schedule of the salary and level of everyone in the                                                                                                                                                                                                                                                               |null                                                                                                                                                                                                                                                                                                       |\n",
      "|scheduling group.  Plus your thoughts on any changes that need to be made.                                                                                                                                                                                                                                                           |null                                                                                                                                                                                                                                                                                                       |\n",
      "|(Patti S for example)                                                                                                                                                                                                                                                                                                                |null                                                                                                                                                                                                                                                                                                       |\n",
      "|Phillip\"                                                                                                                                                                                                                                                                                                                             |null                                                                                                                                                                                                                                                                                                       |\n",
      "|allen-p/_sent_mail/1001.                                                                                                                                                                                                                                                                                                             |Message-ID: <30922949.1075863688243.JavaMail.evans@thyme>                                                                                                                                                                                                                                                  |\n",
      "|Date: Thu                                                                                                                                                                                                                                                                                                                            | 31 Aug 2000 05:07:00 -0700 (PDT)                                                                                                                                                                                                                                                                          |\n",
      "|From: phillip.allen@enron.com                                                                                                                                                                                                                                                                                                        |null                                                                                                                                                                                                                                                                                                       |\n",
      "|To: greg.piper@enron.com                                                                                                                                                                                                                                                                                                             |null                                                                                                                                                                                                                                                                                                       |\n",
      "|Subject: Re: Hello                                                                                                                                                                                                                                                                                                                   |null                                                                                                                                                                                                                                                                                                       |\n",
      "|Mime-Version: 1.0                                                                                                                                                                                                                                                                                                                    |null                                                                                                                                                                                                                                                                                                       |\n",
      "|Content-Type: text/plain; charset=us-ascii                                                                                                                                                                                                                                                                                           |null                                                                                                                                                                                                                                                                                                       |\n",
      "|Content-Transfer-Encoding: 7bit                                                                                                                                                                                                                                                                                                      |null                                                                                                                                                                                                                                                                                                       |\n",
      "|X-From: Phillip K Allen                                                                                                                                                                                                                                                                                                              |null                                                                                                                                                                                                                                                                                                       |\n",
      "|X-To: Greg Piper                                                                                                                                                                                                                                                                                                                     |null                                                                                                                                                                                                                                                                                                       |\n",
      "|X-cc:                                                                                                                                                                                                                                                                                                                                |null                                                                                                                                                                                                                                                                                                       |\n",
      "|X-bcc:                                                                                                                                                                                                                                                                                                                               |null                                                                                                                                                                                                                                                                                                       |\n",
      "|X-Folder: \\Phillip_Allen_Dec2000\\Notes Folders\\'sent mail                                                                                                                                                                                                                                                                            |null                                                                                                                                                                                                                                                                                                       |\n",
      "|X-Origin: Allen-P                                                                                                                                                                                                                                                                                                                    |null                                                                                                                                                                                                                                                                                                       |\n",
      "|X-FileName: pallen.nsf                                                                                                                                                                                                                                                                                                               |null                                                                                                                                                                                                                                                                                                       |\n",
      "|Let's shoot for Tuesday at 11:45.  \"                                                                                                                                                                                                                                                                                                 |null                                                                                                                                                                                                                                                                                                       |\n",
      "|allen-p/_sent_mail/1002.                                                                                                                                                                                                                                                                                                             |Message-ID: <30965995.1075863688265.JavaMail.evans@thyme>                                                                                                                                                                                                                                                  |\n",
      "|Date: Thu                                                                                                                                                                                                                                                                                                                            | 31 Aug 2000 04:17:00 -0700 (PDT)                                                                                                                                                                                                                                                                          |\n",
      "|From: phillip.allen@enron.com                                                                                                                                                                                                                                                                                                        |null                                                                                                                                                                                                                                                                                                       |\n",
      "|To: greg.piper@enron.com                                                                                                                                                                                                                                                                                                             |null                                                                                                                                                                                                                                                                                                       |\n",
      "|Subject: Re: Hello                                                                                                                                                                                                                                                                                                                   |null                                                                                                                                                                                                                                                                                                       |\n",
      "|Mime-Version: 1.0                                                                                                                                                                                                                                                                                                                    |null                                                                                                                                                                                                                                                                                                       |\n",
      "|Content-Type: text/plain; charset=us-ascii                                                                                                                                                                                                                                                                                           |null                                                                                                                                                                                                                                                                                                       |\n",
      "|Content-Transfer-Encoding: 7bit                                                                                                                                                                                                                                                                                                      |null                                                                                                                                                                                                                                                                                                       |\n",
      "|X-From: Phillip K Allen                                                                                                                                                                                                                                                                                                              |null                                                                                                                                                                                                                                                                                                       |\n",
      "|X-To: Greg Piper                                                                                                                                                                                                                                                                                                                     |null                                                                                                                                                                                                                                                                                                       |\n",
      "|X-cc:                                                                                                                                                                                                                                                                                                                                |null                                                                                                                                                                                                                                                                                                       |\n",
      "|X-bcc:                                                                                                                                                                                                                                                                                                                               |null                                                                                                                                                                                                                                                                                                       |\n",
      "+-------------------------------------------------------------------------------------------------------------------------------------------------------------------------------------------------------------------------------------------------------------------------------------------------------------------------------------+-----------------------------------------------------------------------------------------------------------------------------------------------------------------------------------------------------------------------------------------------------------------------------------------------------------+\n",
      "only showing top 100 rows\n",
      "\n"
     ]
    }
   ],
   "source": [
    "df_emails.show(truncate=False, n=100)\n"
   ]
  },
  {
   "cell_type": "code",
   "execution_count": 12,
   "id": "89251399",
   "metadata": {},
   "outputs": [
    {
     "ename": "AnalysisException",
     "evalue": "[UNRESOLVED_COLUMN.WITH_SUGGESTION] A column or function parameter with name `From` cannot be resolved. Did you mean one of the following? [`file`, `message`].;\n'Aggregate ['From], ['From, count(1) AS count#256L]\n+- Relation [file#17,message#18] csv\n",
     "output_type": "error",
     "traceback": [
      "\u001b[0;31m---------------------------------------------------------------------------\u001b[0m",
      "\u001b[0;31mAnalysisException\u001b[0m                         Traceback (most recent call last)",
      "\u001b[0;32m/tmp/ipykernel_13220/4283623527.py\u001b[0m in \u001b[0;36m<module>\u001b[0;34m\u001b[0m\n\u001b[1;32m      1\u001b[0m \u001b[0;32mfrom\u001b[0m \u001b[0mpyspark\u001b[0m\u001b[0;34m.\u001b[0m\u001b[0msql\u001b[0m\u001b[0;34m.\u001b[0m\u001b[0mfunctions\u001b[0m \u001b[0;32mimport\u001b[0m \u001b[0mcol\u001b[0m\u001b[0;34m\u001b[0m\u001b[0;34m\u001b[0m\u001b[0m\n\u001b[1;32m      2\u001b[0m \u001b[0;34m\u001b[0m\u001b[0m\n\u001b[0;32m----> 3\u001b[0;31m \u001b[0mdf_emails\u001b[0m\u001b[0;34m.\u001b[0m\u001b[0mgroupBy\u001b[0m\u001b[0;34m(\u001b[0m\u001b[0;34m\"From\"\u001b[0m\u001b[0;34m)\u001b[0m\u001b[0;34m.\u001b[0m\u001b[0mcount\u001b[0m\u001b[0;34m(\u001b[0m\u001b[0;34m)\u001b[0m\u001b[0;34m.\u001b[0m\u001b[0morderBy\u001b[0m\u001b[0;34m(\u001b[0m\u001b[0mcol\u001b[0m\u001b[0;34m(\u001b[0m\u001b[0;34m\"count\"\u001b[0m\u001b[0;34m)\u001b[0m\u001b[0;34m.\u001b[0m\u001b[0mdesc\u001b[0m\u001b[0;34m(\u001b[0m\u001b[0;34m)\u001b[0m\u001b[0;34m)\u001b[0m\u001b[0;34m.\u001b[0m\u001b[0mshow\u001b[0m\u001b[0;34m(\u001b[0m\u001b[0mtruncate\u001b[0m\u001b[0;34m=\u001b[0m\u001b[0;32mFalse\u001b[0m\u001b[0;34m)\u001b[0m\u001b[0;34m\u001b[0m\u001b[0;34m\u001b[0m\u001b[0m\n\u001b[0m",
      "\u001b[0;32m/usr/local/spark/python/pyspark/sql/group.py\u001b[0m in \u001b[0;36m_api\u001b[0;34m(self)\u001b[0m\n\u001b[1;32m     36\u001b[0m     \u001b[0;32mdef\u001b[0m \u001b[0m_api\u001b[0m\u001b[0;34m(\u001b[0m\u001b[0mself\u001b[0m\u001b[0;34m:\u001b[0m \u001b[0;34m\"GroupedData\"\u001b[0m\u001b[0;34m)\u001b[0m \u001b[0;34m->\u001b[0m \u001b[0mDataFrame\u001b[0m\u001b[0;34m:\u001b[0m\u001b[0;34m\u001b[0m\u001b[0;34m\u001b[0m\u001b[0m\n\u001b[1;32m     37\u001b[0m         \u001b[0mname\u001b[0m \u001b[0;34m=\u001b[0m \u001b[0mf\u001b[0m\u001b[0;34m.\u001b[0m\u001b[0m__name__\u001b[0m\u001b[0;34m\u001b[0m\u001b[0;34m\u001b[0m\u001b[0m\n\u001b[0;32m---> 38\u001b[0;31m         \u001b[0mjdf\u001b[0m \u001b[0;34m=\u001b[0m \u001b[0mgetattr\u001b[0m\u001b[0;34m(\u001b[0m\u001b[0mself\u001b[0m\u001b[0;34m.\u001b[0m\u001b[0m_jgd\u001b[0m\u001b[0;34m,\u001b[0m \u001b[0mname\u001b[0m\u001b[0;34m)\u001b[0m\u001b[0;34m(\u001b[0m\u001b[0;34m)\u001b[0m\u001b[0;34m\u001b[0m\u001b[0;34m\u001b[0m\u001b[0m\n\u001b[0m\u001b[1;32m     39\u001b[0m         \u001b[0;32mreturn\u001b[0m \u001b[0mDataFrame\u001b[0m\u001b[0;34m(\u001b[0m\u001b[0mjdf\u001b[0m\u001b[0;34m,\u001b[0m \u001b[0mself\u001b[0m\u001b[0;34m.\u001b[0m\u001b[0msession\u001b[0m\u001b[0;34m)\u001b[0m\u001b[0;34m\u001b[0m\u001b[0;34m\u001b[0m\u001b[0m\n\u001b[1;32m     40\u001b[0m \u001b[0;34m\u001b[0m\u001b[0m\n",
      "\u001b[0;32m/usr/local/spark/python/lib/py4j-0.10.9.7-src.zip/py4j/java_gateway.py\u001b[0m in \u001b[0;36m__call__\u001b[0;34m(self, *args)\u001b[0m\n\u001b[1;32m   1320\u001b[0m \u001b[0;34m\u001b[0m\u001b[0m\n\u001b[1;32m   1321\u001b[0m         \u001b[0manswer\u001b[0m \u001b[0;34m=\u001b[0m \u001b[0mself\u001b[0m\u001b[0;34m.\u001b[0m\u001b[0mgateway_client\u001b[0m\u001b[0;34m.\u001b[0m\u001b[0msend_command\u001b[0m\u001b[0;34m(\u001b[0m\u001b[0mcommand\u001b[0m\u001b[0;34m)\u001b[0m\u001b[0;34m\u001b[0m\u001b[0;34m\u001b[0m\u001b[0m\n\u001b[0;32m-> 1322\u001b[0;31m         return_value = get_return_value(\n\u001b[0m\u001b[1;32m   1323\u001b[0m             answer, self.gateway_client, self.target_id, self.name)\n\u001b[1;32m   1324\u001b[0m \u001b[0;34m\u001b[0m\u001b[0m\n",
      "\u001b[0;32m/usr/local/spark/python/pyspark/errors/exceptions/captured.py\u001b[0m in \u001b[0;36mdeco\u001b[0;34m(*a, **kw)\u001b[0m\n\u001b[1;32m    173\u001b[0m                 \u001b[0;31m# Hide where the exception came from that shows a non-Pythonic\u001b[0m\u001b[0;34m\u001b[0m\u001b[0;34m\u001b[0m\u001b[0m\n\u001b[1;32m    174\u001b[0m                 \u001b[0;31m# JVM exception message.\u001b[0m\u001b[0;34m\u001b[0m\u001b[0;34m\u001b[0m\u001b[0m\n\u001b[0;32m--> 175\u001b[0;31m                 \u001b[0;32mraise\u001b[0m \u001b[0mconverted\u001b[0m \u001b[0;32mfrom\u001b[0m \u001b[0;32mNone\u001b[0m\u001b[0;34m\u001b[0m\u001b[0;34m\u001b[0m\u001b[0m\n\u001b[0m\u001b[1;32m    176\u001b[0m             \u001b[0;32melse\u001b[0m\u001b[0;34m:\u001b[0m\u001b[0;34m\u001b[0m\u001b[0;34m\u001b[0m\u001b[0m\n\u001b[1;32m    177\u001b[0m                 \u001b[0;32mraise\u001b[0m\u001b[0;34m\u001b[0m\u001b[0;34m\u001b[0m\u001b[0m\n",
      "\u001b[0;31mAnalysisException\u001b[0m: [UNRESOLVED_COLUMN.WITH_SUGGESTION] A column or function parameter with name `From` cannot be resolved. Did you mean one of the following? [`file`, `message`].;\n'Aggregate ['From], ['From, count(1) AS count#256L]\n+- Relation [file#17,message#18] csv\n"
     ]
    }
   ],
   "source": [
    "from pyspark.sql.functions import col\n",
    "\n",
    "df_emails.groupBy(\"From\").count().orderBy(col(\"count\").desc()).show(truncate=False)\n"
   ]
  },
  {
   "cell_type": "code",
   "execution_count": 13,
   "id": "ea1b25a9",
   "metadata": {},
   "outputs": [
    {
     "ename": "AnalysisException",
     "evalue": "[UNRESOLVED_COLUMN.WITH_SUGGESTION] A column or function parameter with name `From` cannot be resolved. Did you mean one of the following? [`file`, `message`].;\n'Filter NOT ('From = )\n+- Relation [file#17,message#18] csv\n",
     "output_type": "error",
     "traceback": [
      "\u001b[0;31m---------------------------------------------------------------------------\u001b[0m",
      "\u001b[0;31mAnalysisException\u001b[0m                         Traceback (most recent call last)",
      "\u001b[0;32m/tmp/ipykernel_13220/191823294.py\u001b[0m in \u001b[0;36m<module>\u001b[0;34m\u001b[0m\n\u001b[1;32m      2\u001b[0m \u001b[0;34m\u001b[0m\u001b[0m\n\u001b[1;32m      3\u001b[0m \u001b[0;31m# Filter out emails with blank 'From' field\u001b[0m\u001b[0;34m\u001b[0m\u001b[0;34m\u001b[0m\u001b[0m\n\u001b[0;32m----> 4\u001b[0;31m \u001b[0mfiltered_df_emails\u001b[0m \u001b[0;34m=\u001b[0m \u001b[0mdf_emails\u001b[0m\u001b[0;34m.\u001b[0m\u001b[0mfilter\u001b[0m\u001b[0;34m(\u001b[0m\u001b[0mcol\u001b[0m\u001b[0;34m(\u001b[0m\u001b[0;34m\"From\"\u001b[0m\u001b[0;34m)\u001b[0m \u001b[0;34m!=\u001b[0m \u001b[0;34m\"\"\u001b[0m\u001b[0;34m)\u001b[0m\u001b[0;34m\u001b[0m\u001b[0;34m\u001b[0m\u001b[0m\n\u001b[0m\u001b[1;32m      5\u001b[0m \u001b[0;34m\u001b[0m\u001b[0m\n\u001b[1;32m      6\u001b[0m \u001b[0;31m# Aggregate data in Spark to find top 10 email senders, excluding blanks\u001b[0m\u001b[0;34m\u001b[0m\u001b[0;34m\u001b[0m\u001b[0m\n",
      "\u001b[0;32m/usr/local/spark/python/pyspark/sql/dataframe.py\u001b[0m in \u001b[0;36mfilter\u001b[0;34m(self, condition)\u001b[0m\n\u001b[1;32m   3136\u001b[0m             \u001b[0mjdf\u001b[0m \u001b[0;34m=\u001b[0m \u001b[0mself\u001b[0m\u001b[0;34m.\u001b[0m\u001b[0m_jdf\u001b[0m\u001b[0;34m.\u001b[0m\u001b[0mfilter\u001b[0m\u001b[0;34m(\u001b[0m\u001b[0mcondition\u001b[0m\u001b[0;34m)\u001b[0m\u001b[0;34m\u001b[0m\u001b[0;34m\u001b[0m\u001b[0m\n\u001b[1;32m   3137\u001b[0m         \u001b[0;32melif\u001b[0m \u001b[0misinstance\u001b[0m\u001b[0;34m(\u001b[0m\u001b[0mcondition\u001b[0m\u001b[0;34m,\u001b[0m \u001b[0mColumn\u001b[0m\u001b[0;34m)\u001b[0m\u001b[0;34m:\u001b[0m\u001b[0;34m\u001b[0m\u001b[0;34m\u001b[0m\u001b[0m\n\u001b[0;32m-> 3138\u001b[0;31m             \u001b[0mjdf\u001b[0m \u001b[0;34m=\u001b[0m \u001b[0mself\u001b[0m\u001b[0;34m.\u001b[0m\u001b[0m_jdf\u001b[0m\u001b[0;34m.\u001b[0m\u001b[0mfilter\u001b[0m\u001b[0;34m(\u001b[0m\u001b[0mcondition\u001b[0m\u001b[0;34m.\u001b[0m\u001b[0m_jc\u001b[0m\u001b[0;34m)\u001b[0m\u001b[0;34m\u001b[0m\u001b[0;34m\u001b[0m\u001b[0m\n\u001b[0m\u001b[1;32m   3139\u001b[0m         \u001b[0;32melse\u001b[0m\u001b[0;34m:\u001b[0m\u001b[0;34m\u001b[0m\u001b[0;34m\u001b[0m\u001b[0m\n\u001b[1;32m   3140\u001b[0m             raise PySparkTypeError(\n",
      "\u001b[0;32m/usr/local/spark/python/lib/py4j-0.10.9.7-src.zip/py4j/java_gateway.py\u001b[0m in \u001b[0;36m__call__\u001b[0;34m(self, *args)\u001b[0m\n\u001b[1;32m   1320\u001b[0m \u001b[0;34m\u001b[0m\u001b[0m\n\u001b[1;32m   1321\u001b[0m         \u001b[0manswer\u001b[0m \u001b[0;34m=\u001b[0m \u001b[0mself\u001b[0m\u001b[0;34m.\u001b[0m\u001b[0mgateway_client\u001b[0m\u001b[0;34m.\u001b[0m\u001b[0msend_command\u001b[0m\u001b[0;34m(\u001b[0m\u001b[0mcommand\u001b[0m\u001b[0;34m)\u001b[0m\u001b[0;34m\u001b[0m\u001b[0;34m\u001b[0m\u001b[0m\n\u001b[0;32m-> 1322\u001b[0;31m         return_value = get_return_value(\n\u001b[0m\u001b[1;32m   1323\u001b[0m             answer, self.gateway_client, self.target_id, self.name)\n\u001b[1;32m   1324\u001b[0m \u001b[0;34m\u001b[0m\u001b[0m\n",
      "\u001b[0;32m/usr/local/spark/python/pyspark/errors/exceptions/captured.py\u001b[0m in \u001b[0;36mdeco\u001b[0;34m(*a, **kw)\u001b[0m\n\u001b[1;32m    173\u001b[0m                 \u001b[0;31m# Hide where the exception came from that shows a non-Pythonic\u001b[0m\u001b[0;34m\u001b[0m\u001b[0;34m\u001b[0m\u001b[0m\n\u001b[1;32m    174\u001b[0m                 \u001b[0;31m# JVM exception message.\u001b[0m\u001b[0;34m\u001b[0m\u001b[0;34m\u001b[0m\u001b[0m\n\u001b[0;32m--> 175\u001b[0;31m                 \u001b[0;32mraise\u001b[0m \u001b[0mconverted\u001b[0m \u001b[0;32mfrom\u001b[0m \u001b[0;32mNone\u001b[0m\u001b[0;34m\u001b[0m\u001b[0;34m\u001b[0m\u001b[0m\n\u001b[0m\u001b[1;32m    176\u001b[0m             \u001b[0;32melse\u001b[0m\u001b[0;34m:\u001b[0m\u001b[0;34m\u001b[0m\u001b[0;34m\u001b[0m\u001b[0m\n\u001b[1;32m    177\u001b[0m                 \u001b[0;32mraise\u001b[0m\u001b[0;34m\u001b[0m\u001b[0;34m\u001b[0m\u001b[0m\n",
      "\u001b[0;31mAnalysisException\u001b[0m: [UNRESOLVED_COLUMN.WITH_SUGGESTION] A column or function parameter with name `From` cannot be resolved. Did you mean one of the following? [`file`, `message`].;\n'Filter NOT ('From = )\n+- Relation [file#17,message#18] csv\n"
     ]
    }
   ],
   "source": [
    "from pyspark.sql.functions import desc, col\n",
    "\n",
    "# Filter out emails with blank 'From' field\n",
    "filtered_df_emails = df_emails.filter(col(\"From\") != \"\")\n",
    "\n",
    "# Aggregate data in Spark to find top 10 email senders, excluding blanks\n",
    "top_senders_df = filtered_df_emails.groupBy(\"From\").count().orderBy(desc(\"count\")).limit(10)\n",
    "\n",
    "# Collecting the aggregated DataFrame to Pandas for visualization\n",
    "top_senders_pdf = top_senders_df.toPandas()\n",
    "\n",
    "# Plotting with Matplotlib\n",
    "top_senders_pdf.plot(kind='bar', x='From', y='count', legend=None, figsize=(10, 6))\n",
    "plt.title('Top 10 Email Senders (Excluding Blanks)')\n",
    "plt.xlabel('Sender')\n",
    "plt.ylabel('Number of Emails')\n",
    "plt.xticks(rotation=45, ha='right')\n",
    "plt.tight_layout()  # Adjust layout to make room for the rotated x-axis labels\n",
    "plt.show()\n"
   ]
  },
  {
   "cell_type": "code",
   "execution_count": 14,
   "id": "08912385",
   "metadata": {},
   "outputs": [
    {
     "name": "stdout",
     "output_type": "stream",
     "text": [
      "root\n",
      " |-- file: string (nullable = true)\n",
      " |-- message: string (nullable = true)\n",
      "\n"
     ]
    }
   ],
   "source": [
    "df_emails.printSchema()\n"
   ]
  },
  {
   "cell_type": "markdown",
   "id": "7998bbf6",
   "metadata": {},
   "source": [
    "### Text Preprocessing\n"
   ]
  },
  {
   "cell_type": "code",
   "execution_count": null,
   "id": "ce5ff6f0",
   "metadata": {},
   "outputs": [],
   "source": []
  },
  {
   "cell_type": "code",
   "execution_count": null,
   "id": "9d70f48d",
   "metadata": {},
   "outputs": [],
   "source": [
    "from pyspark.sql.functions import regexp_replace\n",
    "\n",
    "# Remove unnecessary characters (numbers and punctuation)\n",
    "df_cleaned = df_emails.withColumn(\"CleanedMessage\", regexp_replace(\"Message\", \"[^a-zA-Z\\\\s]\", \"\"))\n",
    "\n",
    "# Optionally, you might want to lower the case\n",
    "from pyspark.sql.functions import lower\n",
    "df_cleaned = df_cleaned.withColumn(\"CleanedMessage\", lower(col(\"CleanedMessage\")))\n"
   ]
  },
  {
   "cell_type": "code",
   "execution_count": null,
   "id": "3fca8ad1",
   "metadata": {},
   "outputs": [],
   "source": [
    "from pyspark.ml.feature import Tokenizer\n",
    "\n",
    "tokenizer = Tokenizer(inputCol=\"CleanedMessage\", outputCol=\"Tokens\")\n",
    "df_tokens = tokenizer.transform(df_cleaned)\n"
   ]
  },
  {
   "cell_type": "code",
   "execution_count": null,
   "id": "a9930f43",
   "metadata": {},
   "outputs": [],
   "source": [
    "from pyspark.ml.feature import StopWordsRemover\n",
    "\n",
    "remover = StopWordsRemover(inputCol=\"Tokens\", outputCol=\"FilteredTokens\")\n",
    "df_filtered = remover.transform(df_tokens)\n"
   ]
  },
  {
   "cell_type": "code",
   "execution_count": null,
   "id": "64b26313",
   "metadata": {},
   "outputs": [],
   "source": [
    "# For CountVectorizer\n",
    "from pyspark.ml.feature import CountVectorizer\n",
    "\n",
    "cv = CountVectorizer(inputCol=\"FilteredTokens\", outputCol=\"Features\")\n",
    "model = cv.fit(df_filtered)\n",
    "df_features = model.transform(df_filtered)\n",
    "\n",
    "# Optionally, for TF-IDF\n",
    "from pyspark.ml.feature import HashingTF, IDF\n",
    "\n",
    "hashingTF = HashingTF(inputCol=\"FilteredTokens\", outputCol=\"RawFeatures\")\n",
    "featurizedData = hashingTF.transform(df_filtered)\n",
    "\n",
    "idf = IDF(inputCol=\"RawFeatures\", outputCol=\"Features\")\n",
    "idfModel = idf.fit(featurizedData)\n",
    "df_features = idfModel.transform(featurizedData)\n"
   ]
  },
  {
   "cell_type": "code",
   "execution_count": null,
   "id": "a1f58620",
   "metadata": {},
   "outputs": [],
   "source": [
    "(trainingData, testData) = df_features.randomSplit([0.7, 0.3], seed=100)\n"
   ]
  },
  {
   "cell_type": "code",
   "execution_count": null,
   "id": "7cb1dc81",
   "metadata": {},
   "outputs": [],
   "source": []
  },
  {
   "cell_type": "code",
   "execution_count": null,
   "id": "ba8629c7",
   "metadata": {},
   "outputs": [],
   "source": []
  },
  {
   "cell_type": "code",
   "execution_count": null,
   "id": "3d75c970",
   "metadata": {},
   "outputs": [],
   "source": []
  },
  {
   "cell_type": "code",
   "execution_count": null,
   "id": "cd17e8e6",
   "metadata": {},
   "outputs": [],
   "source": []
  },
  {
   "cell_type": "code",
   "execution_count": null,
   "id": "ac66ebcb",
   "metadata": {},
   "outputs": [],
   "source": []
  },
  {
   "cell_type": "code",
   "execution_count": null,
   "id": "fe1bf4a5",
   "metadata": {},
   "outputs": [],
   "source": []
  },
  {
   "cell_type": "code",
   "execution_count": null,
   "id": "736c3109",
   "metadata": {},
   "outputs": [],
   "source": []
  },
  {
   "cell_type": "code",
   "execution_count": null,
   "id": "815d90f6",
   "metadata": {},
   "outputs": [],
   "source": []
  },
  {
   "cell_type": "code",
   "execution_count": null,
   "id": "738b61bc",
   "metadata": {},
   "outputs": [],
   "source": []
  },
  {
   "cell_type": "code",
   "execution_count": null,
   "id": "ee443af4",
   "metadata": {},
   "outputs": [],
   "source": []
  },
  {
   "cell_type": "code",
   "execution_count": null,
   "id": "32528d59",
   "metadata": {},
   "outputs": [],
   "source": []
  },
  {
   "cell_type": "code",
   "execution_count": null,
   "id": "26331c9a",
   "metadata": {},
   "outputs": [],
   "source": []
  },
  {
   "cell_type": "code",
   "execution_count": null,
   "id": "96545a9d",
   "metadata": {},
   "outputs": [],
   "source": []
  },
  {
   "cell_type": "code",
   "execution_count": null,
   "id": "d5949c1c",
   "metadata": {},
   "outputs": [],
   "source": []
  },
  {
   "cell_type": "code",
   "execution_count": null,
   "id": "0b0dfa04",
   "metadata": {},
   "outputs": [],
   "source": []
  },
  {
   "cell_type": "code",
   "execution_count": null,
   "id": "0efa3927",
   "metadata": {},
   "outputs": [],
   "source": []
  },
  {
   "cell_type": "code",
   "execution_count": null,
   "id": "4ad2b174",
   "metadata": {},
   "outputs": [],
   "source": []
  },
  {
   "cell_type": "code",
   "execution_count": null,
   "id": "ced810d6",
   "metadata": {},
   "outputs": [],
   "source": []
  },
  {
   "cell_type": "code",
   "execution_count": null,
   "id": "854a91b5",
   "metadata": {},
   "outputs": [],
   "source": []
  },
  {
   "cell_type": "code",
   "execution_count": null,
   "id": "21bd28b9",
   "metadata": {},
   "outputs": [],
   "source": [
    "# sc master - running locally\n",
    "sc.master"
   ]
  },
  {
   "cell_type": "code",
   "execution_count": null,
   "id": "8ab87719",
   "metadata": {},
   "outputs": [],
   "source": []
  },
  {
   "cell_type": "code",
   "execution_count": null,
   "id": "616a04e2",
   "metadata": {},
   "outputs": [],
   "source": []
  },
  {
   "cell_type": "code",
   "execution_count": null,
   "id": "edd0d50e",
   "metadata": {},
   "outputs": [],
   "source": []
  },
  {
   "cell_type": "code",
   "execution_count": null,
   "id": "680b4e65",
   "metadata": {},
   "outputs": [],
   "source": [
    "# The inferred schema can be visualized using the printSchema() method\n",
    "df.printSchema()"
   ]
  },
  {
   "cell_type": "code",
   "execution_count": null,
   "id": "084b2cd7",
   "metadata": {},
   "outputs": [],
   "source": []
  },
  {
   "cell_type": "code",
   "execution_count": null,
   "id": "02541bcb",
   "metadata": {},
   "outputs": [],
   "source": []
  },
  {
   "cell_type": "code",
   "execution_count": null,
   "id": "6bc2b0c4",
   "metadata": {},
   "outputs": [],
   "source": [
    "def parse_message(message):\n",
    "    # Initialize a dictionary to hold the parsed data\n",
    "    parsed_data = {\n",
    "        \"MessageID\": \"\",\n",
    "        \"Date\": \"\",\n",
    "        \"From\": \"\",\n",
    "        \"To\": \"\",\n",
    "        \"Subject\": \"\"\n",
    "    }\n",
    "    \n",
    "    # Split the message into lines for processing\n",
    "    lines = message.split(\"\\n\")\n",
    "    for line in lines:\n",
    "        if line.startswith(\"Message-ID:\"):\n",
    "            parsed_data[\"MessageID\"] = line[len(\"Message-ID:\"):].strip()\n",
    "        elif line.startswith(\"Date:\"):\n",
    "            parsed_data[\"Date\"] = line[len(\"Date:\"):].strip()\n",
    "        elif line.startswith(\"From:\"):\n",
    "            parsed_data[\"From\"] = line[len(\"From:\"):].strip()\n",
    "        elif line.startswith(\"To:\"):\n",
    "            parsed_data[\"To\"] = line[len(\"To:\"):].strip()\n",
    "        elif line.startswith(\"Subject:\"):\n",
    "            parsed_data[\"Subject\"] = line[len(\"Subject:\"):].strip()\n",
    "        # Add more conditions as needed for other fields\n",
    "    \n",
    "    return parsed_data\n"
   ]
  },
  {
   "cell_type": "code",
   "execution_count": null,
   "id": "eebfe37e",
   "metadata": {},
   "outputs": [],
   "source": [
    "def show_first_10_messages(df):\n",
    "    # Assuming 'df' is your DataFrame and it has a column named 'message'\n",
    "    # This will show the first 10 rows of the 'message' column\n",
    "    df.select(\"message\").show(10, truncate=False)\n",
    "\n",
    "# Call the function with your DataFrame\n",
    "show_first_10_messages(df)\n"
   ]
  },
  {
   "cell_type": "code",
   "execution_count": null,
   "id": "06bbb75f",
   "metadata": {},
   "outputs": [],
   "source": [
    "from pyspark.sql.functions import udf\n",
    "from pyspark.sql.types import StructType, StructField, StringType\n",
    "\n",
    "# Define your schema as before\n",
    "schema = StructType([\n",
    "    StructField(\"MessageID\", StringType(), True),\n",
    "    StructField(\"Date\", StringType(), True),\n",
    "    StructField(\"From\", StringType(), True),\n",
    "    StructField(\"To\", StringType(), True),\n",
    "    StructField(\"Subject\", StringType(), True),\n",
    "    # Add other fields as necessary\n",
    "])\n",
    "\n",
    "def parse_message(message):\n",
    "    # Initialize the dictionary with default empty strings\n",
    "    parsed_data = {\n",
    "        \"MessageID\": \"\",\n",
    "        \"Date\": \"\",\n",
    "        \"From\": \"\",\n",
    "        \"To\": \"\",\n",
    "        \"Subject\": \"\"\n",
    "    }\n",
    "    \n",
    "    # Proceed only if message is not None and is a string\n",
    "    if message and isinstance(message, str):\n",
    "        lines = message.split('\\n')\n",
    "        for line in lines:\n",
    "            if line.startswith(\"Message-ID:\"):\n",
    "                parsed_data[\"MessageID\"] = line.split(\":\", 1)[1].strip()\n",
    "            elif line.startswith(\"Date:\"):\n",
    "                parsed_data[\"Date\"] = line.split(\":\", 1)[1].strip()\n",
    "            elif line.startswith(\"From:\"):\n",
    "                parsed_data[\"From\"] = line.split(\":\", 1)[1].strip()\n",
    "            elif line.startswith(\"To:\"):\n",
    "                parsed_data[\"To\"] = line.split(\":\", 1)[1].strip()\n",
    "            elif line.startswith(\"Subject:\"):\n",
    "                parsed_data[\"Subject\"] = line.split(\":\", 1)[1].strip()\n",
    "            # Continue with other headers as needed\n",
    "    \n",
    "    return parsed_data\n",
    "\n",
    "# Register the UDF with the modified parse_message function\n",
    "parse_message_udf = udf(parse_message, schema)\n",
    "\n",
    "# Apply the UDF to your DataFrame as before\n",
    "df_parsed = df.withColumn(\"parsed_message\", parse_message_udf(df[\"message\"]))\n"
   ]
  },
  {
   "cell_type": "code",
   "execution_count": null,
   "id": "980d972a",
   "metadata": {},
   "outputs": [],
   "source": [
    "def show_specific_message(df, index):\n",
    "    \"\"\"\n",
    "    Displays a specific message from the DataFrame based on the provided index.\n",
    "\n",
    "    Parameters:\n",
    "    - df: The Spark DataFrame containing the messages.\n",
    "    - index: The index (row number) of the message to display.\n",
    "    \"\"\"\n",
    "    # Ensure the DataFrame has a column named 'message'\n",
    "    if 'message' in df.columns:\n",
    "        # Collect the row of interest into a list\n",
    "        message_row = df.select(\"message\").collect()[index]\n",
    "        \n",
    "        # Extract the message from the row and print it\n",
    "        message_content = message_row[\"message\"]\n",
    "        print(f\"Message at index {index}:\\n{message_content}\")\n",
    "    else:\n",
    "        print(\"The DataFrame does not contain a column named 'message'.\")\n",
    "\n",
    "# Example usage:\n",
    "# Assuming 'df' is your DataFrame and you want to see the first message\n",
    "show_specific_message(df, 0)\n"
   ]
  },
  {
   "cell_type": "code",
   "execution_count": null,
   "id": "8716c780",
   "metadata": {},
   "outputs": [],
   "source": []
  },
  {
   "cell_type": "code",
   "execution_count": null,
   "id": "7c16c620",
   "metadata": {},
   "outputs": [],
   "source": []
  },
  {
   "cell_type": "code",
   "execution_count": null,
   "id": "3bedf085",
   "metadata": {},
   "outputs": [],
   "source": []
  },
  {
   "cell_type": "code",
   "execution_count": null,
   "id": "8d65146c",
   "metadata": {},
   "outputs": [],
   "source": []
  },
  {
   "cell_type": "code",
   "execution_count": null,
   "id": "3ca78655",
   "metadata": {},
   "outputs": [],
   "source": [
    "!pip install scikit-learn"
   ]
  },
  {
   "cell_type": "code",
   "execution_count": null,
   "id": "b84ad166",
   "metadata": {
    "scrolled": true
   },
   "outputs": [],
   "source": [
    "import pandas as pd\n",
    "import csv\n",
    "import re\n",
    "\n",
    "# Load the dataset with the correct parameters for handling potential parsing issues\n",
    "df_emails = pd.read_csv('emails.csv', quoting=csv.QUOTE_NONE, on_bad_lines='skip', escapechar=\"\\\\\")\n",
    "\n",
    "# Removing quotes from column names if they exist\n",
    "df_emails.columns = df_emails.columns.str.replace('\"', '')\n",
    "\n",
    "# Handling Missing Values\n",
    "df_emails.fillna('', inplace=True)\n",
    "\n",
    "# Text Preprocessing Function\n",
    "def preprocess_text(text):\n",
    "    # Convert text to lowercase\n",
    "    text = text.lower()\n",
    "    # Remove email headers or unnecessary metadata (for demonstration, might need customization)\n",
    "    text = re.sub(r'^[a-z]+:.*$', '', text)  # Remove lines that start with metadata-like patterns\n",
    "    text = re.sub(r'\\s+', ' ', text)  # Replace multiple whitespace with single space\n",
    "    # Remove special characters (customize based on the dataset and needs)\n",
    "    text = re.sub(r'[^a-z0-9\\s]', '', text)\n",
    "    return text.strip()\n",
    "\n",
    "# Apply text preprocessing to the 'message' column\n",
    "df_emails['message'] = df_emails['message'].apply(preprocess_text)\n",
    "\n",
    "# Display the first few rows of the cleaned dataframe\n",
    "df_emails.head(15)\n"
   ]
  },
  {
   "cell_type": "code",
   "execution_count": null,
   "id": "623e3c69",
   "metadata": {},
   "outputs": [],
   "source": [
    "import pandas as pd\n",
    "\n",
    "# Mock example of a structured dataframe\n",
    "data = {\n",
    "    'body': ['This is the first email content.', 'Here is another email, potentially suspicious.', 'This email is safe and informative.']\n",
    "}\n",
    "emails_structured_df = pd.DataFrame(data)\n",
    "\n",
    "# Assuming the vectorization function from the previous message, apply it here:\n",
    "from sklearn.feature_extraction.text import TfidfVectorizer\n",
    "\n",
    "def vectorize_texts(texts):\n",
    "    vectorizer = TfidfVectorizer(\n",
    "        lowercase=True,\n",
    "        stop_words='english',\n",
    "        max_features=10000,\n",
    "        min_df=1,\n",
    "        max_df=0.9\n",
    "    )\n",
    "    X = vectorizer.fit_transform(texts)\n",
    "    return X, vectorizer\n",
    "\n",
    "# Apply vectorization to the 'body' column of emails_structured_df\n",
    "texts = emails_structured_df['body'].tolist()\n",
    "X, vectorizer = vectorize_texts(texts)\n",
    "\n",
    "print(\"Vectorization Complete. Shape of X:\", X.shape)\n"
   ]
  },
  {
   "cell_type": "code",
   "execution_count": null,
   "id": "6f8d886b",
   "metadata": {},
   "outputs": [],
   "source": [
    "from sklearn.model_selection import train_test_split\n",
    "from sklearn.metrics import accuracy_score, precision_score, recall_score, f1_score\n",
    "from sklearn.naive_bayes import MultinomialNB\n",
    "\n",
    "def evaluate_model(X, y):\n",
    "    \"\"\"\n",
    "    Splits the data into training and testing sets, trains a model, and evaluates its performance.\n",
    "    \n",
    "    Parameters:\n",
    "    X (sparse matrix): The feature matrix obtained from vectorizing the text data.\n",
    "    y (array-like): The target labels indicating the class of each document.\n",
    "    \n",
    "    Returns:\n",
    "    A dictionary containing the model's performance metrics: accuracy, precision, recall, and F1 score.\n",
    "    \"\"\"\n",
    "    \n",
    "    # Split the data into training and testing sets\n",
    "    X_train, X_test, y_train, y_test = train_test_split(X, y, test_size=0.3, random_state=42)\n",
    "    \n",
    "    # Initialize and train the model\n",
    "    model = MultinomialNB()\n",
    "    model.fit(X_train, y_train)\n",
    "    \n",
    "    # Make predictions on the testing set\n",
    "    y_pred = model.predict(X_test)\n",
    "    \n",
    "    # Calculate performance metrics\n",
    "    metrics = {\n",
    "        'accuracy': accuracy_score(y_test, y_pred),\n",
    "        'precision': precision_score(y_test, y_pred, average='weighted'),\n",
    "        'recall': recall_score(y_test, y_pred, average='weighted'),\n",
    "        'f1_score': f1_score(y_test, y_pred, average='weighted')\n",
    "    }\n",
    "    \n",
    "    return metrics\n",
    "\n",
    "# Example usage\n",
    "# Assume y is your array of labels for the dataset, with 1 indicating suspicious and 0 indicating not suspicious\n",
    "# y = [1, 0, 1, ...]  # This should be the actual labels for your dataset\n",
    "# metrics = evaluate_model(X, y)\n",
    "# print(metrics)\n"
   ]
  },
  {
   "cell_type": "code",
   "execution_count": null,
   "id": "44c47354",
   "metadata": {},
   "outputs": [],
   "source": [
    "from tensorflow.keras.models import Sequential\n",
    "from tensorflow.keras.layers import Dense\n",
    "\n",
    "def create_model(input_dim):\n",
    "    # Create a Sequential model\n",
    "    model = Sequential()\n",
    "    # Add layers to the model\n",
    "    model.add(Dense(128, activation='relu', input_dim=input_dim))\n",
    "    model.add(Dense(64, activation='relu'))\n",
    "    model.add(Dense(1, activation='sigmoid')) # Use 'sigmoid' for binary classification\n",
    "    \n",
    "    # Compile the model\n",
    "    model.compile(optimizer='adam',\n",
    "                  loss='binary_crossentropy',\n",
    "                  metrics=['accuracy', 'Precision', 'Recall'])\n",
    "    return model\n"
   ]
  },
  {
   "cell_type": "code",
   "execution_count": null,
   "id": "116f3743",
   "metadata": {},
   "outputs": [],
   "source": [
    "import numpy as np\n",
    "from sklearn.model_selection import train_test_split\n",
    "from tensorflow.keras.models import Sequential\n",
    "from tensorflow.keras.layers import Dense\n",
    "\n",
    "# Mock data for demonstration purposes\n",
    "# Replace these with your actual vectorized data (X) and labels (y)\n",
    "X = np.random.rand(100, 20)  # Example feature matrix with 100 samples and 20 features\n",
    "y = np.random.randint(2, size=100)  # Example binary labels\n",
    "\n",
    "# Split the data into training and testing sets\n",
    "X_train, X_test, y_train, y_test = train_test_split(X, y, test_size=0.2, random_state=42)\n"
   ]
  },
  {
   "cell_type": "code",
   "execution_count": null,
   "id": "6f669ebf",
   "metadata": {},
   "outputs": [],
   "source": [
    "def create_model(input_dim):\n",
    "    model = Sequential()\n",
    "    model.add(Dense(128, activation='relu', input_dim=input_dim))\n",
    "    model.add(Dense(64, activation='relu'))\n",
    "    model.add(Dense(1, activation='sigmoid'))  # Sigmoid activation for binary classification\n",
    "    model.compile(optimizer='adam',\n",
    "                  loss='binary_crossentropy',  # Use binary_crossentropy for binary classification\n",
    "                  metrics=['accuracy', 'Precision', 'Recall'])\n",
    "    return model\n"
   ]
  },
  {
   "cell_type": "code",
   "execution_count": null,
   "id": "dac73272",
   "metadata": {},
   "outputs": [],
   "source": [
    "# Now that X_train is defined, we can proceed to use it\n",
    "input_dim = X_train.shape[1]  # Number of features from the vectorized data\n",
    "model = create_model(input_dim)\n",
    "\n",
    "# Train the model\n",
    "history = model.fit(X_train, y_train, epochs=100, batch_size=32, validation_data=(X_test, y_test))\n"
   ]
  },
  {
   "cell_type": "code",
   "execution_count": null,
   "id": "c1d9cb5f",
   "metadata": {},
   "outputs": [],
   "source": [
    "# Example new data\n",
    "new_data = [\"This is a new email conversation.\", \"Another suspicious email detected!\", \"Normal conversation.\"]\n",
    "\n",
    "# Preprocess and vectorize new data\n",
    "new_data_processed = [preprocess_text(text) for text in new_data]  # Using the same preprocess_text function from before\n",
    "new_data_vectorized = vectorizer.transform(new_data_processed)  # Use the same vectorizer fitted on the training data\n"
   ]
  },
  {
   "cell_type": "code",
   "execution_count": null,
   "id": "440bf171",
   "metadata": {},
   "outputs": [],
   "source": [
    "def prepare_and_predict(new_data, vectorizer, model):\n",
    "    # Preprocess new data\n",
    "    new_data_processed = [preprocess_text(text) for text in new_data]\n",
    "    \n",
    "    # Vectorize new data using the same vectorizer instance used for training\n",
    "    new_data_vectorized = vectorizer.transform(new_data_processed)\n",
    "    \n",
    "    # IMPORTANT: Artificially ensure the shape matches the expected input of the model\n",
    "    # This step is hypothetical and serves to illustrate the concept\n",
    "    # In practice, ensure your data vectorization matches the training phase accurately\n",
    "    if new_data_vectorized.shape[1] < 20:\n",
    "        # Assuming the missing features can be set to 0 (this is a strong assumption and may not be valid)\n",
    "        additional_zeros = np.zeros((new_data_vectorized.shape[0], 20 - new_data_vectorized.shape[1]))\n",
    "        new_data_vectorized = np.hstack((new_data_vectorized.toarray(), additional_zeros))\n",
    "    \n",
    "    predictions = model.predict(new_data_vectorized)\n",
    "    predicted_probabilities = predictions.flatten()\n",
    "    return predicted_probabilities\n",
    "\n",
    "# Example usage\n",
    "new_data = [\"This is a new email conversation.\", \"Another suspicious email detected!\", \"Normal conversation.\"]\n",
    "predicted_probabilities = prepare_and_predict(new_data, vectorizer, model)\n",
    "print(predicted_probabilities)\n"
   ]
  },
  {
   "cell_type": "code",
   "execution_count": null,
   "id": "0dfe21f1",
   "metadata": {},
   "outputs": [],
   "source": [
    "import matplotlib.pyplot as plt\n",
    "\n",
    "def visualize_predictions(emails, probabilities):\n",
    "    \"\"\"\n",
    "    Visualizes the predicted probabilities of emails being suspicious or fraudulent.\n",
    "\n",
    "    Parameters:\n",
    "    - emails: A list of email texts or subjects being analyzed.\n",
    "    - probabilities: A list of probabilities corresponding to the likelihood of each email being suspicious.\n",
    "    \"\"\"\n",
    "    # Ensure the lists have the same length\n",
    "    assert len(emails) == len(probabilities), \"Emails and probabilities lists must have the same length.\"\n",
    "\n",
    "    # Creating the bar plot\n",
    "    plt.figure(figsize=(10, 6))\n",
    "    plt.barh(emails, probabilities, color='skyblue')\n",
    "    plt.xlabel('Probability of Being Suspicious')\n",
    "    plt.title('Predicted Probabilities of Emails Being Suspicious or Fraudulent')\n",
    "    for index, value in enumerate(probabilities):\n",
    "        plt.text(value, index, f\"{value:.2f}\")\n",
    "    plt.xlim(0, 1)  # Assuming probabilities range from 0 to 1\n",
    "    plt.show()\n",
    "\n",
    "# Example usage:\n",
    "emails = [\"New email conversation\", \"Suspicious email detected\", \"Normal conversation\"]\n",
    "probabilities = [0.34725702, 0.08264993, 0.34725702]\n",
    "visualize_predictions(emails, probabilities)\n"
   ]
  },
  {
   "cell_type": "code",
   "execution_count": null,
   "id": "9ebf7592",
   "metadata": {},
   "outputs": [],
   "source": [
    "def visualize_fraud_predictions(email_texts, predictions):\n",
    "    \"\"\"\n",
    "    Visualize the emails with their predicted fraud probabilities.\n",
    "\n",
    "    Parameters:\n",
    "    - email_texts: List of email text content.\n",
    "    - predictions: List of predicted probabilities corresponding to the fraud likelihood of each email.\n",
    "\n",
    "    The function doesn't return anything but prints each email with its fraud prediction.\n",
    "    \"\"\"\n",
    "    for email, probability in zip(email_texts, predictions):\n",
    "        print(\"Email Content:\\n\", email)\n",
    "        print(\"Fraud Likelihood: {:.2%}\".format(probability))\n",
    "        print(\"-\" * 100)\n",
    "\n",
    "# Example usage\n",
    "email_texts = [\n",
    "    \"This is a new email conversation.\",\n",
    "    \"Another suspicious email detected!\",\n",
    "    \"Normal conversation.\"\n",
    "]\n",
    "predicted_probabilities = [0.34725702, 0.08264993, 0.34725702]\n",
    "\n",
    "visualize_fraud_predictions(email_texts, predicted_probabilities)\n"
   ]
  },
  {
   "cell_type": "code",
   "execution_count": null,
   "id": "d69a3b36",
   "metadata": {},
   "outputs": [],
   "source": []
  },
  {
   "cell_type": "code",
   "execution_count": null,
   "id": "633f68a1",
   "metadata": {},
   "outputs": [],
   "source": []
  },
  {
   "cell_type": "code",
   "execution_count": null,
   "id": "2dc7552f",
   "metadata": {},
   "outputs": [],
   "source": []
  },
  {
   "cell_type": "code",
   "execution_count": null,
   "id": "3788bcaa",
   "metadata": {},
   "outputs": [],
   "source": []
  },
  {
   "cell_type": "code",
   "execution_count": null,
   "id": "543e6de7",
   "metadata": {},
   "outputs": [],
   "source": [
    "def filter_emails_by_similarity_and_likelihood(emails, similarity_threshold=0.5, likelihood_threshold=8.0):\n",
    "    \"\"\"\n",
    "    Filters emails based on content similarity to a given phrase and a likelihood threshold.\n",
    "    \n",
    "    Parameters:\n",
    "    - emails: List of dictionaries, where each dictionary contains 'content' and 'likelihood' keys.\n",
    "    - similarity_threshold: A threshold for determining content similarity (not used in this simple example).\n",
    "    - likelihood_threshold: The minimum likelihood score for an email to be considered suspicious.\n",
    "    \n",
    "    Returns:\n",
    "    - A list of emails considered suspicious based on the likelihood threshold.\n",
    "    \"\"\"\n",
    "    suspicious_phrase = \"Another suspicious email detected!\"\n",
    "    filtered_emails = [email for email in emails if suspicious_phrase in email['content'] and email['likelihood'] >= likelihood_threshold]\n",
    "    return filtered_emails\n",
    "\n",
    "# Example usage:\n",
    "emails = [\n",
    "    {'content': \"This is a normal email content.\", 'likelihood': 2.0},\n",
    "    {'content': \"Another suspicious email detected! Please check it out.\", 'likelihood': 8.26},\n",
    "    {'content': \"Another suspicious email detected! This seems like a scam.\", 'likelihood': 9.5},\n",
    "    {'content': \"This is another normal conversation.\", 'likelihood': 3.2}\n",
    "]\n",
    "\n",
    "# Filtering emails:\n",
    "suspicious_emails = filter_emails_by_similarity_and_likelihood(emails, likelihood_threshold=8.0)\n",
    "\n",
    "# Displaying the filtered, suspicious emails:\n",
    "for email in suspicious_emails:\n",
    "    print(f\"Email Content: {email['content']}\")\n",
    "    print(f\"Fraud Likelihood: {email['likelihood']}%\")\n",
    "    print(\"-\"*80)\n"
   ]
  },
  {
   "cell_type": "code",
   "execution_count": null,
   "id": "6a94d1e6",
   "metadata": {},
   "outputs": [],
   "source": []
  },
  {
   "cell_type": "code",
   "execution_count": null,
   "id": "742838a8",
   "metadata": {},
   "outputs": [],
   "source": [
    "import pandas as pd\n",
    "\n",
    "def filter_emails_by_keywords(filename, keywords):\n",
    "    # Load the dataset\n",
    "    df_emails = pd.read_csv(filename, usecols=['message'])\n",
    "    # Convert the keywords to lowercase\n",
    "    keywords = [keyword.lower() for keyword in keywords]\n",
    "    # Filter the emails\n",
    "    filtered_emails = df_emails[df_emails['message'].str.lower().apply(lambda x: any(keyword in x for keyword in keywords))]\n",
    "    return filtered_emails\n",
    "\n",
    "# Example usage\n",
    "filename = 'emails.csv'\n",
    "keywords = ['dinheiro']\n",
    "filtered_emails = filter_emails_by_keywords(filename, keywords)\n",
    "\n",
    "# Safely attempt to sample from the filtered DataFrame\n",
    "if len(filtered_emails) >= 100:\n",
    "    print(filtered_emails.sample(100))\n",
    "elif len(filtered_emails) > 0:\n",
    "    print(filtered_emails.sample(len(filtered_emails)))  # Sample whatever number of rows are available\n",
    "else:\n",
    "    print(\"No emails match the specified keywords.\")\n"
   ]
  },
  {
   "cell_type": "code",
   "execution_count": null,
   "id": "dd92e1ef",
   "metadata": {},
   "outputs": [],
   "source": [
    "import pandas as pd\n",
    "\n",
    "# Load your dataset\n",
    "df_emails = pd.read_csv('emails.csv')\n",
    "\n",
    "# List of row indices you want to view, adjust these indices according to your needs\n",
    "indices = [454084, 437156, 440097]  # Replace these with the indices you're interested in\n",
    "\n",
    "# Iterate through the list of indices and print each corresponding message\n",
    "for index in indices:\n",
    "    print(f\"Message at index {index}:\")\n",
    "    print(df_emails.loc[index, 'message'])\n",
    "    print(\"-\" * 100)  # Print a separator for readability\n"
   ]
  },
  {
   "cell_type": "code",
   "execution_count": null,
   "id": "7d73ec5e",
   "metadata": {},
   "outputs": [],
   "source": []
  },
  {
   "cell_type": "code",
   "execution_count": null,
   "id": "55fd9ec3",
   "metadata": {},
   "outputs": [],
   "source": []
  },
  {
   "cell_type": "code",
   "execution_count": null,
   "id": "8f113b14",
   "metadata": {},
   "outputs": [],
   "source": []
  },
  {
   "cell_type": "code",
   "execution_count": null,
   "id": "5aa12248",
   "metadata": {},
   "outputs": [],
   "source": []
  },
  {
   "cell_type": "code",
   "execution_count": null,
   "id": "a74514c6",
   "metadata": {},
   "outputs": [],
   "source": []
  },
  {
   "cell_type": "code",
   "execution_count": null,
   "id": "f2d3967e",
   "metadata": {},
   "outputs": [],
   "source": []
  },
  {
   "cell_type": "code",
   "execution_count": null,
   "id": "f6a04849",
   "metadata": {},
   "outputs": [],
   "source": []
  },
  {
   "cell_type": "code",
   "execution_count": null,
   "id": "7809df2c",
   "metadata": {},
   "outputs": [],
   "source": []
  },
  {
   "cell_type": "code",
   "execution_count": null,
   "id": "3f426539",
   "metadata": {},
   "outputs": [],
   "source": []
  },
  {
   "cell_type": "code",
   "execution_count": null,
   "id": "3629aa20",
   "metadata": {},
   "outputs": [],
   "source": []
  },
  {
   "cell_type": "code",
   "execution_count": null,
   "id": "d496ca8d",
   "metadata": {},
   "outputs": [],
   "source": []
  },
  {
   "cell_type": "code",
   "execution_count": null,
   "id": "19cc31de",
   "metadata": {},
   "outputs": [],
   "source": []
  },
  {
   "cell_type": "code",
   "execution_count": null,
   "id": "26079f17",
   "metadata": {},
   "outputs": [],
   "source": []
  },
  {
   "cell_type": "code",
   "execution_count": null,
   "id": "0f5844a3",
   "metadata": {},
   "outputs": [],
   "source": []
  },
  {
   "cell_type": "code",
   "execution_count": null,
   "id": "44ca387c",
   "metadata": {},
   "outputs": [],
   "source": []
  },
  {
   "cell_type": "code",
   "execution_count": null,
   "id": "dde65d64",
   "metadata": {},
   "outputs": [],
   "source": []
  },
  {
   "cell_type": "code",
   "execution_count": null,
   "id": "169719d4",
   "metadata": {},
   "outputs": [],
   "source": []
  },
  {
   "cell_type": "code",
   "execution_count": null,
   "id": "85238ebf",
   "metadata": {},
   "outputs": [],
   "source": []
  },
  {
   "cell_type": "code",
   "execution_count": null,
   "id": "15df98e7",
   "metadata": {},
   "outputs": [],
   "source": []
  }
 ],
 "metadata": {
  "kernelspec": {
   "display_name": "Python 3 (ipykernel)",
   "language": "python",
   "name": "python3"
  },
  "language_info": {
   "codemirror_mode": {
    "name": "ipython",
    "version": 3
   },
   "file_extension": ".py",
   "mimetype": "text/x-python",
   "name": "python",
   "nbconvert_exporter": "python",
   "pygments_lexer": "ipython3",
   "version": "3.10.12"
  }
 },
 "nbformat": 4,
 "nbformat_minor": 5
}
