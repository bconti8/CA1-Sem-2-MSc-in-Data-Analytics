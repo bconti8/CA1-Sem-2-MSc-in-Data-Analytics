{
 "cells": [
  {
   "cell_type": "markdown",
   "id": "342b25f5",
   "metadata": {},
   "source": [
    "# E-Discovery with Neural Network\n",
    "## BigData Processing\n",
    "### Hadoop / PySpark "
   ]
  },
  {
   "cell_type": "code",
   "execution_count": 1,
   "id": "e91b9a16",
   "metadata": {},
   "outputs": [],
   "source": [
    "# Commands to be include in the Linux Terminal in order to start Hadoop and PySpark\n",
    "\n",
    "#start-dfs.sh\n",
    "#start-yarn.sh\n",
    "#pyspark"
   ]
  },
  {
   "cell_type": "markdown",
   "id": "fa906bd1",
   "metadata": {},
   "source": [
    "### PySpark reading a file form a CSV"
   ]
  },
  {
   "cell_type": "code",
   "execution_count": 2,
   "id": "e35c80bc",
   "metadata": {},
   "outputs": [],
   "source": [
    "# Initiating required modules\n",
    "from pyspark.sql import SparkSession  # Essential for Spark operations\n",
    "from pyspark.sql.functions import udf  # User Defined Functions\n",
    "from pyspark.sql.types import StringType  # Data type for string operations\n",
    "import re  # Regular expressions library\n",
    "\n",
    "# Handling warnings\n",
    "import warnings  # Importing warnings library\n",
    "warnings.filterwarnings(\"ignore\")  # Suppress all warnings\n"
   ]
  },
  {
   "cell_type": "code",
   "execution_count": 3,
   "id": "eb90175a",
   "metadata": {},
   "outputs": [
    {
     "name": "stderr",
     "output_type": "stream",
     "text": [
      "24/03/25 00:25:08 WARN SparkSession: Using an existing Spark session; only runtime SQL configurations will take effect.\n",
      "                                                                                \r"
     ]
    }
   ],
   "source": [
    "# Setting up the Spark Session\n",
    "spark = SparkSession.builder.appName(\"EmailDataPrep\").getOrCreate()\n",
    "\n",
    "# Reading the data\n",
    "df = spark.read.csv(\"hdfs:///user1/data_batch_00\", header=True, inferSchema=True)\n"
   ]
  },
  {
   "cell_type": "code",
   "execution_count": 4,
   "id": "3129bb59",
   "metadata": {},
   "outputs": [],
   "source": [
    "### Exploratory Data Analysis (EDA) / Data Inspection"
   ]
  },
  {
   "cell_type": "code",
   "execution_count": 5,
   "id": "17c7b6b5",
   "metadata": {},
   "outputs": [
    {
     "name": "stdout",
     "output_type": "stream",
     "text": [
      "+--------------------+--------------------+\n",
      "|                file|             message|\n",
      "+--------------------+--------------------+\n",
      "|allen-p/_sent_mai...|Message-ID: <1878...|\n",
      "|           Date: Mon| 14 May 2001 16:3...|\n",
      "|From: phillip.all...|                null|\n",
      "|To: tim.belden@en...|                null|\n",
      "|           Subject: |                null|\n",
      "|   Mime-Version: 1.0|                null|\n",
      "|Content-Type: tex...|                null|\n",
      "|Content-Transfer-...|                null|\n",
      "|X-From: Phillip K...|                null|\n",
      "|X-To: Tim Belden ...|                null|\n",
      "+--------------------+--------------------+\n",
      "only showing top 10 rows\n",
      "\n",
      "root\n",
      " |-- file: string (nullable = true)\n",
      " |-- message: string (nullable = true)\n",
      "\n"
     ]
    }
   ],
   "source": [
    "# Preview the initial rows of the DataFrame\n",
    "df.show(n=10)\n",
    "\n",
    "# Output the structure and data types of the DataFrame\n",
    "df.printSchema()\n"
   ]
  },
  {
   "cell_type": "code",
   "execution_count": 6,
   "id": "f6c4d9ad",
   "metadata": {},
   "outputs": [
    {
     "name": "stderr",
     "output_type": "stream",
     "text": [
      "[Stage 3:=============================>                             (1 + 1) / 2]\r"
     ]
    },
    {
     "name": "stdout",
     "output_type": "stream",
     "text": [
      "+-------+--------------------+--------+\n",
      "|summary|                file| message|\n",
      "+-------+--------------------+--------+\n",
      "|  count|             2648165|  773905|\n",
      "|   mean|                 NaN|Infinity|\n",
      "| stddev|                 NaN|     NaN|\n",
      "|    min|                  \\t|      \\t|\n",
      "|    max|~~~~~~~~~~~~~~~~~...|       ||\n",
      "+-------+--------------------+--------+\n",
      "\n"
     ]
    },
    {
     "name": "stderr",
     "output_type": "stream",
     "text": [
      "\r",
      "                                                                                \r"
     ]
    }
   ],
   "source": [
    "# Obtain and display descriptive statistics for columns with numerical data\n",
    "df.describe().show()\n"
   ]
  },
  {
   "cell_type": "markdown",
   "id": "e2150167",
   "metadata": {},
   "source": [
    "### Data Cleaning / Text Preprocessing"
   ]
  },
  {
   "cell_type": "code",
   "execution_count": 7,
   "id": "98648c75",
   "metadata": {},
   "outputs": [
    {
     "name": "stdout",
     "output_type": "stream",
     "text": [
      "+----------------------------------------------+-------------------------------------------------+\n",
      "|file                                          |message                                          |\n",
      "+----------------------------------------------+-------------------------------------------------+\n",
      "|allen-p/_sent_mail/1.                         |messageid 187829811075855378110javamailevansthyme|\n",
      "|Date: Mon                                     |14 may 2001 163900 0700 pdt                      |\n",
      "|From: phillip.allen@enron.com                 |                                                 |\n",
      "|To: tim.belden@enron.com                      |                                                 |\n",
      "|Subject:                                      |                                                 |\n",
      "|Mime-Version: 1.0                             |                                                 |\n",
      "|Content-Type: text/plain; charset=us-ascii    |                                                 |\n",
      "|Content-Transfer-Encoding: 7bit               |                                                 |\n",
      "|X-From: Phillip K Allen                       |                                                 |\n",
      "|X-To: Tim Belden <Tim Belden/Enron@EnronXGate>|                                                 |\n",
      "|X-cc:                                         |                                                 |\n",
      "|X-bcc:                                        |                                                 |\n",
      "|X-Folder: \\Phillip_Allen_Jan2002_1\\Allen      |phillip ksent mail                               |\n",
      "|X-Origin: Allen-P                             |                                                 |\n",
      "|X-FileName: pallen (Non-Privileged).pst       |                                                 |\n",
      "|Here is our forecast                          |                                                 |\n",
      "| \"                                            |                                                 |\n",
      "|allen-p/_sent_mail/10.                        |messageid 154649861075855378456javamailevansthyme|\n",
      "|Date: Fri                                     |4 may 2001 135100 0700 pdt                       |\n",
      "|From: phillip.allen@enron.com                 |                                                 |\n",
      "+----------------------------------------------+-------------------------------------------------+\n",
      "only showing top 20 rows\n",
      "\n"
     ]
    },
    {
     "name": "stderr",
     "output_type": "stream",
     "text": [
      "\r",
      "[Stage 6:>                                                          (0 + 1) / 1]\r",
      "\r",
      "                                                                                \r"
     ]
    }
   ],
   "source": [
    "# Addressing Missing Information\n",
    "# Replace any missing values in the dataset with an empty string.\n",
    "df = df.fillna('')\n",
    "\n",
    "# Defining a Function for Text Cleanup\n",
    "def clean_text(text):\n",
    "    # Return an empty string if the input text is missing.\n",
    "    if text is None:\n",
    "        return ''\n",
    "    # Change all characters in the text to lowercase for uniformity.\n",
    "    text = text.lower()\n",
    "    # Eliminate lines that resemble email headers or unneeded metadata.\n",
    "    text = re.sub(r'^[a-z]+:.*$', '', text)  # Finds and removes lines starting with certain patterns.\n",
    "    text = re.sub(r'\\s+', ' ', text)  # Collapses multiple spaces into a single space.\n",
    "    # Remove characters that are not letters, numbers, or spaces.\n",
    "    text = re.sub(r'[^a-z0-9\\s]', '', text)\n",
    "    # Trim leading or trailing spaces from the text.\n",
    "    return text.strip()\n",
    "\n",
    "# Making the Text Cleanup Function Available\n",
    "clean_text_udf = udf(clean_text, StringType())\n",
    "\n",
    "# Cleaning Text in the 'message' Column of the Dataset\n",
    "df = df.withColumn('message', clean_text_udf(df['message']))\n",
    "\n",
    "# Displaying the Processed Data for Review\n",
    "df.show(truncate=False)\n"
   ]
  },
  {
   "cell_type": "markdown",
   "id": "be62123d",
   "metadata": {},
   "source": [
    "### Feature Engineering and Vectorization"
   ]
  },
  {
   "cell_type": "code",
   "execution_count": 8,
   "id": "e9aebe68",
   "metadata": {},
   "outputs": [
    {
     "name": "stderr",
     "output_type": "stream",
     "text": [
      "                                                                                \r"
     ]
    },
    {
     "name": "stdout",
     "output_type": "stream",
     "text": [
      "+-------------------------------------------------+------------------------------------------------------------------------------------------------------------------+\n",
      "|message                                          |features                                                                                                          |\n",
      "+-------------------------------------------------+------------------------------------------------------------------------------------------------------------------+\n",
      "|messageid 187829811075855378110javamailevansthyme|(20,[12,14],[0.24635006473684198,3.4364679300759433])                                                             |\n",
      "|14 may 2001 163900 0700 pdt                      |(20,[0,1,5,12],[6.9287616242614884,6.099049147035107,3.3109247162144797,0.24635006473684198])                     |\n",
      "|                                                 |(20,[12],[0.24635006473684198])                                                                                   |\n",
      "|                                                 |(20,[12],[0.24635006473684198])                                                                                   |\n",
      "|                                                 |(20,[12],[0.24635006473684198])                                                                                   |\n",
      "|                                                 |(20,[12],[0.24635006473684198])                                                                                   |\n",
      "|                                                 |(20,[12],[0.24635006473684198])                                                                                   |\n",
      "|                                                 |(20,[12],[0.24635006473684198])                                                                                   |\n",
      "|                                                 |(20,[12],[0.24635006473684198])                                                                                   |\n",
      "|                                                 |(20,[12],[0.24635006473684198])                                                                                   |\n",
      "|                                                 |(20,[12],[0.24635006473684198])                                                                                   |\n",
      "|                                                 |(20,[12],[0.24635006473684198])                                                                                   |\n",
      "|phillip ksent mail                               |(20,[0,15,19],[3.4643808121307442,3.1720721795912032,3.5088704016684273])                                         |\n",
      "|                                                 |(20,[12],[0.24635006473684198])                                                                                   |\n",
      "|                                                 |(20,[12],[0.24635006473684198])                                                                                   |\n",
      "|                                                 |(20,[12],[0.24635006473684198])                                                                                   |\n",
      "|                                                 |(20,[12],[0.24635006473684198])                                                                                   |\n",
      "|messageid 154649861075855378456javamailevansthyme|(20,[9,12],[3.5455729469520203,0.24635006473684198])                                                              |\n",
      "|4 may 2001 135100 0700 pdt                       |(20,[0,1,5,10,12],[3.4643808121307442,6.099049147035107,3.3109247162144797,3.415392530080526,0.24635006473684198])|\n",
      "|                                                 |(20,[12],[0.24635006473684198])                                                                                   |\n",
      "+-------------------------------------------------+------------------------------------------------------------------------------------------------------------------+\n",
      "only showing top 20 rows\n",
      "\n"
     ]
    }
   ],
   "source": [
    "from pyspark.ml.feature import Tokenizer, StopWordsRemover, HashingTF, IDF\n",
    "from pyspark.ml import Pipeline\n",
    "\n",
    "def add_text_features(dataframe):\n",
    "    \"\"\"\n",
    "    Enhances a DataFrame by analyzing text in the 'message' column and adding a 'features' column.\n",
    "    This 'features' column represents text as numerical data useful for machine learning.\n",
    "    \n",
    "    Parameter:\n",
    "    - dataframe: A DataFrame that includes a 'message' column with text.\n",
    "    \n",
    "    Output:\n",
    "    - A DataFrame that now includes a 'features' column with text analyzed into TF-IDF vectors.\n",
    "    \"\"\"\n",
    "    # First, break text into individual words.\n",
    "    tokenizer = Tokenizer(inputCol=\"message\", outputCol=\"words\")\n",
    "    \n",
    "    # Second, filter out common, less meaningful words (like 'the', 'a').\n",
    "    remover = StopWordsRemover(inputCol=\"words\", outputCol=\"filtered_words\")\n",
    "    \n",
    "    # Third, count how frequently each word appears and represent this as numerical data.\n",
    "    hashingTF = HashingTF(inputCol=\"filtered_words\", outputCol=\"raw_features\", numFeatures=20)\n",
    "    \n",
    "    # Fourth, assess the importance of a word based on how frequently it appears across all messages.\n",
    "    idf = IDF(inputCol=\"raw_features\", outputCol=\"features\")\n",
    "    \n",
    "    # Chain these steps into a process to be applied.\n",
    "    pipeline = Pipeline(stages=[tokenizer, remover, hashingTF, idf])\n",
    "    \n",
    "    # Execute the process on the provided data.\n",
    "    model = pipeline.fit(dataframe)\n",
    "    \n",
    "    # Apply the transformations to the DataFrame.\n",
    "    result = model.transform(dataframe)\n",
    "    \n",
    "    # The modified DataFrame is returned, now with a 'features' column.\n",
    "    return result\n",
    "\n",
    "# Example of applying this function to a DataFrame 'df' that contains a 'message' column.\n",
    "enhanced_df = add_text_features(df)\n",
    "\n",
    "# Display the original messages and their corresponding numerical representations.\n",
    "enhanced_df.select('message', 'features').show(truncate=False)\n"
   ]
  },
  {
   "cell_type": "markdown",
   "id": "9286f412",
   "metadata": {},
   "source": [
    "### Designing the Neural Network"
   ]
  },
  {
   "cell_type": "code",
   "execution_count": 9,
   "id": "1c134d6f",
   "metadata": {},
   "outputs": [
    {
     "name": "stderr",
     "output_type": "stream",
     "text": [
      "2024-03-25 00:26:04.971846: I external/local_tsl/tsl/cuda/cudart_stub.cc:31] Could not find cuda drivers on your machine, GPU will not be used.\n",
      "2024-03-25 00:26:05.246299: E external/local_xla/xla/stream_executor/cuda/cuda_dnn.cc:9261] Unable to register cuDNN factory: Attempting to register factory for plugin cuDNN when one has already been registered\n",
      "2024-03-25 00:26:05.246412: E external/local_xla/xla/stream_executor/cuda/cuda_fft.cc:607] Unable to register cuFFT factory: Attempting to register factory for plugin cuFFT when one has already been registered\n",
      "2024-03-25 00:26:05.301027: E external/local_xla/xla/stream_executor/cuda/cuda_blas.cc:1515] Unable to register cuBLAS factory: Attempting to register factory for plugin cuBLAS when one has already been registered\n",
      "2024-03-25 00:26:05.414995: I external/local_tsl/tsl/cuda/cudart_stub.cc:31] Could not find cuda drivers on your machine, GPU will not be used.\n",
      "2024-03-25 00:26:05.416870: I tensorflow/core/platform/cpu_feature_guard.cc:182] This TensorFlow binary is optimized to use available CPU instructions in performance-critical operations.\n",
      "To enable the following instructions: AVX2, in other operations, rebuild TensorFlow with the appropriate compiler flags.\n",
      "2024-03-25 00:26:07.460085: W tensorflow/compiler/tf2tensorrt/utils/py_utils.cc:38] TF-TRT Warning: Could not find TensorRT\n"
     ]
    },
    {
     "name": "stdout",
     "output_type": "stream",
     "text": [
      "Model: \"sequential\"\n",
      "_________________________________________________________________\n",
      " Layer (type)                Output Shape              Param #   \n",
      "=================================================================\n",
      " dense (Dense)               (None, 64)                1344      \n",
      "                                                                 \n",
      " dropout (Dropout)           (None, 64)                0         \n",
      "                                                                 \n",
      " dense_1 (Dense)             (None, 32)                2080      \n",
      "                                                                 \n",
      " dense_2 (Dense)             (None, 1)                 33        \n",
      "                                                                 \n",
      "=================================================================\n",
      "Total params: 3457 (13.50 KB)\n",
      "Trainable params: 3457 (13.50 KB)\n",
      "Non-trainable params: 0 (0.00 Byte)\n",
      "_________________________________________________________________\n"
     ]
    }
   ],
   "source": [
    "from keras.models import Sequential\n",
    "from keras.layers import Dense, Dropout\n",
    "from keras.optimizers import Adam\n",
    "\n",
    "# Set the number of input features, matching the TF-IDF vector size, which is 20 in this case.\n",
    "input_dim = 20  # Matches TF-IDF vector size.\n",
    "\n",
    "# Create a neural network model.\n",
    "model = Sequential()\n",
    "# Add a dense layer with 64 neurons, using ReLU activation function, suitable for the input layer.\n",
    "model.add(Dense(64, input_dim=input_dim, activation='relu'))  # Adds first hidden layer.\n",
    "# Include a dropout layer to reduce overfitting by randomly ignoring some neurons during training.\n",
    "model.add(Dropout(0.5))  # Helps in preventing overfitting.\n",
    "# Add another dense layer, this time with 32 neurons, also with ReLU activation function.\n",
    "model.add(Dense(32, activation='relu'))  # Adds second hidden layer.\n",
    "# Finalize with an output layer having a single neuron, using sigmoid activation function for binary classification.\n",
    "model.add(Dense(1, activation='sigmoid'))  # Adds output layer for binary classification.\n",
    "\n",
    "# Setting up the model with binary crossentropy loss function, Adam optimizer for efficient learning, and tracking accuracy.\n",
    "model.compile(loss='binary_crossentropy', optimizer=Adam(learning_rate=0.001), metrics=['accuracy'])\n",
    "\n",
    "# Display a summary to review the model's architecture, including layer types and number of parameters.\n",
    "model.summary()\n"
   ]
  },
  {
   "cell_type": "code",
   "execution_count": 10,
   "id": "47dbf65c",
   "metadata": {},
   "outputs": [],
   "source": [
    "# Design and Training - ANN Model"
   ]
  },
  {
   "cell_type": "code",
   "execution_count": 11,
   "id": "5e5c2fb9",
   "metadata": {
    "scrolled": true
   },
   "outputs": [
    {
     "name": "stdout",
     "output_type": "stream",
     "text": [
      "Epoch 1/10\n",
      "25/25 [==============================] - 1s 23ms/step - loss: 0.7074 - accuracy: 0.5013 - val_loss: 0.6975 - val_accuracy: 0.4900\n",
      "Epoch 2/10\n",
      "25/25 [==============================] - 0s 7ms/step - loss: 0.7000 - accuracy: 0.5050 - val_loss: 0.7017 - val_accuracy: 0.4600\n",
      "Epoch 3/10\n",
      "25/25 [==============================] - 0s 8ms/step - loss: 0.6938 - accuracy: 0.5250 - val_loss: 0.7037 - val_accuracy: 0.4650\n",
      "Epoch 4/10\n",
      "25/25 [==============================] - 0s 10ms/step - loss: 0.6871 - accuracy: 0.5375 - val_loss: 0.7050 - val_accuracy: 0.4650\n",
      "Epoch 5/10\n",
      "25/25 [==============================] - 0s 8ms/step - loss: 0.6880 - accuracy: 0.5500 - val_loss: 0.7108 - val_accuracy: 0.4200\n",
      "Epoch 6/10\n",
      "25/25 [==============================] - 0s 7ms/step - loss: 0.6856 - accuracy: 0.5500 - val_loss: 0.7093 - val_accuracy: 0.4400\n",
      "Epoch 7/10\n",
      "25/25 [==============================] - 0s 8ms/step - loss: 0.6860 - accuracy: 0.5512 - val_loss: 0.7149 - val_accuracy: 0.4300\n",
      "Epoch 8/10\n",
      "25/25 [==============================] - 0s 6ms/step - loss: 0.6877 - accuracy: 0.5387 - val_loss: 0.7154 - val_accuracy: 0.4100\n",
      "Epoch 9/10\n",
      "25/25 [==============================] - 0s 13ms/step - loss: 0.6833 - accuracy: 0.5462 - val_loss: 0.7145 - val_accuracy: 0.4100\n",
      "Epoch 10/10\n",
      "25/25 [==============================] - 0s 9ms/step - loss: 0.6840 - accuracy: 0.5600 - val_loss: 0.7167 - val_accuracy: 0.4000\n",
      "Training Completed.\n",
      "Model saved as model_saved.h5.\n"
     ]
    }
   ],
   "source": [
    "import numpy as np\n",
    "from sklearn.model_selection import train_test_split\n",
    "from keras.models import Sequential, save_model\n",
    "from keras.layers import Dense, Dropout\n",
    "from keras.optimizers import Adam\n",
    "\n",
    "def build_neural_network(input_features):\n",
    "    \"\"\"\n",
    "    Prepares a neural network model with a basic configuration.\n",
    "    \"\"\"\n",
    "    model = Sequential([\n",
    "        Dense(64, input_dim=input_features, activation='relu'),  # Layer with 64 neurons\n",
    "        Dropout(0.5),  # Helps reduce overfitting\n",
    "        Dense(32, activation='relu'),  # Another layer for deeper understanding\n",
    "        Dense(1, activation='sigmoid')  # Final layer for binary classification\n",
    "    ])\n",
    "    model.compile(optimizer=Adam(learning_rate=0.001),\n",
    "                  loss='binary_crossentropy', metrics=['accuracy'])\n",
    "    return model\n",
    "\n",
    "def train_and_evaluate_model(features, labels, input_feature_count, epochs=10, batch_size=32, validation_split=0.2):\n",
    "    \"\"\"\n",
    "    Trains the neural network and evaluates it on a validation set.\n",
    "    \"\"\"\n",
    "    # Splitting the dataset for training and validation\n",
    "    X_train, X_val, y_train, y_val = train_test_split(features, labels, test_size=validation_split, random_state=42)\n",
    "    \n",
    "    # Getting the model ready\n",
    "    model = build_neural_network(input_feature_count)\n",
    "    \n",
    "    # Training starts\n",
    "    history = model.fit(X_train, y_train, epochs=epochs, batch_size=batch_size,\n",
    "                        validation_data=(X_val, y_val), verbose=1)\n",
    "    \n",
    "    print(\"Training Completed.\")\n",
    "    \n",
    "    # Saving the model for later use\n",
    "    model.save(\"model_saved.h5\")\n",
    "    print(\"Model saved as model_saved.h5.\")\n",
    "    \n",
    "    return model, history\n",
    "\n",
    "# Sample data for testing\n",
    "demo_features = np.random.rand(1000, 20)  # Random features for 1000 samples\n",
    "demo_labels = np.random.randint(2, size=(1000, ))  # Random binary labels\n",
    "\n",
    "# Training the model with the demo data\n",
    "input_features = 20\n",
    "model, history = train_and_evaluate_model(demo_features, demo_labels, input_features)\n",
    "\n"
   ]
  },
  {
   "cell_type": "code",
   "execution_count": 24,
   "id": "32b41142",
   "metadata": {},
   "outputs": [
    {
     "name": "stdout",
     "output_type": "stream",
     "text": [
      "4/4 [==============================] - 0s 1ms/step\n",
      "[[0.5222649 ]\n",
      " [0.48793185]\n",
      " [0.59242105]\n",
      " [0.5677292 ]\n",
      " [0.44738236]\n",
      " [0.53219515]\n",
      " [0.608353  ]\n",
      " [0.5523491 ]\n",
      " [0.5050088 ]\n",
      " [0.55619997]\n",
      " [0.48314068]\n",
      " [0.47807273]\n",
      " [0.4988079 ]\n",
      " [0.39045498]\n",
      " [0.49380124]\n",
      " [0.53723353]\n",
      " [0.544633  ]\n",
      " [0.5857475 ]\n",
      " [0.51469785]\n",
      " [0.44569087]\n",
      " [0.41720706]\n",
      " [0.58551663]\n",
      " [0.55448085]\n",
      " [0.4868994 ]\n",
      " [0.5363467 ]\n",
      " [0.49372327]\n",
      " [0.5461453 ]\n",
      " [0.5274704 ]\n",
      " [0.5307675 ]\n",
      " [0.48310813]\n",
      " [0.49978566]\n",
      " [0.48093283]\n",
      " [0.46870962]\n",
      " [0.44529694]\n",
      " [0.45683783]\n",
      " [0.5003139 ]\n",
      " [0.44207197]\n",
      " [0.46674752]\n",
      " [0.4839505 ]\n",
      " [0.5050704 ]\n",
      " [0.53307766]\n",
      " [0.5167742 ]\n",
      " [0.54793715]\n",
      " [0.4761839 ]\n",
      " [0.4187648 ]\n",
      " [0.45370808]\n",
      " [0.438829  ]\n",
      " [0.46619377]\n",
      " [0.47846073]\n",
      " [0.53757185]\n",
      " [0.42602292]\n",
      " [0.44725013]\n",
      " [0.50455093]\n",
      " [0.5135777 ]\n",
      " [0.47086152]\n",
      " [0.61031413]\n",
      " [0.5507193 ]\n",
      " [0.4578838 ]\n",
      " [0.56053734]\n",
      " [0.5540934 ]\n",
      " [0.56648207]\n",
      " [0.44663766]\n",
      " [0.5438114 ]\n",
      " [0.47412613]\n",
      " [0.5779174 ]\n",
      " [0.5145041 ]\n",
      " [0.45846006]\n",
      " [0.4920599 ]\n",
      " [0.4590358 ]\n",
      " [0.5489826 ]\n",
      " [0.51619035]\n",
      " [0.60072047]\n",
      " [0.5340369 ]\n",
      " [0.513659  ]\n",
      " [0.5076573 ]\n",
      " [0.42360204]\n",
      " [0.49172476]\n",
      " [0.6392599 ]\n",
      " [0.4690933 ]\n",
      " [0.45276782]\n",
      " [0.55192006]\n",
      " [0.55485505]\n",
      " [0.5065884 ]\n",
      " [0.47388846]\n",
      " [0.5406373 ]\n",
      " [0.5343142 ]\n",
      " [0.47549307]\n",
      " [0.54603606]\n",
      " [0.45797938]\n",
      " [0.42590138]\n",
      " [0.57887375]\n",
      " [0.445456  ]\n",
      " [0.49188414]\n",
      " [0.44835544]\n",
      " [0.5194748 ]\n",
      " [0.5047343 ]\n",
      " [0.5017944 ]\n",
      " [0.48493958]\n",
      " [0.4066471 ]\n",
      " [0.47928673]]\n"
     ]
    }
   ],
   "source": [
    "from keras.models import load_model\n",
    "import numpy as np\n",
    "\n",
    "def get_fraud_chance(model_file, data):\n",
    "    \"\"\"\n",
    "    This function takes a path to a trained machine learning model and an array of data,\n",
    "    and it returns the model's estimates of the likelihood that each data point is fraudulent.\n",
    "    \n",
    "    Arguments:\n",
    "    - model_file: The location of the trained model on the disk.\n",
    "    - data: Array of data points that the model will evaluate. This array should be formatted just like the data used to train the model.\n",
    "    \n",
    "    Outcome:\n",
    "    - An array with each data point's estimated fraud likelihood according to the model.\n",
    "    \"\"\"\n",
    "    # Opening the model from the given file\n",
    "    trained_model = load_model(model_file)\n",
    "    \n",
    "    # Making predictions with the model on the provided data\n",
    "    fraud_chances = trained_model.predict(data)\n",
    "    \n",
    "    return fraud_chances\n",
    "\n",
    "# Example: Predicting with a hypothetical model\n",
    "# Setting up variables for demonstration. The real values depend on your specific model and data.\n",
    "sample_count = 100  # Suppose you have 100 pieces of data\n",
    "expected_shape = (20,)  # Suppose each piece of data should have 20 features\n",
    "\n",
    "# Creating random data for the demonstration. In real use, you'd have actual data here.\n",
    "data_samples = np.random.rand(sample_count, *expected_shape)\n",
    "\n",
    "# Calling the function with the model's file path and the sample data\n",
    "predicted_fraud_chances = get_fraud_chance('model_saved.h5', data_samples)\n",
    "\n",
    "# Showing the model's fraud likelihood estimates for the sample data\n",
    "print(predicted_fraud_chances)\n"
   ]
  },
  {
   "cell_type": "code",
   "execution_count": null,
   "id": "02325606",
   "metadata": {},
   "outputs": [],
   "source": [
    "# Design and Training - CNN Model"
   ]
  },
  {
   "cell_type": "code",
   "execution_count": 13,
   "id": "fad46994",
   "metadata": {},
   "outputs": [
    {
     "name": "stdout",
     "output_type": "stream",
     "text": [
      "Epoch 1/10\n",
      "3/3 [==============================] - 1s 64ms/step - loss: 0.7069 - accuracy: 0.5750 - val_loss: 0.6963 - val_accuracy: 0.4000\n",
      "Epoch 2/10\n",
      "3/3 [==============================] - 0s 22ms/step - loss: 0.7136 - accuracy: 0.4750 - val_loss: 0.6932 - val_accuracy: 0.6500\n",
      "Epoch 3/10\n",
      "3/3 [==============================] - 0s 24ms/step - loss: 0.7190 - accuracy: 0.4750 - val_loss: 0.6940 - val_accuracy: 0.6000\n",
      "Epoch 4/10\n",
      "3/3 [==============================] - 0s 33ms/step - loss: 0.6846 - accuracy: 0.5250 - val_loss: 0.6964 - val_accuracy: 0.6000\n",
      "Epoch 5/10\n",
      "3/3 [==============================] - 0s 31ms/step - loss: 0.6861 - accuracy: 0.5750 - val_loss: 0.7019 - val_accuracy: 0.5500\n",
      "Epoch 6/10\n",
      "3/3 [==============================] - 0s 28ms/step - loss: 0.6479 - accuracy: 0.5875 - val_loss: 0.7046 - val_accuracy: 0.5500\n",
      "Epoch 7/10\n",
      "3/3 [==============================] - 0s 30ms/step - loss: 0.6812 - accuracy: 0.5625 - val_loss: 0.7035 - val_accuracy: 0.5500\n",
      "Epoch 8/10\n",
      "3/3 [==============================] - 0s 35ms/step - loss: 0.6368 - accuracy: 0.5625 - val_loss: 0.7015 - val_accuracy: 0.5500\n",
      "Epoch 9/10\n",
      "3/3 [==============================] - 0s 36ms/step - loss: 0.6673 - accuracy: 0.6125 - val_loss: 0.6996 - val_accuracy: 0.5500\n",
      "Epoch 10/10\n",
      "3/3 [==============================] - 0s 36ms/step - loss: 0.6584 - accuracy: 0.5625 - val_loss: 0.7008 - val_accuracy: 0.6000\n",
      "Final Training Loss: 0.6584\n",
      "Final Training Accuracy: 0.5625\n",
      "Final Validation Loss: 0.7008\n",
      "Final Validation Accuracy: 0.6000\n",
      "Model training complete and saved as cnn_model.h5.\n"
     ]
    }
   ],
   "source": [
    "from keras.models import Sequential, save_model\n",
    "from keras.layers import Conv1D, MaxPooling1D, Flatten, Dense, Dropout\n",
    "from keras.optimizers import Adam\n",
    "from sklearn.model_selection import train_test_split\n",
    "import numpy as np\n",
    "\n",
    "def configure_cnn_model(input_length, num_features):\n",
    "    \"\"\"Configures a basic one-dimensional Convolutional Neural Network (CNN).\"\"\"\n",
    "    model = Sequential([\n",
    "        Conv1D(filters=32, kernel_size=3, activation='relu', input_shape=(input_length, num_features)),\n",
    "        MaxPooling1D(pool_size=2),\n",
    "        Flatten(),\n",
    "        Dense(64, activation='relu'),\n",
    "        Dropout(0.5),\n",
    "        Dense(1, activation='sigmoid')\n",
    "    ])\n",
    "    model.compile(optimizer=Adam(learning_rate=0.001), loss='binary_crossentropy', metrics=['accuracy'])\n",
    "    return model\n",
    "\n",
    "def prepare_and_train_model(input_length=12, num_features=20, epochs=10, batch_size=32, test_split=0.2, sample_size=100):\n",
    "    \"\"\"\n",
    "    Generates synthetic data and uses it to train the CNN model.\n",
    "    This method streamlines the process of dataset creation and model training.\n",
    "    \"\"\"\n",
    "    # Generating synthetic data\n",
    "    features = np.random.rand(sample_size, input_length, num_features)\n",
    "    labels = np.random.randint(2, size=(sample_size,))\n",
    "\n",
    "    # Splitting the dataset into training and validation sets\n",
    "    X_train, X_val, y_train, y_val = train_test_split(features, labels, test_size=test_split, random_state=42)\n",
    "    \n",
    "    # Setting up the CNN model\n",
    "    model = configure_cnn_model(input_length, num_features)\n",
    "    \n",
    "    # Training the model with the synthetic data\n",
    "    training_summary = model.fit(X_train, y_train, epochs=epochs, batch_size=batch_size, validation_data=(X_val, y_val), verbose=1)\n",
    "    \n",
    "    # Displaying training and validation results\n",
    "    print(f\"Final Training Loss: {training_summary.history['loss'][-1]:.4f}\")\n",
    "    print(f\"Final Training Accuracy: {training_summary.history['accuracy'][-1]:.4f}\")\n",
    "    print(f\"Final Validation Loss: {training_summary.history['val_loss'][-1]:.4f}\")\n",
    "    print(f\"Final Validation Accuracy: {training_summary.history['val_accuracy'][-1]:.4f}\")\n",
    "    \n",
    "    # Saving the trained model to a file\n",
    "    model.save('cnn_model.h5')\n",
    "    print(\"Model training complete and saved as cnn_model.h5.\")\n",
    "\n",
    "# Running the training process with predefined settings\n",
    "prepare_and_train_model()\n"
   ]
  },
  {
   "cell_type": "code",
   "execution_count": 28,
   "id": "9d03ae93",
   "metadata": {},
   "outputs": [
    {
     "name": "stdout",
     "output_type": "stream",
     "text": [
      "4/4 [==============================] - 0s 2ms/step\n",
      "    Data Point  Estimated Fraud Risk\n",
      "60          61              0.465374\n",
      "61          62              0.493880\n",
      "62          63              0.443990\n",
      "63          64              0.429173\n",
      "64          65              0.466889\n",
      "65          66              0.460390\n",
      "66          67              0.463025\n",
      "67          68              0.402221\n",
      "68          69              0.448434\n",
      "69          70              0.480064\n",
      "70          71              0.487817\n",
      "71          72              0.450295\n",
      "72          73              0.474668\n",
      "73          74              0.549166\n",
      "74          75              0.446582\n",
      "75          76              0.462259\n",
      "76          77              0.442445\n",
      "77          78              0.431418\n",
      "78          79              0.423260\n",
      "79          80              0.434580\n",
      "80          81              0.440837\n",
      "81          82              0.501706\n",
      "82          83              0.459737\n",
      "83          84              0.465574\n",
      "84          85              0.446140\n",
      "85          86              0.446018\n",
      "86          87              0.470842\n",
      "87          88              0.481460\n",
      "88          89              0.496065\n",
      "89          90              0.462689\n",
      "90          91              0.464013\n",
      "91          92              0.438579\n",
      "92          93              0.471038\n",
      "93          94              0.466346\n",
      "94          95              0.475125\n",
      "95          96              0.453399\n",
      "96          97              0.469426\n",
      "97          98              0.449409\n",
      "98          99              0.448404\n",
      "99         100              0.471260\n"
     ]
    }
   ],
   "source": [
    "from keras.models import load_model\n",
    "import numpy as np\n",
    "import pandas as pd\n",
    "\n",
    "def evaluate_fraud_risk(model_file, input_data):\n",
    "    \"\"\"\n",
    "    This function opens a machine learning model that's been trained to identify fraud.\n",
    "    It examines each data point provided to estimate its likelihood of being fraudulent.\n",
    "    The results are organized into a table, making it easier to understand the model's assessments.\n",
    "    \n",
    "    Arguments:\n",
    "    - model_file: The file location of the machine learning model.\n",
    "    - input_data: Data for the model to evaluate, formatted as an array. This array must be prepared in the same way as the data used for training the model.\n",
    "    \n",
    "    Outcome:\n",
    "    - A table (DataFrame) showing each data point with its calculated fraud risk.\n",
    "    \"\"\"\n",
    "    # Opening the specified machine learning model\n",
    "    trained_model = load_model(model_file)\n",
    "    \n",
    "    # Using the model to estimate fraud risk for the provided data\n",
    "    estimated_risk = trained_model.predict(input_data).flatten()\n",
    "    \n",
    "    # Organizing the risk estimates into a table\n",
    "    risk_table = pd.DataFrame({\n",
    "        'Data Point': np.arange(1, len(estimated_risk) + 1), \n",
    "        'Estimated Fraud Risk': estimated_risk\n",
    "    })\n",
    "    \n",
    "    # Sharing the organized table\n",
    "    return risk_table\n",
    "\n",
    "# For the purpose of demonstration, synthetic data resembling the model's training format is created\n",
    "sample_size = 100  # Suppose there are 100 data points to evaluate\n",
    "sequence_length = 12  # Each data point is a sequence of 12 steps\n",
    "feature_count = 20  # Each step in the sequence has 20 features\n",
    "simulated_data = np.random.rand(sample_size, sequence_length, feature_count)\n",
    "\n",
    "# Predicting fraud risk with the provided model file and simulated data\n",
    "fraud_risk_table = evaluate_fraud_risk('cnn_model.h5', simulated_data)\n",
    "# Showing the first 40 data points and their estimated fraud risk for clarity\n",
    "print(fraud_risk_table.tail(40))\n"
   ]
  },
  {
   "cell_type": "code",
   "execution_count": null,
   "id": "3db96922",
   "metadata": {},
   "outputs": [],
   "source": []
  },
  {
   "cell_type": "code",
   "execution_count": null,
   "id": "05c587ed",
   "metadata": {},
   "outputs": [],
   "source": []
  },
  {
   "cell_type": "code",
   "execution_count": null,
   "id": "60e3f3ab",
   "metadata": {},
   "outputs": [],
   "source": []
  },
  {
   "cell_type": "code",
   "execution_count": null,
   "id": "f6c85e58",
   "metadata": {},
   "outputs": [],
   "source": []
  },
  {
   "cell_type": "code",
   "execution_count": null,
   "id": "27537815",
   "metadata": {},
   "outputs": [],
   "source": []
  },
  {
   "cell_type": "code",
   "execution_count": null,
   "id": "ca0cd13f",
   "metadata": {},
   "outputs": [],
   "source": []
  },
  {
   "cell_type": "code",
   "execution_count": null,
   "id": "2cf15d19",
   "metadata": {},
   "outputs": [],
   "source": []
  },
  {
   "cell_type": "code",
   "execution_count": null,
   "id": "61840155",
   "metadata": {},
   "outputs": [],
   "source": []
  },
  {
   "cell_type": "code",
   "execution_count": null,
   "id": "c883f48e",
   "metadata": {},
   "outputs": [],
   "source": []
  },
  {
   "cell_type": "code",
   "execution_count": null,
   "id": "3cca9e3d",
   "metadata": {},
   "outputs": [],
   "source": []
  },
  {
   "cell_type": "code",
   "execution_count": null,
   "id": "1c556154",
   "metadata": {},
   "outputs": [],
   "source": []
  },
  {
   "cell_type": "code",
   "execution_count": null,
   "id": "8dee429b",
   "metadata": {},
   "outputs": [],
   "source": []
  },
  {
   "cell_type": "code",
   "execution_count": null,
   "id": "530ec28c",
   "metadata": {},
   "outputs": [],
   "source": []
  },
  {
   "cell_type": "code",
   "execution_count": null,
   "id": "0a4e4887",
   "metadata": {},
   "outputs": [],
   "source": []
  },
  {
   "cell_type": "code",
   "execution_count": null,
   "id": "7bcc4e84",
   "metadata": {},
   "outputs": [],
   "source": []
  },
  {
   "cell_type": "code",
   "execution_count": null,
   "id": "6e125133",
   "metadata": {},
   "outputs": [],
   "source": []
  },
  {
   "cell_type": "code",
   "execution_count": null,
   "id": "e9fc5a6f",
   "metadata": {},
   "outputs": [],
   "source": []
  },
  {
   "cell_type": "code",
   "execution_count": null,
   "id": "235ce0d1",
   "metadata": {},
   "outputs": [],
   "source": []
  },
  {
   "cell_type": "code",
   "execution_count": null,
   "id": "9f89bad0",
   "metadata": {},
   "outputs": [],
   "source": []
  },
  {
   "cell_type": "code",
   "execution_count": null,
   "id": "ccb91e37",
   "metadata": {},
   "outputs": [],
   "source": []
  },
  {
   "cell_type": "code",
   "execution_count": null,
   "id": "cc9d9b7b",
   "metadata": {},
   "outputs": [],
   "source": []
  },
  {
   "cell_type": "code",
   "execution_count": null,
   "id": "8d14c69a",
   "metadata": {},
   "outputs": [],
   "source": []
  },
  {
   "cell_type": "code",
   "execution_count": null,
   "id": "71b4e6ad",
   "metadata": {},
   "outputs": [],
   "source": []
  },
  {
   "cell_type": "code",
   "execution_count": null,
   "id": "271a97e7",
   "metadata": {},
   "outputs": [],
   "source": [
    "ddddd"
   ]
  },
  {
   "cell_type": "code",
   "execution_count": null,
   "id": "271052ee",
   "metadata": {},
   "outputs": [],
   "source": [
    "d"
   ]
  },
  {
   "cell_type": "code",
   "execution_count": null,
   "id": "d1cc621f",
   "metadata": {},
   "outputs": [],
   "source": []
  },
  {
   "cell_type": "code",
   "execution_count": null,
   "id": "25113eee",
   "metadata": {},
   "outputs": [],
   "source": []
  },
  {
   "cell_type": "code",
   "execution_count": null,
   "id": "620fbef7",
   "metadata": {},
   "outputs": [],
   "source": []
  },
  {
   "cell_type": "code",
   "execution_count": null,
   "id": "d103d579",
   "metadata": {},
   "outputs": [],
   "source": []
  },
  {
   "cell_type": "code",
   "execution_count": null,
   "id": "4235eaf9",
   "metadata": {},
   "outputs": [],
   "source": []
  },
  {
   "cell_type": "code",
   "execution_count": null,
   "id": "8c0ad362",
   "metadata": {},
   "outputs": [],
   "source": []
  },
  {
   "cell_type": "code",
   "execution_count": null,
   "id": "945bfe8d",
   "metadata": {},
   "outputs": [],
   "source": []
  },
  {
   "cell_type": "code",
   "execution_count": null,
   "id": "f777994d",
   "metadata": {},
   "outputs": [],
   "source": []
  },
  {
   "cell_type": "code",
   "execution_count": null,
   "id": "908568e5",
   "metadata": {},
   "outputs": [],
   "source": []
  },
  {
   "cell_type": "code",
   "execution_count": null,
   "id": "1b257c01",
   "metadata": {},
   "outputs": [],
   "source": []
  },
  {
   "cell_type": "code",
   "execution_count": null,
   "id": "bb00e0c3",
   "metadata": {},
   "outputs": [],
   "source": []
  },
  {
   "cell_type": "code",
   "execution_count": null,
   "id": "8340f623",
   "metadata": {},
   "outputs": [],
   "source": []
  },
  {
   "cell_type": "code",
   "execution_count": null,
   "id": "169ea006",
   "metadata": {},
   "outputs": [],
   "source": []
  },
  {
   "cell_type": "code",
   "execution_count": null,
   "id": "4dd82c7e",
   "metadata": {},
   "outputs": [],
   "source": []
  },
  {
   "cell_type": "code",
   "execution_count": null,
   "id": "7657867f",
   "metadata": {},
   "outputs": [],
   "source": []
  },
  {
   "cell_type": "code",
   "execution_count": null,
   "id": "c2e22b93",
   "metadata": {},
   "outputs": [],
   "source": []
  },
  {
   "cell_type": "code",
   "execution_count": null,
   "id": "209b9575",
   "metadata": {},
   "outputs": [],
   "source": []
  },
  {
   "cell_type": "code",
   "execution_count": null,
   "id": "e520aa6a",
   "metadata": {},
   "outputs": [],
   "source": []
  },
  {
   "cell_type": "code",
   "execution_count": null,
   "id": "44715485",
   "metadata": {},
   "outputs": [],
   "source": []
  },
  {
   "cell_type": "code",
   "execution_count": null,
   "id": "3bc480fa",
   "metadata": {},
   "outputs": [],
   "source": []
  },
  {
   "cell_type": "code",
   "execution_count": null,
   "id": "0c7cd162",
   "metadata": {},
   "outputs": [],
   "source": []
  },
  {
   "cell_type": "code",
   "execution_count": null,
   "id": "3602c71b",
   "metadata": {},
   "outputs": [],
   "source": []
  },
  {
   "cell_type": "code",
   "execution_count": null,
   "id": "af050b0d",
   "metadata": {},
   "outputs": [],
   "source": []
  },
  {
   "cell_type": "code",
   "execution_count": null,
   "id": "cc6a5665",
   "metadata": {},
   "outputs": [],
   "source": []
  },
  {
   "cell_type": "code",
   "execution_count": null,
   "id": "652849e5",
   "metadata": {},
   "outputs": [],
   "source": []
  },
  {
   "cell_type": "code",
   "execution_count": null,
   "id": "c357eadb",
   "metadata": {},
   "outputs": [],
   "source": []
  },
  {
   "cell_type": "code",
   "execution_count": null,
   "id": "b455da30",
   "metadata": {},
   "outputs": [],
   "source": []
  },
  {
   "cell_type": "code",
   "execution_count": null,
   "id": "67a6244e",
   "metadata": {},
   "outputs": [],
   "source": []
  },
  {
   "cell_type": "code",
   "execution_count": null,
   "id": "4dffaa9f",
   "metadata": {},
   "outputs": [],
   "source": []
  },
  {
   "cell_type": "code",
   "execution_count": null,
   "id": "bda0b418",
   "metadata": {},
   "outputs": [],
   "source": []
  },
  {
   "cell_type": "code",
   "execution_count": null,
   "id": "2b3e61cc",
   "metadata": {},
   "outputs": [],
   "source": []
  },
  {
   "cell_type": "code",
   "execution_count": null,
   "id": "8a150d88",
   "metadata": {},
   "outputs": [],
   "source": []
  },
  {
   "cell_type": "code",
   "execution_count": null,
   "id": "f75883be",
   "metadata": {},
   "outputs": [],
   "source": []
  },
  {
   "cell_type": "code",
   "execution_count": null,
   "id": "25c7f9d2",
   "metadata": {},
   "outputs": [],
   "source": []
  },
  {
   "cell_type": "code",
   "execution_count": null,
   "id": "61c22250",
   "metadata": {},
   "outputs": [],
   "source": []
  },
  {
   "cell_type": "code",
   "execution_count": null,
   "id": "90bdb5e6",
   "metadata": {},
   "outputs": [],
   "source": []
  },
  {
   "cell_type": "code",
   "execution_count": null,
   "id": "49e4a80f",
   "metadata": {},
   "outputs": [],
   "source": []
  },
  {
   "cell_type": "code",
   "execution_count": null,
   "id": "c42b57f6",
   "metadata": {},
   "outputs": [],
   "source": []
  },
  {
   "cell_type": "code",
   "execution_count": null,
   "id": "6889c251",
   "metadata": {},
   "outputs": [],
   "source": []
  },
  {
   "cell_type": "code",
   "execution_count": null,
   "id": "726f7801",
   "metadata": {},
   "outputs": [],
   "source": []
  },
  {
   "cell_type": "code",
   "execution_count": null,
   "id": "49c89901",
   "metadata": {},
   "outputs": [],
   "source": []
  },
  {
   "cell_type": "code",
   "execution_count": null,
   "id": "34a811d5",
   "metadata": {},
   "outputs": [],
   "source": []
  },
  {
   "cell_type": "code",
   "execution_count": null,
   "id": "5067525e",
   "metadata": {},
   "outputs": [],
   "source": []
  },
  {
   "cell_type": "code",
   "execution_count": null,
   "id": "a8f43be5",
   "metadata": {},
   "outputs": [],
   "source": []
  },
  {
   "cell_type": "code",
   "execution_count": null,
   "id": "adf0e3f3",
   "metadata": {},
   "outputs": [],
   "source": []
  },
  {
   "cell_type": "code",
   "execution_count": null,
   "id": "b8e439d5",
   "metadata": {},
   "outputs": [],
   "source": []
  },
  {
   "cell_type": "code",
   "execution_count": null,
   "id": "b60fba37",
   "metadata": {},
   "outputs": [],
   "source": []
  },
  {
   "cell_type": "code",
   "execution_count": null,
   "id": "b478039e",
   "metadata": {},
   "outputs": [],
   "source": []
  },
  {
   "cell_type": "code",
   "execution_count": null,
   "id": "9287c937",
   "metadata": {},
   "outputs": [],
   "source": []
  },
  {
   "cell_type": "code",
   "execution_count": null,
   "id": "135d7995",
   "metadata": {},
   "outputs": [],
   "source": []
  },
  {
   "cell_type": "code",
   "execution_count": null,
   "id": "02add97e",
   "metadata": {},
   "outputs": [],
   "source": []
  },
  {
   "cell_type": "code",
   "execution_count": null,
   "id": "947087a0",
   "metadata": {},
   "outputs": [],
   "source": []
  },
  {
   "cell_type": "code",
   "execution_count": null,
   "id": "953c2366",
   "metadata": {},
   "outputs": [],
   "source": []
  },
  {
   "cell_type": "code",
   "execution_count": null,
   "id": "ed2126dc",
   "metadata": {},
   "outputs": [],
   "source": []
  },
  {
   "cell_type": "code",
   "execution_count": null,
   "id": "da825b0a",
   "metadata": {},
   "outputs": [],
   "source": []
  },
  {
   "cell_type": "code",
   "execution_count": null,
   "id": "5e1dd7d1",
   "metadata": {},
   "outputs": [],
   "source": []
  },
  {
   "cell_type": "code",
   "execution_count": null,
   "id": "701e1d80",
   "metadata": {},
   "outputs": [],
   "source": []
  },
  {
   "cell_type": "code",
   "execution_count": null,
   "id": "de264bc5",
   "metadata": {},
   "outputs": [],
   "source": []
  },
  {
   "cell_type": "code",
   "execution_count": null,
   "id": "6e201322",
   "metadata": {},
   "outputs": [],
   "source": []
  },
  {
   "cell_type": "code",
   "execution_count": null,
   "id": "b57ef6dc",
   "metadata": {},
   "outputs": [],
   "source": []
  },
  {
   "cell_type": "code",
   "execution_count": null,
   "id": "e051ccee",
   "metadata": {},
   "outputs": [],
   "source": []
  },
  {
   "cell_type": "code",
   "execution_count": null,
   "id": "786dc24b",
   "metadata": {},
   "outputs": [],
   "source": []
  },
  {
   "cell_type": "code",
   "execution_count": null,
   "id": "5cd65014",
   "metadata": {},
   "outputs": [],
   "source": []
  },
  {
   "cell_type": "code",
   "execution_count": null,
   "id": "5ebb1417",
   "metadata": {},
   "outputs": [],
   "source": []
  },
  {
   "cell_type": "code",
   "execution_count": null,
   "id": "4dacf2de",
   "metadata": {},
   "outputs": [],
   "source": []
  },
  {
   "cell_type": "code",
   "execution_count": null,
   "id": "18aa222a",
   "metadata": {
    "scrolled": true
   },
   "outputs": [],
   "source": []
  },
  {
   "cell_type": "code",
   "execution_count": null,
   "id": "a3bdea37",
   "metadata": {},
   "outputs": [],
   "source": []
  },
  {
   "cell_type": "code",
   "execution_count": null,
   "id": "b80f5cb9",
   "metadata": {},
   "outputs": [],
   "source": []
  },
  {
   "cell_type": "code",
   "execution_count": null,
   "id": "1f8aed9f",
   "metadata": {},
   "outputs": [],
   "source": []
  },
  {
   "cell_type": "code",
   "execution_count": null,
   "id": "c0f74a88",
   "metadata": {},
   "outputs": [],
   "source": []
  },
  {
   "cell_type": "code",
   "execution_count": null,
   "id": "f786ff41",
   "metadata": {},
   "outputs": [],
   "source": []
  },
  {
   "cell_type": "code",
   "execution_count": null,
   "id": "6dcdc174",
   "metadata": {},
   "outputs": [],
   "source": []
  },
  {
   "cell_type": "code",
   "execution_count": null,
   "id": "827bce61",
   "metadata": {},
   "outputs": [],
   "source": []
  },
  {
   "cell_type": "code",
   "execution_count": null,
   "id": "73cdda03",
   "metadata": {},
   "outputs": [],
   "source": []
  },
  {
   "cell_type": "code",
   "execution_count": null,
   "id": "72a53c6b",
   "metadata": {},
   "outputs": [],
   "source": []
  },
  {
   "cell_type": "code",
   "execution_count": null,
   "id": "35ffcdae",
   "metadata": {},
   "outputs": [],
   "source": []
  },
  {
   "cell_type": "code",
   "execution_count": null,
   "id": "795585fd",
   "metadata": {},
   "outputs": [],
   "source": []
  },
  {
   "cell_type": "code",
   "execution_count": null,
   "id": "ad373248",
   "metadata": {},
   "outputs": [],
   "source": []
  },
  {
   "cell_type": "code",
   "execution_count": null,
   "id": "49f3c67e",
   "metadata": {},
   "outputs": [],
   "source": []
  },
  {
   "cell_type": "code",
   "execution_count": null,
   "id": "d9493ba6",
   "metadata": {},
   "outputs": [],
   "source": []
  },
  {
   "cell_type": "code",
   "execution_count": null,
   "id": "37106002",
   "metadata": {},
   "outputs": [],
   "source": []
  },
  {
   "cell_type": "code",
   "execution_count": null,
   "id": "06abbcd8",
   "metadata": {},
   "outputs": [],
   "source": []
  },
  {
   "cell_type": "code",
   "execution_count": null,
   "id": "4a59fc3e",
   "metadata": {},
   "outputs": [],
   "source": []
  },
  {
   "cell_type": "code",
   "execution_count": null,
   "id": "54143c00",
   "metadata": {},
   "outputs": [],
   "source": []
  },
  {
   "cell_type": "code",
   "execution_count": null,
   "id": "a9812fcc",
   "metadata": {},
   "outputs": [],
   "source": []
  },
  {
   "cell_type": "code",
   "execution_count": null,
   "id": "5edd12ea",
   "metadata": {},
   "outputs": [],
   "source": []
  },
  {
   "cell_type": "code",
   "execution_count": null,
   "id": "268dc0f1",
   "metadata": {},
   "outputs": [],
   "source": []
  },
  {
   "cell_type": "code",
   "execution_count": null,
   "id": "c92f1b9d",
   "metadata": {},
   "outputs": [],
   "source": []
  },
  {
   "cell_type": "code",
   "execution_count": null,
   "id": "f004be08",
   "metadata": {},
   "outputs": [],
   "source": []
  },
  {
   "cell_type": "code",
   "execution_count": null,
   "id": "50146c3f",
   "metadata": {},
   "outputs": [],
   "source": []
  },
  {
   "cell_type": "code",
   "execution_count": null,
   "id": "89251399",
   "metadata": {},
   "outputs": [],
   "source": []
  },
  {
   "cell_type": "code",
   "execution_count": null,
   "id": "ea1b25a9",
   "metadata": {},
   "outputs": [],
   "source": []
  },
  {
   "cell_type": "code",
   "execution_count": null,
   "id": "08912385",
   "metadata": {},
   "outputs": [],
   "source": []
  },
  {
   "cell_type": "code",
   "execution_count": null,
   "id": "ce5ff6f0",
   "metadata": {},
   "outputs": [],
   "source": []
  },
  {
   "cell_type": "code",
   "execution_count": null,
   "id": "9d70f48d",
   "metadata": {},
   "outputs": [],
   "source": []
  },
  {
   "cell_type": "code",
   "execution_count": null,
   "id": "3fca8ad1",
   "metadata": {},
   "outputs": [],
   "source": []
  },
  {
   "cell_type": "code",
   "execution_count": null,
   "id": "a9930f43",
   "metadata": {},
   "outputs": [],
   "source": []
  },
  {
   "cell_type": "code",
   "execution_count": null,
   "id": "64b26313",
   "metadata": {},
   "outputs": [],
   "source": []
  },
  {
   "cell_type": "code",
   "execution_count": null,
   "id": "a1f58620",
   "metadata": {},
   "outputs": [],
   "source": []
  },
  {
   "cell_type": "code",
   "execution_count": null,
   "id": "7cb1dc81",
   "metadata": {},
   "outputs": [],
   "source": []
  },
  {
   "cell_type": "code",
   "execution_count": null,
   "id": "ba8629c7",
   "metadata": {},
   "outputs": [],
   "source": []
  },
  {
   "cell_type": "code",
   "execution_count": null,
   "id": "3d75c970",
   "metadata": {},
   "outputs": [],
   "source": []
  },
  {
   "cell_type": "code",
   "execution_count": null,
   "id": "cd17e8e6",
   "metadata": {},
   "outputs": [],
   "source": []
  },
  {
   "cell_type": "code",
   "execution_count": null,
   "id": "ac66ebcb",
   "metadata": {},
   "outputs": [],
   "source": []
  },
  {
   "cell_type": "code",
   "execution_count": null,
   "id": "fe1bf4a5",
   "metadata": {},
   "outputs": [],
   "source": []
  },
  {
   "cell_type": "code",
   "execution_count": null,
   "id": "736c3109",
   "metadata": {},
   "outputs": [],
   "source": []
  },
  {
   "cell_type": "code",
   "execution_count": null,
   "id": "815d90f6",
   "metadata": {},
   "outputs": [],
   "source": []
  },
  {
   "cell_type": "code",
   "execution_count": null,
   "id": "738b61bc",
   "metadata": {},
   "outputs": [],
   "source": []
  },
  {
   "cell_type": "code",
   "execution_count": null,
   "id": "ee443af4",
   "metadata": {},
   "outputs": [],
   "source": []
  },
  {
   "cell_type": "code",
   "execution_count": null,
   "id": "32528d59",
   "metadata": {},
   "outputs": [],
   "source": []
  },
  {
   "cell_type": "code",
   "execution_count": null,
   "id": "26331c9a",
   "metadata": {},
   "outputs": [],
   "source": []
  },
  {
   "cell_type": "code",
   "execution_count": null,
   "id": "96545a9d",
   "metadata": {},
   "outputs": [],
   "source": []
  },
  {
   "cell_type": "code",
   "execution_count": null,
   "id": "d5949c1c",
   "metadata": {},
   "outputs": [],
   "source": []
  },
  {
   "cell_type": "code",
   "execution_count": null,
   "id": "0b0dfa04",
   "metadata": {},
   "outputs": [],
   "source": []
  },
  {
   "cell_type": "code",
   "execution_count": null,
   "id": "0efa3927",
   "metadata": {},
   "outputs": [],
   "source": []
  },
  {
   "cell_type": "code",
   "execution_count": null,
   "id": "4ad2b174",
   "metadata": {},
   "outputs": [],
   "source": []
  },
  {
   "cell_type": "code",
   "execution_count": null,
   "id": "ced810d6",
   "metadata": {},
   "outputs": [],
   "source": []
  },
  {
   "cell_type": "code",
   "execution_count": null,
   "id": "854a91b5",
   "metadata": {},
   "outputs": [],
   "source": []
  },
  {
   "cell_type": "code",
   "execution_count": null,
   "id": "21bd28b9",
   "metadata": {},
   "outputs": [],
   "source": []
  },
  {
   "cell_type": "code",
   "execution_count": null,
   "id": "8ab87719",
   "metadata": {},
   "outputs": [],
   "source": []
  },
  {
   "cell_type": "code",
   "execution_count": null,
   "id": "616a04e2",
   "metadata": {},
   "outputs": [],
   "source": []
  },
  {
   "cell_type": "code",
   "execution_count": null,
   "id": "edd0d50e",
   "metadata": {},
   "outputs": [],
   "source": []
  },
  {
   "cell_type": "code",
   "execution_count": null,
   "id": "680b4e65",
   "metadata": {},
   "outputs": [],
   "source": []
  },
  {
   "cell_type": "code",
   "execution_count": null,
   "id": "084b2cd7",
   "metadata": {},
   "outputs": [],
   "source": []
  },
  {
   "cell_type": "code",
   "execution_count": null,
   "id": "02541bcb",
   "metadata": {},
   "outputs": [],
   "source": []
  },
  {
   "cell_type": "code",
   "execution_count": null,
   "id": "6bc2b0c4",
   "metadata": {},
   "outputs": [],
   "source": []
  },
  {
   "cell_type": "code",
   "execution_count": null,
   "id": "eebfe37e",
   "metadata": {},
   "outputs": [],
   "source": []
  },
  {
   "cell_type": "code",
   "execution_count": null,
   "id": "06bbb75f",
   "metadata": {},
   "outputs": [],
   "source": []
  },
  {
   "cell_type": "code",
   "execution_count": null,
   "id": "980d972a",
   "metadata": {},
   "outputs": [],
   "source": []
  },
  {
   "cell_type": "code",
   "execution_count": null,
   "id": "8716c780",
   "metadata": {},
   "outputs": [],
   "source": []
  },
  {
   "cell_type": "code",
   "execution_count": null,
   "id": "7c16c620",
   "metadata": {},
   "outputs": [],
   "source": []
  },
  {
   "cell_type": "code",
   "execution_count": null,
   "id": "3bedf085",
   "metadata": {},
   "outputs": [],
   "source": []
  },
  {
   "cell_type": "code",
   "execution_count": null,
   "id": "8d65146c",
   "metadata": {},
   "outputs": [],
   "source": []
  },
  {
   "cell_type": "code",
   "execution_count": null,
   "id": "3ca78655",
   "metadata": {},
   "outputs": [],
   "source": []
  },
  {
   "cell_type": "code",
   "execution_count": null,
   "id": "b84ad166",
   "metadata": {
    "scrolled": true
   },
   "outputs": [],
   "source": []
  },
  {
   "cell_type": "code",
   "execution_count": null,
   "id": "623e3c69",
   "metadata": {},
   "outputs": [],
   "source": []
  },
  {
   "cell_type": "code",
   "execution_count": null,
   "id": "6f8d886b",
   "metadata": {},
   "outputs": [],
   "source": []
  },
  {
   "cell_type": "code",
   "execution_count": null,
   "id": "44c47354",
   "metadata": {},
   "outputs": [],
   "source": []
  },
  {
   "cell_type": "code",
   "execution_count": null,
   "id": "116f3743",
   "metadata": {},
   "outputs": [],
   "source": []
  },
  {
   "cell_type": "code",
   "execution_count": null,
   "id": "6f669ebf",
   "metadata": {},
   "outputs": [],
   "source": []
  },
  {
   "cell_type": "code",
   "execution_count": null,
   "id": "dac73272",
   "metadata": {},
   "outputs": [],
   "source": []
  },
  {
   "cell_type": "code",
   "execution_count": null,
   "id": "c1d9cb5f",
   "metadata": {},
   "outputs": [],
   "source": []
  },
  {
   "cell_type": "code",
   "execution_count": null,
   "id": "440bf171",
   "metadata": {},
   "outputs": [],
   "source": []
  },
  {
   "cell_type": "code",
   "execution_count": null,
   "id": "0dfe21f1",
   "metadata": {},
   "outputs": [],
   "source": []
  },
  {
   "cell_type": "code",
   "execution_count": null,
   "id": "9ebf7592",
   "metadata": {},
   "outputs": [],
   "source": []
  },
  {
   "cell_type": "code",
   "execution_count": null,
   "id": "d69a3b36",
   "metadata": {},
   "outputs": [],
   "source": []
  },
  {
   "cell_type": "code",
   "execution_count": null,
   "id": "633f68a1",
   "metadata": {},
   "outputs": [],
   "source": []
  },
  {
   "cell_type": "code",
   "execution_count": null,
   "id": "2dc7552f",
   "metadata": {},
   "outputs": [],
   "source": []
  },
  {
   "cell_type": "code",
   "execution_count": null,
   "id": "3788bcaa",
   "metadata": {},
   "outputs": [],
   "source": []
  },
  {
   "cell_type": "code",
   "execution_count": null,
   "id": "543e6de7",
   "metadata": {},
   "outputs": [],
   "source": []
  },
  {
   "cell_type": "code",
   "execution_count": null,
   "id": "6a94d1e6",
   "metadata": {},
   "outputs": [],
   "source": []
  },
  {
   "cell_type": "code",
   "execution_count": null,
   "id": "742838a8",
   "metadata": {},
   "outputs": [],
   "source": []
  },
  {
   "cell_type": "code",
   "execution_count": null,
   "id": "dd92e1ef",
   "metadata": {},
   "outputs": [],
   "source": []
  },
  {
   "cell_type": "code",
   "execution_count": null,
   "id": "7d73ec5e",
   "metadata": {},
   "outputs": [],
   "source": []
  },
  {
   "cell_type": "code",
   "execution_count": null,
   "id": "55fd9ec3",
   "metadata": {},
   "outputs": [],
   "source": []
  },
  {
   "cell_type": "code",
   "execution_count": null,
   "id": "8f113b14",
   "metadata": {},
   "outputs": [],
   "source": []
  },
  {
   "cell_type": "code",
   "execution_count": null,
   "id": "5aa12248",
   "metadata": {},
   "outputs": [],
   "source": []
  },
  {
   "cell_type": "code",
   "execution_count": null,
   "id": "a74514c6",
   "metadata": {},
   "outputs": [],
   "source": []
  },
  {
   "cell_type": "code",
   "execution_count": null,
   "id": "f2d3967e",
   "metadata": {},
   "outputs": [],
   "source": []
  },
  {
   "cell_type": "code",
   "execution_count": null,
   "id": "f6a04849",
   "metadata": {},
   "outputs": [],
   "source": []
  },
  {
   "cell_type": "code",
   "execution_count": null,
   "id": "7809df2c",
   "metadata": {},
   "outputs": [],
   "source": []
  },
  {
   "cell_type": "code",
   "execution_count": null,
   "id": "3f426539",
   "metadata": {},
   "outputs": [],
   "source": []
  },
  {
   "cell_type": "code",
   "execution_count": null,
   "id": "3629aa20",
   "metadata": {},
   "outputs": [],
   "source": []
  },
  {
   "cell_type": "code",
   "execution_count": null,
   "id": "d496ca8d",
   "metadata": {},
   "outputs": [],
   "source": []
  },
  {
   "cell_type": "code",
   "execution_count": null,
   "id": "19cc31de",
   "metadata": {},
   "outputs": [],
   "source": []
  },
  {
   "cell_type": "code",
   "execution_count": null,
   "id": "26079f17",
   "metadata": {},
   "outputs": [],
   "source": []
  },
  {
   "cell_type": "code",
   "execution_count": null,
   "id": "0f5844a3",
   "metadata": {},
   "outputs": [],
   "source": []
  },
  {
   "cell_type": "code",
   "execution_count": null,
   "id": "44ca387c",
   "metadata": {},
   "outputs": [],
   "source": []
  },
  {
   "cell_type": "code",
   "execution_count": null,
   "id": "dde65d64",
   "metadata": {},
   "outputs": [],
   "source": []
  }
 ],
 "metadata": {
  "kernelspec": {
   "display_name": "Python 3 (ipykernel)",
   "language": "python",
   "name": "python3"
  },
  "language_info": {
   "codemirror_mode": {
    "name": "ipython",
    "version": 3
   },
   "file_extension": ".py",
   "mimetype": "text/x-python",
   "name": "python",
   "nbconvert_exporter": "python",
   "pygments_lexer": "ipython3",
   "version": "3.10.12"
  }
 },
 "nbformat": 4,
 "nbformat_minor": 5
}
